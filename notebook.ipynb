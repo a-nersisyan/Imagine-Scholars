{
 "cells": [
  {
   "cell_type": "markdown",
   "source": "# DSS Imagine Scholar Workshop 9/27\n## Introduction to the Data Science Lifecycle",
   "metadata": {
    "tags": [],
    "cell_id": "00000-e2da9713-f682-41cc-a8bd-d7d8a796c727",
    "output_cleared": false,
    "deepnote_cell_type": "markdown"
   }
  },
  {
   "cell_type": "markdown",
   "source": "#### _Updated at 4:40 pm on Sept 26_: \n\n#### A note to our wonderful participants! My apologizies to everyone whose name was not in the SSA dataset. Unfortunately, I had to drop your name from our survey dataset because we would not have been able to make any inferences about your sex and age. Another thing I did to debug the code was to check if there was only one person with that name in the SSA dataset. If so, rather than a make a plot, a sentence will appear in the format: \"There is only one (sex) with the name (name)\". The final thing I did to debug was display the history of your name, given the gender you identify as, not the inferred sex for your name. For example, Taylor is inferred to be a female name, but our participant might be male. We rather plot the history of the name Taylor for males. The name \"claudea\" does not have much showing in the plot because there are actually 5 claudeas born in the same year! You can now see the total count for each name in the title of the graph! I hope you enjoyed this interactive demo! \n#### P.s. Feel free to contact me on Facebook if you want to discuss this notebook more in depth! -Armine Nersisyan",
   "metadata": {
    "tags": [],
    "cell_id": "00001-11df3bd7-6fd0-4cf5-8799-0ed3914b5222",
    "output_cleared": false,
    "deepnote_cell_type": "markdown"
   }
  },
  {
   "cell_type": "markdown",
   "source": "Some terms to be familiar with:\n- **pandas** - A software library written for the Python programming language for data manipulation and analysis.\n- **dataframe** - Pandas equivalent to a table. \n- **series** - Pandas equivalent to a column. _*see the \"Series vs DataFrame\" screenshot in the files_\n- **boolean** - A data type that has two possible values: True or False. True + True = 2. False + False = 0. True + False = 1.\n- **string** - A data type that is a finite sequence of characters (letters, numbers, symbols, punctuation marks), enclosed by quotation marks. \n- **distribution** - The possible values for a variable and how often they occur.",
   "metadata": {
    "tags": [],
    "cell_id": "00001-bf6dc671-b160-47da-85e6-02e97ca4b1eb",
    "output_cleared": false,
    "deepnote_cell_type": "markdown"
   }
  },
  {
   "cell_type": "markdown",
   "source": "As a reminder, these are general four steps of the data science lifecycle:\n\n1. [x] Formulating a question or problem (What can names tell us about the sex and age distribution of a population?)\n2. [ ] Acquiring and cleaning data\n3. [ ] Conducting exploratory data analysis (We do this in two parts: one for sex, one for age)\n4. [ ] Using prediction and inference to draw conclusions (We do this in two parts: one for sex, one for age)\n___\nThe data for this demonstration come from two sources:\n\n1. The survey taken at the beginning of this workshop\n2. [Social Security Administration](https://www.ssa.gov/oact/babynames/background.html). The following is a brief background taken from the website:\n        \n        All names are from Social Security card applications for births that occurred in the United States after 1879. Note that many people born before 1937 never applied for a Social Security card, so their names are not included in our data. For others who did apply, our records may not show the place of birth, and again their names are not included in our data. All data are from a 100% sample of our records on Social Security card applications as of March 2020.\n\n\n**Note:** Coding might be new and seem scary to many of you. Instead of focusing on the code, focus on the process. ",
   "metadata": {
    "tags": [],
    "cell_id": "00001-b793310f-4997-4515-8106-797c70fa0b4a",
    "output_cleared": false,
    "deepnote_cell_type": "markdown"
   }
  },
  {
   "cell_type": "code",
   "metadata": {
    "tags": [],
    "cell_id": "00001-ce077401-9b7a-4110-8022-c54c012b8cc8",
    "output_cleared": false,
    "deepnote_to_be_reexecuted": false,
    "source_hash": "ae198248",
    "execution_start": 1622069481749,
    "execution_millis": 3867,
    "deepnote_cell_type": "code"
   },
   "source": "# import libraries\nimport pandas as pd\nimport numpy as np\n!pip install seaborn\nimport seaborn as sns\nimport zipfile\nimport matplotlib.pyplot as plt\nimport warnings\nwarnings.filterwarnings(\"ignore\")",
   "execution_count": 1,
   "outputs": [
    {
     "name": "stdout",
     "text": "Requirement already satisfied: seaborn in /shared-libs/python3.7/py/lib/python3.7/site-packages (0.11.1)\nRequirement already satisfied: pandas>=0.23 in /shared-libs/python3.7/py/lib/python3.7/site-packages (from seaborn) (1.2.4)\nRequirement already satisfied: scipy>=1.0 in /shared-libs/python3.7/py/lib/python3.7/site-packages (from seaborn) (1.6.3)\nRequirement already satisfied: numpy>=1.15 in /shared-libs/python3.7/py/lib/python3.7/site-packages (from seaborn) (1.19.5)\nRequirement already satisfied: matplotlib>=2.2 in /shared-libs/python3.7/py/lib/python3.7/site-packages (from seaborn) (3.4.2)\nRequirement already satisfied: kiwisolver>=1.0.1 in /shared-libs/python3.7/py/lib/python3.7/site-packages (from matplotlib>=2.2->seaborn) (1.3.1)\nRequirement already satisfied: pillow>=6.2.0 in /shared-libs/python3.7/py/lib/python3.7/site-packages (from matplotlib>=2.2->seaborn) (8.2.0)\nRequirement already satisfied: cycler>=0.10 in /shared-libs/python3.7/py/lib/python3.7/site-packages (from matplotlib>=2.2->seaborn) (0.10.0)\nRequirement already satisfied: python-dateutil>=2.7 in /shared-libs/python3.7/py-core/lib/python3.7/site-packages (from matplotlib>=2.2->seaborn) (2.8.1)\nRequirement already satisfied: pyparsing>=2.2.1 in /shared-libs/python3.7/py-core/lib/python3.7/site-packages (from matplotlib>=2.2->seaborn) (2.4.7)\nRequirement already satisfied: six in /shared-libs/python3.7/py-core/lib/python3.7/site-packages (from cycler>=0.10->matplotlib>=2.2->seaborn) (1.16.0)\nRequirement already satisfied: pytz>=2017.3 in /shared-libs/python3.7/py/lib/python3.7/site-packages (from pandas>=0.23->seaborn) (2021.1)\n",
     "output_type": "stream"
    }
   ]
  },
  {
   "cell_type": "code",
   "metadata": {
    "tags": [],
    "cell_id": "00001-a7c4fc06-3143-4f2c-b785-72a9c2253b97",
    "output_cleared": false,
    "deepnote_to_be_reexecuted": false,
    "source_hash": "b144318e",
    "execution_start": 1622070012878,
    "execution_millis": 29,
    "deepnote_cell_type": "code"
   },
   "source": "# load dataset 1: survey responses\nresponses = pd.read_csv('/work/9_27 Survey (Responses) - Form Responses 1 (11).csv')\nresponses = responses.rename(columns={'What is your first name?':'name','What is your birthday?':'birthday','What gender do you most identify with?':'sex',})\nresponses",
   "execution_count": 60,
   "outputs": [
    {
     "output_type": "execute_result",
     "execution_count": 60,
     "data": {
      "application/vnd.deepnote.dataframe.v2+json": {
       "row_count": 30,
       "column_count": 4,
       "columns": [
        {
         "name": "Timestamp",
         "dtype": "object",
         "stats": {
          "unique_count": 29,
          "nan_count": 0,
          "categories": [
           {
            "name": "9/26/2020 9:32:19",
            "count": 2
           },
           {
            "name": "9/26/2020 9:31:24",
            "count": 1
           },
           {
            "name": "27 others",
            "count": 27
           }
          ]
         }
        },
        {
         "name": "name",
         "dtype": "object",
         "stats": {
          "unique_count": 29,
          "nan_count": 0,
          "categories": [
           {
            "name": "Sophia",
            "count": 2
           },
           {
            "name": "Joanne",
            "count": 1
           },
           {
            "name": "27 others",
            "count": 27
           }
          ]
         }
        },
        {
         "name": "birthday",
         "dtype": "object",
         "stats": {
          "unique_count": 29,
          "nan_count": 0,
          "categories": [
           {
            "name": "10/20/2000",
            "count": 2
           },
           {
            "name": "4/12/2000",
            "count": 1
           },
           {
            "name": "27 others",
            "count": 27
           }
          ]
         }
        },
        {
         "name": "sex",
         "dtype": "object",
         "stats": {
          "unique_count": 3,
          "nan_count": 0,
          "categories": [
           {
            "name": "Female",
            "count": 16
           },
           {
            "name": "Male",
            "count": 12
           },
           {
            "name": "Other",
            "count": 2
           }
          ]
         }
        },
        {
         "name": "_deepnote_index_column",
         "dtype": "int64"
        }
       ],
       "rows_top": [
        {
         "Timestamp": "9/26/2020 9:31:24",
         "name": "Joanne",
         "birthday": "10/20/2000",
         "sex": "Female",
         "_deepnote_index_column": 0
        },
        {
         "Timestamp": "9/26/2020 9:31:26",
         "name": "Alex",
         "birthday": "4/12/2000",
         "sex": "Male",
         "_deepnote_index_column": 1
        },
        {
         "Timestamp": "9/26/2020 9:31:28",
         "name": "Kiara",
         "birthday": "8/1/2000",
         "sex": "Female",
         "_deepnote_index_column": 2
        },
        {
         "Timestamp": "9/26/2020 9:31:31",
         "name": "Noppakan",
         "birthday": "9/14/2001",
         "sex": "Female",
         "_deepnote_index_column": 3
        },
        {
         "Timestamp": "9/26/2020 9:31:32",
         "name": "Minh-Huy Tran",
         "birthday": "1/20/2002",
         "sex": "Male",
         "_deepnote_index_column": 4
        },
        {
         "Timestamp": "9/26/2020 9:31:36",
         "name": "Haoyu",
         "birthday": "2/22/2001",
         "sex": "Male",
         "_deepnote_index_column": 5
        },
        {
         "Timestamp": "9/26/2020 9:31:37",
         "name": "Jihee ",
         "birthday": "10/20/2000",
         "sex": "Female",
         "_deepnote_index_column": 6
        },
        {
         "Timestamp": "9/26/2020 9:31:42",
         "name": "Jennie",
         "birthday": "1/5/2000",
         "sex": "Female",
         "_deepnote_index_column": 7
        },
        {
         "Timestamp": "9/26/2020 9:31:50",
         "name": "Wyatt Workman",
         "birthday": "2/3/1998",
         "sex": "Male",
         "_deepnote_index_column": 8
        },
        {
         "Timestamp": "9/26/2020 9:31:52",
         "name": "Megan",
         "birthday": "8/11/1999",
         "sex": "Female",
         "_deepnote_index_column": 9
        },
        {
         "Timestamp": "9/26/2020 9:32:02",
         "name": "Hannah",
         "birthday": "8/18/2000",
         "sex": "Female",
         "_deepnote_index_column": 10
        },
        {
         "Timestamp": "9/26/2020 9:32:10",
         "name": "Frances",
         "birthday": "12/8/1998",
         "sex": "Female",
         "_deepnote_index_column": 11
        },
        {
         "Timestamp": "9/26/2020 9:32:13",
         "name": "Tyler",
         "birthday": "7/3/2000",
         "sex": "Male",
         "_deepnote_index_column": 12
        },
        {
         "Timestamp": "9/26/2020 9:32:19",
         "name": "Anna",
         "birthday": "8/19/2002",
         "sex": "Female",
         "_deepnote_index_column": 13
        },
        {
         "Timestamp": "9/26/2020 9:32:19",
         "name": "CJ",
         "birthday": "5/28/2000",
         "sex": "Male",
         "_deepnote_index_column": 14
        },
        {
         "Timestamp": "9/26/2020 9:32:39",
         "name": "Jake",
         "birthday": "11/15/1999",
         "sex": "Male",
         "_deepnote_index_column": 15
        },
        {
         "Timestamp": "9/26/2020 9:32:41",
         "name": "Shail",
         "birthday": "1/21/1999",
         "sex": "Male",
         "_deepnote_index_column": 16
        },
        {
         "Timestamp": "9/26/2020 9:32:49",
         "name": "Aaron",
         "birthday": "4/22/2000",
         "sex": "Male",
         "_deepnote_index_column": 17
        },
        {
         "Timestamp": "9/26/2020 9:33:04",
         "name": "Sophia",
         "birthday": "8/8/1998",
         "sex": "Female",
         "_deepnote_index_column": 18
        },
        {
         "Timestamp": "9/26/2020 9:33:13",
         "name": "Laila Voss",
         "birthday": "3/21/1999",
         "sex": "Female",
         "_deepnote_index_column": 19
        },
        {
         "Timestamp": "9/26/2020 9:36:13",
         "name": "Armine",
         "birthday": "9/9/1998",
         "sex": "Other",
         "_deepnote_index_column": 20
        },
        {
         "Timestamp": "9/26/2020 9:37:37",
         "name": "Stephanie",
         "birthday": "3/11/1999",
         "sex": "Female",
         "_deepnote_index_column": 21
        },
        {
         "Timestamp": "9/26/2020 9:41:41",
         "name": "Claudea",
         "birthday": "1/24/2001",
         "sex": "Female",
         "_deepnote_index_column": 22
        },
        {
         "Timestamp": "9/26/2020 9:43:41",
         "name": "Roshan",
         "birthday": "4/5/1999",
         "sex": "Male",
         "_deepnote_index_column": 23
        },
        {
         "Timestamp": "9/26/2020 9:44:34",
         "name": "Sabrina",
         "birthday": "12/19/2000",
         "sex": "Other",
         "_deepnote_index_column": 24
        },
        {
         "Timestamp": "9/26/2020 9:46:07",
         "name": "Helen",
         "birthday": "5/10/2001",
         "sex": "Female",
         "_deepnote_index_column": 25
        },
        {
         "Timestamp": "9/26/2020 9:46:58",
         "name": "Schuyler",
         "birthday": "1/5/2001",
         "sex": "Male",
         "_deepnote_index_column": 26
        },
        {
         "Timestamp": "9/26/2020 9:47:01",
         "name": "Joyce",
         "birthday": "1/7/2002",
         "sex": "Female",
         "_deepnote_index_column": 27
        },
        {
         "Timestamp": "9/26/2020 9:47:46",
         "name": "Armaan",
         "birthday": "2/16/1999",
         "sex": "Male",
         "_deepnote_index_column": 28
        },
        {
         "Timestamp": "9/26/2020 9:48:02",
         "name": "Sophia",
         "birthday": "11/19/2000",
         "sex": "Female",
         "_deepnote_index_column": 29
        }
       ],
       "rows_bottom": null
      },
      "text/plain": "            Timestamp           name    birthday     sex\n0   9/26/2020 9:31:24         Joanne  10/20/2000  Female\n1   9/26/2020 9:31:26           Alex   4/12/2000    Male\n2   9/26/2020 9:31:28          Kiara    8/1/2000  Female\n3   9/26/2020 9:31:31       Noppakan   9/14/2001  Female\n4   9/26/2020 9:31:32  Minh-Huy Tran   1/20/2002    Male\n5   9/26/2020 9:31:36          Haoyu   2/22/2001    Male\n6   9/26/2020 9:31:37         Jihee   10/20/2000  Female\n7   9/26/2020 9:31:42         Jennie    1/5/2000  Female\n8   9/26/2020 9:31:50  Wyatt Workman    2/3/1998    Male\n9   9/26/2020 9:31:52          Megan   8/11/1999  Female\n10  9/26/2020 9:32:02         Hannah   8/18/2000  Female\n11  9/26/2020 9:32:10        Frances   12/8/1998  Female\n12  9/26/2020 9:32:13          Tyler    7/3/2000    Male\n13  9/26/2020 9:32:19           Anna   8/19/2002  Female\n14  9/26/2020 9:32:19             CJ   5/28/2000    Male\n15  9/26/2020 9:32:39           Jake  11/15/1999    Male\n16  9/26/2020 9:32:41          Shail   1/21/1999    Male\n17  9/26/2020 9:32:49          Aaron   4/22/2000    Male\n18  9/26/2020 9:33:04         Sophia    8/8/1998  Female\n19  9/26/2020 9:33:13     Laila Voss   3/21/1999  Female\n20  9/26/2020 9:36:13         Armine    9/9/1998   Other\n21  9/26/2020 9:37:37      Stephanie   3/11/1999  Female\n22  9/26/2020 9:41:41        Claudea   1/24/2001  Female\n23  9/26/2020 9:43:41         Roshan    4/5/1999    Male\n24  9/26/2020 9:44:34        Sabrina  12/19/2000   Other\n25  9/26/2020 9:46:07          Helen   5/10/2001  Female\n26  9/26/2020 9:46:58       Schuyler    1/5/2001    Male\n27  9/26/2020 9:47:01          Joyce    1/7/2002  Female\n28  9/26/2020 9:47:46         Armaan   2/16/1999    Male\n29  9/26/2020 9:48:02         Sophia  11/19/2000  Female",
      "text/html": "<div>\n<style scoped>\n    .dataframe tbody tr th:only-of-type {\n        vertical-align: middle;\n    }\n\n    .dataframe tbody tr th {\n        vertical-align: top;\n    }\n\n    .dataframe thead th {\n        text-align: right;\n    }\n</style>\n<table border=\"1\" class=\"dataframe\">\n  <thead>\n    <tr style=\"text-align: right;\">\n      <th></th>\n      <th>Timestamp</th>\n      <th>name</th>\n      <th>birthday</th>\n      <th>sex</th>\n    </tr>\n  </thead>\n  <tbody>\n    <tr>\n      <th>0</th>\n      <td>9/26/2020 9:31:24</td>\n      <td>Joanne</td>\n      <td>10/20/2000</td>\n      <td>Female</td>\n    </tr>\n    <tr>\n      <th>1</th>\n      <td>9/26/2020 9:31:26</td>\n      <td>Alex</td>\n      <td>4/12/2000</td>\n      <td>Male</td>\n    </tr>\n    <tr>\n      <th>2</th>\n      <td>9/26/2020 9:31:28</td>\n      <td>Kiara</td>\n      <td>8/1/2000</td>\n      <td>Female</td>\n    </tr>\n    <tr>\n      <th>3</th>\n      <td>9/26/2020 9:31:31</td>\n      <td>Noppakan</td>\n      <td>9/14/2001</td>\n      <td>Female</td>\n    </tr>\n    <tr>\n      <th>4</th>\n      <td>9/26/2020 9:31:32</td>\n      <td>Minh-Huy Tran</td>\n      <td>1/20/2002</td>\n      <td>Male</td>\n    </tr>\n    <tr>\n      <th>5</th>\n      <td>9/26/2020 9:31:36</td>\n      <td>Haoyu</td>\n      <td>2/22/2001</td>\n      <td>Male</td>\n    </tr>\n    <tr>\n      <th>6</th>\n      <td>9/26/2020 9:31:37</td>\n      <td>Jihee</td>\n      <td>10/20/2000</td>\n      <td>Female</td>\n    </tr>\n    <tr>\n      <th>7</th>\n      <td>9/26/2020 9:31:42</td>\n      <td>Jennie</td>\n      <td>1/5/2000</td>\n      <td>Female</td>\n    </tr>\n    <tr>\n      <th>8</th>\n      <td>9/26/2020 9:31:50</td>\n      <td>Wyatt Workman</td>\n      <td>2/3/1998</td>\n      <td>Male</td>\n    </tr>\n    <tr>\n      <th>9</th>\n      <td>9/26/2020 9:31:52</td>\n      <td>Megan</td>\n      <td>8/11/1999</td>\n      <td>Female</td>\n    </tr>\n    <tr>\n      <th>10</th>\n      <td>9/26/2020 9:32:02</td>\n      <td>Hannah</td>\n      <td>8/18/2000</td>\n      <td>Female</td>\n    </tr>\n    <tr>\n      <th>11</th>\n      <td>9/26/2020 9:32:10</td>\n      <td>Frances</td>\n      <td>12/8/1998</td>\n      <td>Female</td>\n    </tr>\n    <tr>\n      <th>12</th>\n      <td>9/26/2020 9:32:13</td>\n      <td>Tyler</td>\n      <td>7/3/2000</td>\n      <td>Male</td>\n    </tr>\n    <tr>\n      <th>13</th>\n      <td>9/26/2020 9:32:19</td>\n      <td>Anna</td>\n      <td>8/19/2002</td>\n      <td>Female</td>\n    </tr>\n    <tr>\n      <th>14</th>\n      <td>9/26/2020 9:32:19</td>\n      <td>CJ</td>\n      <td>5/28/2000</td>\n      <td>Male</td>\n    </tr>\n    <tr>\n      <th>15</th>\n      <td>9/26/2020 9:32:39</td>\n      <td>Jake</td>\n      <td>11/15/1999</td>\n      <td>Male</td>\n    </tr>\n    <tr>\n      <th>16</th>\n      <td>9/26/2020 9:32:41</td>\n      <td>Shail</td>\n      <td>1/21/1999</td>\n      <td>Male</td>\n    </tr>\n    <tr>\n      <th>17</th>\n      <td>9/26/2020 9:32:49</td>\n      <td>Aaron</td>\n      <td>4/22/2000</td>\n      <td>Male</td>\n    </tr>\n    <tr>\n      <th>18</th>\n      <td>9/26/2020 9:33:04</td>\n      <td>Sophia</td>\n      <td>8/8/1998</td>\n      <td>Female</td>\n    </tr>\n    <tr>\n      <th>19</th>\n      <td>9/26/2020 9:33:13</td>\n      <td>Laila Voss</td>\n      <td>3/21/1999</td>\n      <td>Female</td>\n    </tr>\n    <tr>\n      <th>20</th>\n      <td>9/26/2020 9:36:13</td>\n      <td>Armine</td>\n      <td>9/9/1998</td>\n      <td>Other</td>\n    </tr>\n    <tr>\n      <th>21</th>\n      <td>9/26/2020 9:37:37</td>\n      <td>Stephanie</td>\n      <td>3/11/1999</td>\n      <td>Female</td>\n    </tr>\n    <tr>\n      <th>22</th>\n      <td>9/26/2020 9:41:41</td>\n      <td>Claudea</td>\n      <td>1/24/2001</td>\n      <td>Female</td>\n    </tr>\n    <tr>\n      <th>23</th>\n      <td>9/26/2020 9:43:41</td>\n      <td>Roshan</td>\n      <td>4/5/1999</td>\n      <td>Male</td>\n    </tr>\n    <tr>\n      <th>24</th>\n      <td>9/26/2020 9:44:34</td>\n      <td>Sabrina</td>\n      <td>12/19/2000</td>\n      <td>Other</td>\n    </tr>\n    <tr>\n      <th>25</th>\n      <td>9/26/2020 9:46:07</td>\n      <td>Helen</td>\n      <td>5/10/2001</td>\n      <td>Female</td>\n    </tr>\n    <tr>\n      <th>26</th>\n      <td>9/26/2020 9:46:58</td>\n      <td>Schuyler</td>\n      <td>1/5/2001</td>\n      <td>Male</td>\n    </tr>\n    <tr>\n      <th>27</th>\n      <td>9/26/2020 9:47:01</td>\n      <td>Joyce</td>\n      <td>1/7/2002</td>\n      <td>Female</td>\n    </tr>\n    <tr>\n      <th>28</th>\n      <td>9/26/2020 9:47:46</td>\n      <td>Armaan</td>\n      <td>2/16/1999</td>\n      <td>Male</td>\n    </tr>\n    <tr>\n      <th>29</th>\n      <td>9/26/2020 9:48:02</td>\n      <td>Sophia</td>\n      <td>11/19/2000</td>\n      <td>Female</td>\n    </tr>\n  </tbody>\n</table>\n</div>"
     },
     "metadata": {}
    }
   ]
  },
  {
   "cell_type": "code",
   "metadata": {
    "tags": [],
    "cell_id": "00003-98dc41b9-931b-4098-9b17-ae6918ebf3d4",
    "output_cleared": false,
    "deepnote_to_be_reexecuted": false,
    "source_hash": "1cd3d754",
    "execution_start": 1622070018048,
    "execution_millis": 9,
    "deepnote_cell_type": "code"
   },
   "source": "# check for missing values\nresponses.iloc[:,1:].isnull().sum()",
   "execution_count": 61,
   "outputs": [
    {
     "output_type": "execute_result",
     "execution_count": 61,
     "data": {
      "text/plain": "name        0\nbirthday    0\nsex         0\ndtype: int64"
     },
     "metadata": {}
    }
   ]
  },
  {
   "cell_type": "code",
   "metadata": {
    "tags": [],
    "cell_id": "00004-5e519d9c-3706-4ad2-bd90-46c3cd8f82d5",
    "output_cleared": false,
    "deepnote_to_be_reexecuted": false,
    "source_hash": "9218188f",
    "execution_start": 1622070018052,
    "execution_millis": 46,
    "deepnote_cell_type": "code"
   },
   "source": "# drop rows with missing values\nresponses = responses.dropna()\nresponses",
   "execution_count": 62,
   "outputs": [
    {
     "output_type": "execute_result",
     "execution_count": 62,
     "data": {
      "application/vnd.deepnote.dataframe.v2+json": {
       "row_count": 30,
       "column_count": 4,
       "columns": [
        {
         "name": "Timestamp",
         "dtype": "object",
         "stats": {
          "unique_count": 29,
          "nan_count": 0,
          "categories": [
           {
            "name": "9/26/2020 9:32:19",
            "count": 2
           },
           {
            "name": "9/26/2020 9:31:24",
            "count": 1
           },
           {
            "name": "27 others",
            "count": 27
           }
          ]
         }
        },
        {
         "name": "name",
         "dtype": "object",
         "stats": {
          "unique_count": 29,
          "nan_count": 0,
          "categories": [
           {
            "name": "Sophia",
            "count": 2
           },
           {
            "name": "Joanne",
            "count": 1
           },
           {
            "name": "27 others",
            "count": 27
           }
          ]
         }
        },
        {
         "name": "birthday",
         "dtype": "object",
         "stats": {
          "unique_count": 29,
          "nan_count": 0,
          "categories": [
           {
            "name": "10/20/2000",
            "count": 2
           },
           {
            "name": "4/12/2000",
            "count": 1
           },
           {
            "name": "27 others",
            "count": 27
           }
          ]
         }
        },
        {
         "name": "sex",
         "dtype": "object",
         "stats": {
          "unique_count": 3,
          "nan_count": 0,
          "categories": [
           {
            "name": "Female",
            "count": 16
           },
           {
            "name": "Male",
            "count": 12
           },
           {
            "name": "Other",
            "count": 2
           }
          ]
         }
        },
        {
         "name": "_deepnote_index_column",
         "dtype": "int64"
        }
       ],
       "rows_top": [
        {
         "Timestamp": "9/26/2020 9:31:24",
         "name": "Joanne",
         "birthday": "10/20/2000",
         "sex": "Female",
         "_deepnote_index_column": 0
        },
        {
         "Timestamp": "9/26/2020 9:31:26",
         "name": "Alex",
         "birthday": "4/12/2000",
         "sex": "Male",
         "_deepnote_index_column": 1
        },
        {
         "Timestamp": "9/26/2020 9:31:28",
         "name": "Kiara",
         "birthday": "8/1/2000",
         "sex": "Female",
         "_deepnote_index_column": 2
        },
        {
         "Timestamp": "9/26/2020 9:31:31",
         "name": "Noppakan",
         "birthday": "9/14/2001",
         "sex": "Female",
         "_deepnote_index_column": 3
        },
        {
         "Timestamp": "9/26/2020 9:31:32",
         "name": "Minh-Huy Tran",
         "birthday": "1/20/2002",
         "sex": "Male",
         "_deepnote_index_column": 4
        },
        {
         "Timestamp": "9/26/2020 9:31:36",
         "name": "Haoyu",
         "birthday": "2/22/2001",
         "sex": "Male",
         "_deepnote_index_column": 5
        },
        {
         "Timestamp": "9/26/2020 9:31:37",
         "name": "Jihee ",
         "birthday": "10/20/2000",
         "sex": "Female",
         "_deepnote_index_column": 6
        },
        {
         "Timestamp": "9/26/2020 9:31:42",
         "name": "Jennie",
         "birthday": "1/5/2000",
         "sex": "Female",
         "_deepnote_index_column": 7
        },
        {
         "Timestamp": "9/26/2020 9:31:50",
         "name": "Wyatt Workman",
         "birthday": "2/3/1998",
         "sex": "Male",
         "_deepnote_index_column": 8
        },
        {
         "Timestamp": "9/26/2020 9:31:52",
         "name": "Megan",
         "birthday": "8/11/1999",
         "sex": "Female",
         "_deepnote_index_column": 9
        },
        {
         "Timestamp": "9/26/2020 9:32:02",
         "name": "Hannah",
         "birthday": "8/18/2000",
         "sex": "Female",
         "_deepnote_index_column": 10
        },
        {
         "Timestamp": "9/26/2020 9:32:10",
         "name": "Frances",
         "birthday": "12/8/1998",
         "sex": "Female",
         "_deepnote_index_column": 11
        },
        {
         "Timestamp": "9/26/2020 9:32:13",
         "name": "Tyler",
         "birthday": "7/3/2000",
         "sex": "Male",
         "_deepnote_index_column": 12
        },
        {
         "Timestamp": "9/26/2020 9:32:19",
         "name": "Anna",
         "birthday": "8/19/2002",
         "sex": "Female",
         "_deepnote_index_column": 13
        },
        {
         "Timestamp": "9/26/2020 9:32:19",
         "name": "CJ",
         "birthday": "5/28/2000",
         "sex": "Male",
         "_deepnote_index_column": 14
        },
        {
         "Timestamp": "9/26/2020 9:32:39",
         "name": "Jake",
         "birthday": "11/15/1999",
         "sex": "Male",
         "_deepnote_index_column": 15
        },
        {
         "Timestamp": "9/26/2020 9:32:41",
         "name": "Shail",
         "birthday": "1/21/1999",
         "sex": "Male",
         "_deepnote_index_column": 16
        },
        {
         "Timestamp": "9/26/2020 9:32:49",
         "name": "Aaron",
         "birthday": "4/22/2000",
         "sex": "Male",
         "_deepnote_index_column": 17
        },
        {
         "Timestamp": "9/26/2020 9:33:04",
         "name": "Sophia",
         "birthday": "8/8/1998",
         "sex": "Female",
         "_deepnote_index_column": 18
        },
        {
         "Timestamp": "9/26/2020 9:33:13",
         "name": "Laila Voss",
         "birthday": "3/21/1999",
         "sex": "Female",
         "_deepnote_index_column": 19
        },
        {
         "Timestamp": "9/26/2020 9:36:13",
         "name": "Armine",
         "birthday": "9/9/1998",
         "sex": "Other",
         "_deepnote_index_column": 20
        },
        {
         "Timestamp": "9/26/2020 9:37:37",
         "name": "Stephanie",
         "birthday": "3/11/1999",
         "sex": "Female",
         "_deepnote_index_column": 21
        },
        {
         "Timestamp": "9/26/2020 9:41:41",
         "name": "Claudea",
         "birthday": "1/24/2001",
         "sex": "Female",
         "_deepnote_index_column": 22
        },
        {
         "Timestamp": "9/26/2020 9:43:41",
         "name": "Roshan",
         "birthday": "4/5/1999",
         "sex": "Male",
         "_deepnote_index_column": 23
        },
        {
         "Timestamp": "9/26/2020 9:44:34",
         "name": "Sabrina",
         "birthday": "12/19/2000",
         "sex": "Other",
         "_deepnote_index_column": 24
        },
        {
         "Timestamp": "9/26/2020 9:46:07",
         "name": "Helen",
         "birthday": "5/10/2001",
         "sex": "Female",
         "_deepnote_index_column": 25
        },
        {
         "Timestamp": "9/26/2020 9:46:58",
         "name": "Schuyler",
         "birthday": "1/5/2001",
         "sex": "Male",
         "_deepnote_index_column": 26
        },
        {
         "Timestamp": "9/26/2020 9:47:01",
         "name": "Joyce",
         "birthday": "1/7/2002",
         "sex": "Female",
         "_deepnote_index_column": 27
        },
        {
         "Timestamp": "9/26/2020 9:47:46",
         "name": "Armaan",
         "birthday": "2/16/1999",
         "sex": "Male",
         "_deepnote_index_column": 28
        },
        {
         "Timestamp": "9/26/2020 9:48:02",
         "name": "Sophia",
         "birthday": "11/19/2000",
         "sex": "Female",
         "_deepnote_index_column": 29
        }
       ],
       "rows_bottom": null
      },
      "text/plain": "            Timestamp           name    birthday     sex\n0   9/26/2020 9:31:24         Joanne  10/20/2000  Female\n1   9/26/2020 9:31:26           Alex   4/12/2000    Male\n2   9/26/2020 9:31:28          Kiara    8/1/2000  Female\n3   9/26/2020 9:31:31       Noppakan   9/14/2001  Female\n4   9/26/2020 9:31:32  Minh-Huy Tran   1/20/2002    Male\n5   9/26/2020 9:31:36          Haoyu   2/22/2001    Male\n6   9/26/2020 9:31:37         Jihee   10/20/2000  Female\n7   9/26/2020 9:31:42         Jennie    1/5/2000  Female\n8   9/26/2020 9:31:50  Wyatt Workman    2/3/1998    Male\n9   9/26/2020 9:31:52          Megan   8/11/1999  Female\n10  9/26/2020 9:32:02         Hannah   8/18/2000  Female\n11  9/26/2020 9:32:10        Frances   12/8/1998  Female\n12  9/26/2020 9:32:13          Tyler    7/3/2000    Male\n13  9/26/2020 9:32:19           Anna   8/19/2002  Female\n14  9/26/2020 9:32:19             CJ   5/28/2000    Male\n15  9/26/2020 9:32:39           Jake  11/15/1999    Male\n16  9/26/2020 9:32:41          Shail   1/21/1999    Male\n17  9/26/2020 9:32:49          Aaron   4/22/2000    Male\n18  9/26/2020 9:33:04         Sophia    8/8/1998  Female\n19  9/26/2020 9:33:13     Laila Voss   3/21/1999  Female\n20  9/26/2020 9:36:13         Armine    9/9/1998   Other\n21  9/26/2020 9:37:37      Stephanie   3/11/1999  Female\n22  9/26/2020 9:41:41        Claudea   1/24/2001  Female\n23  9/26/2020 9:43:41         Roshan    4/5/1999    Male\n24  9/26/2020 9:44:34        Sabrina  12/19/2000   Other\n25  9/26/2020 9:46:07          Helen   5/10/2001  Female\n26  9/26/2020 9:46:58       Schuyler    1/5/2001    Male\n27  9/26/2020 9:47:01          Joyce    1/7/2002  Female\n28  9/26/2020 9:47:46         Armaan   2/16/1999    Male\n29  9/26/2020 9:48:02         Sophia  11/19/2000  Female",
      "text/html": "<div>\n<style scoped>\n    .dataframe tbody tr th:only-of-type {\n        vertical-align: middle;\n    }\n\n    .dataframe tbody tr th {\n        vertical-align: top;\n    }\n\n    .dataframe thead th {\n        text-align: right;\n    }\n</style>\n<table border=\"1\" class=\"dataframe\">\n  <thead>\n    <tr style=\"text-align: right;\">\n      <th></th>\n      <th>Timestamp</th>\n      <th>name</th>\n      <th>birthday</th>\n      <th>sex</th>\n    </tr>\n  </thead>\n  <tbody>\n    <tr>\n      <th>0</th>\n      <td>9/26/2020 9:31:24</td>\n      <td>Joanne</td>\n      <td>10/20/2000</td>\n      <td>Female</td>\n    </tr>\n    <tr>\n      <th>1</th>\n      <td>9/26/2020 9:31:26</td>\n      <td>Alex</td>\n      <td>4/12/2000</td>\n      <td>Male</td>\n    </tr>\n    <tr>\n      <th>2</th>\n      <td>9/26/2020 9:31:28</td>\n      <td>Kiara</td>\n      <td>8/1/2000</td>\n      <td>Female</td>\n    </tr>\n    <tr>\n      <th>3</th>\n      <td>9/26/2020 9:31:31</td>\n      <td>Noppakan</td>\n      <td>9/14/2001</td>\n      <td>Female</td>\n    </tr>\n    <tr>\n      <th>4</th>\n      <td>9/26/2020 9:31:32</td>\n      <td>Minh-Huy Tran</td>\n      <td>1/20/2002</td>\n      <td>Male</td>\n    </tr>\n    <tr>\n      <th>5</th>\n      <td>9/26/2020 9:31:36</td>\n      <td>Haoyu</td>\n      <td>2/22/2001</td>\n      <td>Male</td>\n    </tr>\n    <tr>\n      <th>6</th>\n      <td>9/26/2020 9:31:37</td>\n      <td>Jihee</td>\n      <td>10/20/2000</td>\n      <td>Female</td>\n    </tr>\n    <tr>\n      <th>7</th>\n      <td>9/26/2020 9:31:42</td>\n      <td>Jennie</td>\n      <td>1/5/2000</td>\n      <td>Female</td>\n    </tr>\n    <tr>\n      <th>8</th>\n      <td>9/26/2020 9:31:50</td>\n      <td>Wyatt Workman</td>\n      <td>2/3/1998</td>\n      <td>Male</td>\n    </tr>\n    <tr>\n      <th>9</th>\n      <td>9/26/2020 9:31:52</td>\n      <td>Megan</td>\n      <td>8/11/1999</td>\n      <td>Female</td>\n    </tr>\n    <tr>\n      <th>10</th>\n      <td>9/26/2020 9:32:02</td>\n      <td>Hannah</td>\n      <td>8/18/2000</td>\n      <td>Female</td>\n    </tr>\n    <tr>\n      <th>11</th>\n      <td>9/26/2020 9:32:10</td>\n      <td>Frances</td>\n      <td>12/8/1998</td>\n      <td>Female</td>\n    </tr>\n    <tr>\n      <th>12</th>\n      <td>9/26/2020 9:32:13</td>\n      <td>Tyler</td>\n      <td>7/3/2000</td>\n      <td>Male</td>\n    </tr>\n    <tr>\n      <th>13</th>\n      <td>9/26/2020 9:32:19</td>\n      <td>Anna</td>\n      <td>8/19/2002</td>\n      <td>Female</td>\n    </tr>\n    <tr>\n      <th>14</th>\n      <td>9/26/2020 9:32:19</td>\n      <td>CJ</td>\n      <td>5/28/2000</td>\n      <td>Male</td>\n    </tr>\n    <tr>\n      <th>15</th>\n      <td>9/26/2020 9:32:39</td>\n      <td>Jake</td>\n      <td>11/15/1999</td>\n      <td>Male</td>\n    </tr>\n    <tr>\n      <th>16</th>\n      <td>9/26/2020 9:32:41</td>\n      <td>Shail</td>\n      <td>1/21/1999</td>\n      <td>Male</td>\n    </tr>\n    <tr>\n      <th>17</th>\n      <td>9/26/2020 9:32:49</td>\n      <td>Aaron</td>\n      <td>4/22/2000</td>\n      <td>Male</td>\n    </tr>\n    <tr>\n      <th>18</th>\n      <td>9/26/2020 9:33:04</td>\n      <td>Sophia</td>\n      <td>8/8/1998</td>\n      <td>Female</td>\n    </tr>\n    <tr>\n      <th>19</th>\n      <td>9/26/2020 9:33:13</td>\n      <td>Laila Voss</td>\n      <td>3/21/1999</td>\n      <td>Female</td>\n    </tr>\n    <tr>\n      <th>20</th>\n      <td>9/26/2020 9:36:13</td>\n      <td>Armine</td>\n      <td>9/9/1998</td>\n      <td>Other</td>\n    </tr>\n    <tr>\n      <th>21</th>\n      <td>9/26/2020 9:37:37</td>\n      <td>Stephanie</td>\n      <td>3/11/1999</td>\n      <td>Female</td>\n    </tr>\n    <tr>\n      <th>22</th>\n      <td>9/26/2020 9:41:41</td>\n      <td>Claudea</td>\n      <td>1/24/2001</td>\n      <td>Female</td>\n    </tr>\n    <tr>\n      <th>23</th>\n      <td>9/26/2020 9:43:41</td>\n      <td>Roshan</td>\n      <td>4/5/1999</td>\n      <td>Male</td>\n    </tr>\n    <tr>\n      <th>24</th>\n      <td>9/26/2020 9:44:34</td>\n      <td>Sabrina</td>\n      <td>12/19/2000</td>\n      <td>Other</td>\n    </tr>\n    <tr>\n      <th>25</th>\n      <td>9/26/2020 9:46:07</td>\n      <td>Helen</td>\n      <td>5/10/2001</td>\n      <td>Female</td>\n    </tr>\n    <tr>\n      <th>26</th>\n      <td>9/26/2020 9:46:58</td>\n      <td>Schuyler</td>\n      <td>1/5/2001</td>\n      <td>Male</td>\n    </tr>\n    <tr>\n      <th>27</th>\n      <td>9/26/2020 9:47:01</td>\n      <td>Joyce</td>\n      <td>1/7/2002</td>\n      <td>Female</td>\n    </tr>\n    <tr>\n      <th>28</th>\n      <td>9/26/2020 9:47:46</td>\n      <td>Armaan</td>\n      <td>2/16/1999</td>\n      <td>Male</td>\n    </tr>\n    <tr>\n      <th>29</th>\n      <td>9/26/2020 9:48:02</td>\n      <td>Sophia</td>\n      <td>11/19/2000</td>\n      <td>Female</td>\n    </tr>\n  </tbody>\n</table>\n</div>"
     },
     "metadata": {}
    }
   ]
  },
  {
   "cell_type": "code",
   "metadata": {
    "tags": [],
    "cell_id": "00005-9454336f-0f5b-4b20-a096-963f945f6258",
    "output_cleared": false,
    "deepnote_to_be_reexecuted": false,
    "source_hash": "bea3c0fd",
    "execution_start": 1622070018081,
    "execution_millis": 17,
    "deepnote_cell_type": "code"
   },
   "source": "# check to make sure missing values are dropped\nresponses.iloc[:,1:].isnull().sum()",
   "execution_count": 63,
   "outputs": [
    {
     "output_type": "execute_result",
     "execution_count": 63,
     "data": {
      "text/plain": "name        0\nbirthday    0\nsex         0\ndtype: int64"
     },
     "metadata": {}
    }
   ]
  },
  {
   "cell_type": "code",
   "metadata": {
    "tags": [],
    "cell_id": "00006-1ed5e6b6-2672-42c5-9399-2766dc6a1751",
    "output_cleared": false,
    "deepnote_to_be_reexecuted": false,
    "source_hash": "d64bbcbd",
    "execution_start": 1622070018091,
    "execution_millis": 10,
    "deepnote_cell_type": "code"
   },
   "source": "# check that participants answered with just their first name\n\n# create a boolean column by checking for a condition, which is if there is only 1 word per name entry\nresponses['first name only?'] = responses['name'].str.split(\" \").str.len() == 1\nprint(\"number of incorrect name entries: {}\".format((responses['first name only?'] == False).sum()))\n\n# drop the \"first name only?\" column\nresponses = responses.drop('first name only?', axis=1)",
   "execution_count": 64,
   "outputs": [
    {
     "name": "stdout",
     "text": "number of incorrect name entries: 4\n",
     "output_type": "stream"
    }
   ]
  },
  {
   "cell_type": "code",
   "metadata": {
    "tags": [],
    "cell_id": "00008-30cdbe9d-d115-4a4d-b47b-a09201c39c0a",
    "output_cleared": false,
    "deepnote_to_be_reexecuted": false,
    "source_hash": "2a0d8b1a",
    "execution_start": 1622070018116,
    "execution_millis": 18,
    "deepnote_cell_type": "code"
   },
   "source": "# instead of dropping those rows and risk losing data, we can extract the first name using string methods\nresponses['name'] = responses['name'].str.split(\" \").apply(lambda x: x[0])\nresponses",
   "execution_count": 65,
   "outputs": [
    {
     "output_type": "execute_result",
     "execution_count": 65,
     "data": {
      "application/vnd.deepnote.dataframe.v2+json": {
       "row_count": 30,
       "column_count": 4,
       "columns": [
        {
         "name": "Timestamp",
         "dtype": "object",
         "stats": {
          "unique_count": 29,
          "nan_count": 0,
          "categories": [
           {
            "name": "9/26/2020 9:32:19",
            "count": 2
           },
           {
            "name": "9/26/2020 9:31:24",
            "count": 1
           },
           {
            "name": "27 others",
            "count": 27
           }
          ]
         }
        },
        {
         "name": "name",
         "dtype": "object",
         "stats": {
          "unique_count": 29,
          "nan_count": 0,
          "categories": [
           {
            "name": "Sophia",
            "count": 2
           },
           {
            "name": "Joanne",
            "count": 1
           },
           {
            "name": "27 others",
            "count": 27
           }
          ]
         }
        },
        {
         "name": "birthday",
         "dtype": "object",
         "stats": {
          "unique_count": 29,
          "nan_count": 0,
          "categories": [
           {
            "name": "10/20/2000",
            "count": 2
           },
           {
            "name": "4/12/2000",
            "count": 1
           },
           {
            "name": "27 others",
            "count": 27
           }
          ]
         }
        },
        {
         "name": "sex",
         "dtype": "object",
         "stats": {
          "unique_count": 3,
          "nan_count": 0,
          "categories": [
           {
            "name": "Female",
            "count": 16
           },
           {
            "name": "Male",
            "count": 12
           },
           {
            "name": "Other",
            "count": 2
           }
          ]
         }
        },
        {
         "name": "_deepnote_index_column",
         "dtype": "int64"
        }
       ],
       "rows_top": [
        {
         "Timestamp": "9/26/2020 9:31:24",
         "name": "Joanne",
         "birthday": "10/20/2000",
         "sex": "Female",
         "_deepnote_index_column": 0
        },
        {
         "Timestamp": "9/26/2020 9:31:26",
         "name": "Alex",
         "birthday": "4/12/2000",
         "sex": "Male",
         "_deepnote_index_column": 1
        },
        {
         "Timestamp": "9/26/2020 9:31:28",
         "name": "Kiara",
         "birthday": "8/1/2000",
         "sex": "Female",
         "_deepnote_index_column": 2
        },
        {
         "Timestamp": "9/26/2020 9:31:31",
         "name": "Noppakan",
         "birthday": "9/14/2001",
         "sex": "Female",
         "_deepnote_index_column": 3
        },
        {
         "Timestamp": "9/26/2020 9:31:32",
         "name": "Minh-Huy",
         "birthday": "1/20/2002",
         "sex": "Male",
         "_deepnote_index_column": 4
        },
        {
         "Timestamp": "9/26/2020 9:31:36",
         "name": "Haoyu",
         "birthday": "2/22/2001",
         "sex": "Male",
         "_deepnote_index_column": 5
        },
        {
         "Timestamp": "9/26/2020 9:31:37",
         "name": "Jihee",
         "birthday": "10/20/2000",
         "sex": "Female",
         "_deepnote_index_column": 6
        },
        {
         "Timestamp": "9/26/2020 9:31:42",
         "name": "Jennie",
         "birthday": "1/5/2000",
         "sex": "Female",
         "_deepnote_index_column": 7
        },
        {
         "Timestamp": "9/26/2020 9:31:50",
         "name": "Wyatt",
         "birthday": "2/3/1998",
         "sex": "Male",
         "_deepnote_index_column": 8
        },
        {
         "Timestamp": "9/26/2020 9:31:52",
         "name": "Megan",
         "birthday": "8/11/1999",
         "sex": "Female",
         "_deepnote_index_column": 9
        },
        {
         "Timestamp": "9/26/2020 9:32:02",
         "name": "Hannah",
         "birthday": "8/18/2000",
         "sex": "Female",
         "_deepnote_index_column": 10
        },
        {
         "Timestamp": "9/26/2020 9:32:10",
         "name": "Frances",
         "birthday": "12/8/1998",
         "sex": "Female",
         "_deepnote_index_column": 11
        },
        {
         "Timestamp": "9/26/2020 9:32:13",
         "name": "Tyler",
         "birthday": "7/3/2000",
         "sex": "Male",
         "_deepnote_index_column": 12
        },
        {
         "Timestamp": "9/26/2020 9:32:19",
         "name": "Anna",
         "birthday": "8/19/2002",
         "sex": "Female",
         "_deepnote_index_column": 13
        },
        {
         "Timestamp": "9/26/2020 9:32:19",
         "name": "CJ",
         "birthday": "5/28/2000",
         "sex": "Male",
         "_deepnote_index_column": 14
        },
        {
         "Timestamp": "9/26/2020 9:32:39",
         "name": "Jake",
         "birthday": "11/15/1999",
         "sex": "Male",
         "_deepnote_index_column": 15
        },
        {
         "Timestamp": "9/26/2020 9:32:41",
         "name": "Shail",
         "birthday": "1/21/1999",
         "sex": "Male",
         "_deepnote_index_column": 16
        },
        {
         "Timestamp": "9/26/2020 9:32:49",
         "name": "Aaron",
         "birthday": "4/22/2000",
         "sex": "Male",
         "_deepnote_index_column": 17
        },
        {
         "Timestamp": "9/26/2020 9:33:04",
         "name": "Sophia",
         "birthday": "8/8/1998",
         "sex": "Female",
         "_deepnote_index_column": 18
        },
        {
         "Timestamp": "9/26/2020 9:33:13",
         "name": "Laila",
         "birthday": "3/21/1999",
         "sex": "Female",
         "_deepnote_index_column": 19
        },
        {
         "Timestamp": "9/26/2020 9:36:13",
         "name": "Armine",
         "birthday": "9/9/1998",
         "sex": "Other",
         "_deepnote_index_column": 20
        },
        {
         "Timestamp": "9/26/2020 9:37:37",
         "name": "Stephanie",
         "birthday": "3/11/1999",
         "sex": "Female",
         "_deepnote_index_column": 21
        },
        {
         "Timestamp": "9/26/2020 9:41:41",
         "name": "Claudea",
         "birthday": "1/24/2001",
         "sex": "Female",
         "_deepnote_index_column": 22
        },
        {
         "Timestamp": "9/26/2020 9:43:41",
         "name": "Roshan",
         "birthday": "4/5/1999",
         "sex": "Male",
         "_deepnote_index_column": 23
        },
        {
         "Timestamp": "9/26/2020 9:44:34",
         "name": "Sabrina",
         "birthday": "12/19/2000",
         "sex": "Other",
         "_deepnote_index_column": 24
        },
        {
         "Timestamp": "9/26/2020 9:46:07",
         "name": "Helen",
         "birthday": "5/10/2001",
         "sex": "Female",
         "_deepnote_index_column": 25
        },
        {
         "Timestamp": "9/26/2020 9:46:58",
         "name": "Schuyler",
         "birthday": "1/5/2001",
         "sex": "Male",
         "_deepnote_index_column": 26
        },
        {
         "Timestamp": "9/26/2020 9:47:01",
         "name": "Joyce",
         "birthday": "1/7/2002",
         "sex": "Female",
         "_deepnote_index_column": 27
        },
        {
         "Timestamp": "9/26/2020 9:47:46",
         "name": "Armaan",
         "birthday": "2/16/1999",
         "sex": "Male",
         "_deepnote_index_column": 28
        },
        {
         "Timestamp": "9/26/2020 9:48:02",
         "name": "Sophia",
         "birthday": "11/19/2000",
         "sex": "Female",
         "_deepnote_index_column": 29
        }
       ],
       "rows_bottom": null
      },
      "text/plain": "            Timestamp       name    birthday     sex\n0   9/26/2020 9:31:24     Joanne  10/20/2000  Female\n1   9/26/2020 9:31:26       Alex   4/12/2000    Male\n2   9/26/2020 9:31:28      Kiara    8/1/2000  Female\n3   9/26/2020 9:31:31   Noppakan   9/14/2001  Female\n4   9/26/2020 9:31:32   Minh-Huy   1/20/2002    Male\n5   9/26/2020 9:31:36      Haoyu   2/22/2001    Male\n6   9/26/2020 9:31:37      Jihee  10/20/2000  Female\n7   9/26/2020 9:31:42     Jennie    1/5/2000  Female\n8   9/26/2020 9:31:50      Wyatt    2/3/1998    Male\n9   9/26/2020 9:31:52      Megan   8/11/1999  Female\n10  9/26/2020 9:32:02     Hannah   8/18/2000  Female\n11  9/26/2020 9:32:10    Frances   12/8/1998  Female\n12  9/26/2020 9:32:13      Tyler    7/3/2000    Male\n13  9/26/2020 9:32:19       Anna   8/19/2002  Female\n14  9/26/2020 9:32:19         CJ   5/28/2000    Male\n15  9/26/2020 9:32:39       Jake  11/15/1999    Male\n16  9/26/2020 9:32:41      Shail   1/21/1999    Male\n17  9/26/2020 9:32:49      Aaron   4/22/2000    Male\n18  9/26/2020 9:33:04     Sophia    8/8/1998  Female\n19  9/26/2020 9:33:13      Laila   3/21/1999  Female\n20  9/26/2020 9:36:13     Armine    9/9/1998   Other\n21  9/26/2020 9:37:37  Stephanie   3/11/1999  Female\n22  9/26/2020 9:41:41    Claudea   1/24/2001  Female\n23  9/26/2020 9:43:41     Roshan    4/5/1999    Male\n24  9/26/2020 9:44:34    Sabrina  12/19/2000   Other\n25  9/26/2020 9:46:07      Helen   5/10/2001  Female\n26  9/26/2020 9:46:58   Schuyler    1/5/2001    Male\n27  9/26/2020 9:47:01      Joyce    1/7/2002  Female\n28  9/26/2020 9:47:46     Armaan   2/16/1999    Male\n29  9/26/2020 9:48:02     Sophia  11/19/2000  Female",
      "text/html": "<div>\n<style scoped>\n    .dataframe tbody tr th:only-of-type {\n        vertical-align: middle;\n    }\n\n    .dataframe tbody tr th {\n        vertical-align: top;\n    }\n\n    .dataframe thead th {\n        text-align: right;\n    }\n</style>\n<table border=\"1\" class=\"dataframe\">\n  <thead>\n    <tr style=\"text-align: right;\">\n      <th></th>\n      <th>Timestamp</th>\n      <th>name</th>\n      <th>birthday</th>\n      <th>sex</th>\n    </tr>\n  </thead>\n  <tbody>\n    <tr>\n      <th>0</th>\n      <td>9/26/2020 9:31:24</td>\n      <td>Joanne</td>\n      <td>10/20/2000</td>\n      <td>Female</td>\n    </tr>\n    <tr>\n      <th>1</th>\n      <td>9/26/2020 9:31:26</td>\n      <td>Alex</td>\n      <td>4/12/2000</td>\n      <td>Male</td>\n    </tr>\n    <tr>\n      <th>2</th>\n      <td>9/26/2020 9:31:28</td>\n      <td>Kiara</td>\n      <td>8/1/2000</td>\n      <td>Female</td>\n    </tr>\n    <tr>\n      <th>3</th>\n      <td>9/26/2020 9:31:31</td>\n      <td>Noppakan</td>\n      <td>9/14/2001</td>\n      <td>Female</td>\n    </tr>\n    <tr>\n      <th>4</th>\n      <td>9/26/2020 9:31:32</td>\n      <td>Minh-Huy</td>\n      <td>1/20/2002</td>\n      <td>Male</td>\n    </tr>\n    <tr>\n      <th>5</th>\n      <td>9/26/2020 9:31:36</td>\n      <td>Haoyu</td>\n      <td>2/22/2001</td>\n      <td>Male</td>\n    </tr>\n    <tr>\n      <th>6</th>\n      <td>9/26/2020 9:31:37</td>\n      <td>Jihee</td>\n      <td>10/20/2000</td>\n      <td>Female</td>\n    </tr>\n    <tr>\n      <th>7</th>\n      <td>9/26/2020 9:31:42</td>\n      <td>Jennie</td>\n      <td>1/5/2000</td>\n      <td>Female</td>\n    </tr>\n    <tr>\n      <th>8</th>\n      <td>9/26/2020 9:31:50</td>\n      <td>Wyatt</td>\n      <td>2/3/1998</td>\n      <td>Male</td>\n    </tr>\n    <tr>\n      <th>9</th>\n      <td>9/26/2020 9:31:52</td>\n      <td>Megan</td>\n      <td>8/11/1999</td>\n      <td>Female</td>\n    </tr>\n    <tr>\n      <th>10</th>\n      <td>9/26/2020 9:32:02</td>\n      <td>Hannah</td>\n      <td>8/18/2000</td>\n      <td>Female</td>\n    </tr>\n    <tr>\n      <th>11</th>\n      <td>9/26/2020 9:32:10</td>\n      <td>Frances</td>\n      <td>12/8/1998</td>\n      <td>Female</td>\n    </tr>\n    <tr>\n      <th>12</th>\n      <td>9/26/2020 9:32:13</td>\n      <td>Tyler</td>\n      <td>7/3/2000</td>\n      <td>Male</td>\n    </tr>\n    <tr>\n      <th>13</th>\n      <td>9/26/2020 9:32:19</td>\n      <td>Anna</td>\n      <td>8/19/2002</td>\n      <td>Female</td>\n    </tr>\n    <tr>\n      <th>14</th>\n      <td>9/26/2020 9:32:19</td>\n      <td>CJ</td>\n      <td>5/28/2000</td>\n      <td>Male</td>\n    </tr>\n    <tr>\n      <th>15</th>\n      <td>9/26/2020 9:32:39</td>\n      <td>Jake</td>\n      <td>11/15/1999</td>\n      <td>Male</td>\n    </tr>\n    <tr>\n      <th>16</th>\n      <td>9/26/2020 9:32:41</td>\n      <td>Shail</td>\n      <td>1/21/1999</td>\n      <td>Male</td>\n    </tr>\n    <tr>\n      <th>17</th>\n      <td>9/26/2020 9:32:49</td>\n      <td>Aaron</td>\n      <td>4/22/2000</td>\n      <td>Male</td>\n    </tr>\n    <tr>\n      <th>18</th>\n      <td>9/26/2020 9:33:04</td>\n      <td>Sophia</td>\n      <td>8/8/1998</td>\n      <td>Female</td>\n    </tr>\n    <tr>\n      <th>19</th>\n      <td>9/26/2020 9:33:13</td>\n      <td>Laila</td>\n      <td>3/21/1999</td>\n      <td>Female</td>\n    </tr>\n    <tr>\n      <th>20</th>\n      <td>9/26/2020 9:36:13</td>\n      <td>Armine</td>\n      <td>9/9/1998</td>\n      <td>Other</td>\n    </tr>\n    <tr>\n      <th>21</th>\n      <td>9/26/2020 9:37:37</td>\n      <td>Stephanie</td>\n      <td>3/11/1999</td>\n      <td>Female</td>\n    </tr>\n    <tr>\n      <th>22</th>\n      <td>9/26/2020 9:41:41</td>\n      <td>Claudea</td>\n      <td>1/24/2001</td>\n      <td>Female</td>\n    </tr>\n    <tr>\n      <th>23</th>\n      <td>9/26/2020 9:43:41</td>\n      <td>Roshan</td>\n      <td>4/5/1999</td>\n      <td>Male</td>\n    </tr>\n    <tr>\n      <th>24</th>\n      <td>9/26/2020 9:44:34</td>\n      <td>Sabrina</td>\n      <td>12/19/2000</td>\n      <td>Other</td>\n    </tr>\n    <tr>\n      <th>25</th>\n      <td>9/26/2020 9:46:07</td>\n      <td>Helen</td>\n      <td>5/10/2001</td>\n      <td>Female</td>\n    </tr>\n    <tr>\n      <th>26</th>\n      <td>9/26/2020 9:46:58</td>\n      <td>Schuyler</td>\n      <td>1/5/2001</td>\n      <td>Male</td>\n    </tr>\n    <tr>\n      <th>27</th>\n      <td>9/26/2020 9:47:01</td>\n      <td>Joyce</td>\n      <td>1/7/2002</td>\n      <td>Female</td>\n    </tr>\n    <tr>\n      <th>28</th>\n      <td>9/26/2020 9:47:46</td>\n      <td>Armaan</td>\n      <td>2/16/1999</td>\n      <td>Male</td>\n    </tr>\n    <tr>\n      <th>29</th>\n      <td>9/26/2020 9:48:02</td>\n      <td>Sophia</td>\n      <td>11/19/2000</td>\n      <td>Female</td>\n    </tr>\n  </tbody>\n</table>\n</div>"
     },
     "metadata": {}
    }
   ]
  },
  {
   "cell_type": "code",
   "metadata": {
    "tags": [],
    "cell_id": "00009-9754ed6c-c7fc-4347-a6ed-0348fb74bb5a",
    "output_cleared": false,
    "deepnote_to_be_reexecuted": false,
    "source_hash": "2ad778bb",
    "execution_start": 1622070018124,
    "execution_millis": 12,
    "deepnote_cell_type": "code"
   },
   "source": "# make sure we are using only first names\nresponses['first name only?'] = responses['name'].str.split(\" \").str.len() == 1\nprint(\"number of incorrect name entries: {}\".format((responses['first name only?'] == False).sum()))\n\n# drop the \"first name only?\" column\nresponses = responses.drop('first name only?', axis=1)",
   "execution_count": 66,
   "outputs": [
    {
     "name": "stdout",
     "text": "number of incorrect name entries: 0\n",
     "output_type": "stream"
    }
   ]
  },
  {
   "cell_type": "code",
   "metadata": {
    "tags": [],
    "cell_id": "00003-76d632df-0ad1-4347-863b-70694a67f8c2",
    "output_cleared": false,
    "deepnote_to_be_reexecuted": false,
    "source_hash": "138dd048",
    "execution_start": 1622070018143,
    "execution_millis": 12,
    "deepnote_cell_type": "code"
   },
   "source": "# standardize the names by making them lowercase, python is case sensitive\nresponses['name'] = responses['name'].str.lower()\nresponses",
   "execution_count": 67,
   "outputs": [
    {
     "output_type": "execute_result",
     "execution_count": 67,
     "data": {
      "application/vnd.deepnote.dataframe.v2+json": {
       "row_count": 30,
       "column_count": 4,
       "columns": [
        {
         "name": "Timestamp",
         "dtype": "object",
         "stats": {
          "unique_count": 29,
          "nan_count": 0,
          "categories": [
           {
            "name": "9/26/2020 9:32:19",
            "count": 2
           },
           {
            "name": "9/26/2020 9:31:24",
            "count": 1
           },
           {
            "name": "27 others",
            "count": 27
           }
          ]
         }
        },
        {
         "name": "name",
         "dtype": "object",
         "stats": {
          "unique_count": 29,
          "nan_count": 0,
          "categories": [
           {
            "name": "sophia",
            "count": 2
           },
           {
            "name": "joanne",
            "count": 1
           },
           {
            "name": "27 others",
            "count": 27
           }
          ]
         }
        },
        {
         "name": "birthday",
         "dtype": "object",
         "stats": {
          "unique_count": 29,
          "nan_count": 0,
          "categories": [
           {
            "name": "10/20/2000",
            "count": 2
           },
           {
            "name": "4/12/2000",
            "count": 1
           },
           {
            "name": "27 others",
            "count": 27
           }
          ]
         }
        },
        {
         "name": "sex",
         "dtype": "object",
         "stats": {
          "unique_count": 3,
          "nan_count": 0,
          "categories": [
           {
            "name": "Female",
            "count": 16
           },
           {
            "name": "Male",
            "count": 12
           },
           {
            "name": "Other",
            "count": 2
           }
          ]
         }
        },
        {
         "name": "_deepnote_index_column",
         "dtype": "int64"
        }
       ],
       "rows_top": [
        {
         "Timestamp": "9/26/2020 9:31:24",
         "name": "joanne",
         "birthday": "10/20/2000",
         "sex": "Female",
         "_deepnote_index_column": 0
        },
        {
         "Timestamp": "9/26/2020 9:31:26",
         "name": "alex",
         "birthday": "4/12/2000",
         "sex": "Male",
         "_deepnote_index_column": 1
        },
        {
         "Timestamp": "9/26/2020 9:31:28",
         "name": "kiara",
         "birthday": "8/1/2000",
         "sex": "Female",
         "_deepnote_index_column": 2
        },
        {
         "Timestamp": "9/26/2020 9:31:31",
         "name": "noppakan",
         "birthday": "9/14/2001",
         "sex": "Female",
         "_deepnote_index_column": 3
        },
        {
         "Timestamp": "9/26/2020 9:31:32",
         "name": "minh-huy",
         "birthday": "1/20/2002",
         "sex": "Male",
         "_deepnote_index_column": 4
        },
        {
         "Timestamp": "9/26/2020 9:31:36",
         "name": "haoyu",
         "birthday": "2/22/2001",
         "sex": "Male",
         "_deepnote_index_column": 5
        },
        {
         "Timestamp": "9/26/2020 9:31:37",
         "name": "jihee",
         "birthday": "10/20/2000",
         "sex": "Female",
         "_deepnote_index_column": 6
        },
        {
         "Timestamp": "9/26/2020 9:31:42",
         "name": "jennie",
         "birthday": "1/5/2000",
         "sex": "Female",
         "_deepnote_index_column": 7
        },
        {
         "Timestamp": "9/26/2020 9:31:50",
         "name": "wyatt",
         "birthday": "2/3/1998",
         "sex": "Male",
         "_deepnote_index_column": 8
        },
        {
         "Timestamp": "9/26/2020 9:31:52",
         "name": "megan",
         "birthday": "8/11/1999",
         "sex": "Female",
         "_deepnote_index_column": 9
        },
        {
         "Timestamp": "9/26/2020 9:32:02",
         "name": "hannah",
         "birthday": "8/18/2000",
         "sex": "Female",
         "_deepnote_index_column": 10
        },
        {
         "Timestamp": "9/26/2020 9:32:10",
         "name": "frances",
         "birthday": "12/8/1998",
         "sex": "Female",
         "_deepnote_index_column": 11
        },
        {
         "Timestamp": "9/26/2020 9:32:13",
         "name": "tyler",
         "birthday": "7/3/2000",
         "sex": "Male",
         "_deepnote_index_column": 12
        },
        {
         "Timestamp": "9/26/2020 9:32:19",
         "name": "anna",
         "birthday": "8/19/2002",
         "sex": "Female",
         "_deepnote_index_column": 13
        },
        {
         "Timestamp": "9/26/2020 9:32:19",
         "name": "cj",
         "birthday": "5/28/2000",
         "sex": "Male",
         "_deepnote_index_column": 14
        },
        {
         "Timestamp": "9/26/2020 9:32:39",
         "name": "jake",
         "birthday": "11/15/1999",
         "sex": "Male",
         "_deepnote_index_column": 15
        },
        {
         "Timestamp": "9/26/2020 9:32:41",
         "name": "shail",
         "birthday": "1/21/1999",
         "sex": "Male",
         "_deepnote_index_column": 16
        },
        {
         "Timestamp": "9/26/2020 9:32:49",
         "name": "aaron",
         "birthday": "4/22/2000",
         "sex": "Male",
         "_deepnote_index_column": 17
        },
        {
         "Timestamp": "9/26/2020 9:33:04",
         "name": "sophia",
         "birthday": "8/8/1998",
         "sex": "Female",
         "_deepnote_index_column": 18
        },
        {
         "Timestamp": "9/26/2020 9:33:13",
         "name": "laila",
         "birthday": "3/21/1999",
         "sex": "Female",
         "_deepnote_index_column": 19
        },
        {
         "Timestamp": "9/26/2020 9:36:13",
         "name": "armine",
         "birthday": "9/9/1998",
         "sex": "Other",
         "_deepnote_index_column": 20
        },
        {
         "Timestamp": "9/26/2020 9:37:37",
         "name": "stephanie",
         "birthday": "3/11/1999",
         "sex": "Female",
         "_deepnote_index_column": 21
        },
        {
         "Timestamp": "9/26/2020 9:41:41",
         "name": "claudea",
         "birthday": "1/24/2001",
         "sex": "Female",
         "_deepnote_index_column": 22
        },
        {
         "Timestamp": "9/26/2020 9:43:41",
         "name": "roshan",
         "birthday": "4/5/1999",
         "sex": "Male",
         "_deepnote_index_column": 23
        },
        {
         "Timestamp": "9/26/2020 9:44:34",
         "name": "sabrina",
         "birthday": "12/19/2000",
         "sex": "Other",
         "_deepnote_index_column": 24
        },
        {
         "Timestamp": "9/26/2020 9:46:07",
         "name": "helen",
         "birthday": "5/10/2001",
         "sex": "Female",
         "_deepnote_index_column": 25
        },
        {
         "Timestamp": "9/26/2020 9:46:58",
         "name": "schuyler",
         "birthday": "1/5/2001",
         "sex": "Male",
         "_deepnote_index_column": 26
        },
        {
         "Timestamp": "9/26/2020 9:47:01",
         "name": "joyce",
         "birthday": "1/7/2002",
         "sex": "Female",
         "_deepnote_index_column": 27
        },
        {
         "Timestamp": "9/26/2020 9:47:46",
         "name": "armaan",
         "birthday": "2/16/1999",
         "sex": "Male",
         "_deepnote_index_column": 28
        },
        {
         "Timestamp": "9/26/2020 9:48:02",
         "name": "sophia",
         "birthday": "11/19/2000",
         "sex": "Female",
         "_deepnote_index_column": 29
        }
       ],
       "rows_bottom": null
      },
      "text/plain": "            Timestamp       name    birthday     sex\n0   9/26/2020 9:31:24     joanne  10/20/2000  Female\n1   9/26/2020 9:31:26       alex   4/12/2000    Male\n2   9/26/2020 9:31:28      kiara    8/1/2000  Female\n3   9/26/2020 9:31:31   noppakan   9/14/2001  Female\n4   9/26/2020 9:31:32   minh-huy   1/20/2002    Male\n5   9/26/2020 9:31:36      haoyu   2/22/2001    Male\n6   9/26/2020 9:31:37      jihee  10/20/2000  Female\n7   9/26/2020 9:31:42     jennie    1/5/2000  Female\n8   9/26/2020 9:31:50      wyatt    2/3/1998    Male\n9   9/26/2020 9:31:52      megan   8/11/1999  Female\n10  9/26/2020 9:32:02     hannah   8/18/2000  Female\n11  9/26/2020 9:32:10    frances   12/8/1998  Female\n12  9/26/2020 9:32:13      tyler    7/3/2000    Male\n13  9/26/2020 9:32:19       anna   8/19/2002  Female\n14  9/26/2020 9:32:19         cj   5/28/2000    Male\n15  9/26/2020 9:32:39       jake  11/15/1999    Male\n16  9/26/2020 9:32:41      shail   1/21/1999    Male\n17  9/26/2020 9:32:49      aaron   4/22/2000    Male\n18  9/26/2020 9:33:04     sophia    8/8/1998  Female\n19  9/26/2020 9:33:13      laila   3/21/1999  Female\n20  9/26/2020 9:36:13     armine    9/9/1998   Other\n21  9/26/2020 9:37:37  stephanie   3/11/1999  Female\n22  9/26/2020 9:41:41    claudea   1/24/2001  Female\n23  9/26/2020 9:43:41     roshan    4/5/1999    Male\n24  9/26/2020 9:44:34    sabrina  12/19/2000   Other\n25  9/26/2020 9:46:07      helen   5/10/2001  Female\n26  9/26/2020 9:46:58   schuyler    1/5/2001    Male\n27  9/26/2020 9:47:01      joyce    1/7/2002  Female\n28  9/26/2020 9:47:46     armaan   2/16/1999    Male\n29  9/26/2020 9:48:02     sophia  11/19/2000  Female",
      "text/html": "<div>\n<style scoped>\n    .dataframe tbody tr th:only-of-type {\n        vertical-align: middle;\n    }\n\n    .dataframe tbody tr th {\n        vertical-align: top;\n    }\n\n    .dataframe thead th {\n        text-align: right;\n    }\n</style>\n<table border=\"1\" class=\"dataframe\">\n  <thead>\n    <tr style=\"text-align: right;\">\n      <th></th>\n      <th>Timestamp</th>\n      <th>name</th>\n      <th>birthday</th>\n      <th>sex</th>\n    </tr>\n  </thead>\n  <tbody>\n    <tr>\n      <th>0</th>\n      <td>9/26/2020 9:31:24</td>\n      <td>joanne</td>\n      <td>10/20/2000</td>\n      <td>Female</td>\n    </tr>\n    <tr>\n      <th>1</th>\n      <td>9/26/2020 9:31:26</td>\n      <td>alex</td>\n      <td>4/12/2000</td>\n      <td>Male</td>\n    </tr>\n    <tr>\n      <th>2</th>\n      <td>9/26/2020 9:31:28</td>\n      <td>kiara</td>\n      <td>8/1/2000</td>\n      <td>Female</td>\n    </tr>\n    <tr>\n      <th>3</th>\n      <td>9/26/2020 9:31:31</td>\n      <td>noppakan</td>\n      <td>9/14/2001</td>\n      <td>Female</td>\n    </tr>\n    <tr>\n      <th>4</th>\n      <td>9/26/2020 9:31:32</td>\n      <td>minh-huy</td>\n      <td>1/20/2002</td>\n      <td>Male</td>\n    </tr>\n    <tr>\n      <th>5</th>\n      <td>9/26/2020 9:31:36</td>\n      <td>haoyu</td>\n      <td>2/22/2001</td>\n      <td>Male</td>\n    </tr>\n    <tr>\n      <th>6</th>\n      <td>9/26/2020 9:31:37</td>\n      <td>jihee</td>\n      <td>10/20/2000</td>\n      <td>Female</td>\n    </tr>\n    <tr>\n      <th>7</th>\n      <td>9/26/2020 9:31:42</td>\n      <td>jennie</td>\n      <td>1/5/2000</td>\n      <td>Female</td>\n    </tr>\n    <tr>\n      <th>8</th>\n      <td>9/26/2020 9:31:50</td>\n      <td>wyatt</td>\n      <td>2/3/1998</td>\n      <td>Male</td>\n    </tr>\n    <tr>\n      <th>9</th>\n      <td>9/26/2020 9:31:52</td>\n      <td>megan</td>\n      <td>8/11/1999</td>\n      <td>Female</td>\n    </tr>\n    <tr>\n      <th>10</th>\n      <td>9/26/2020 9:32:02</td>\n      <td>hannah</td>\n      <td>8/18/2000</td>\n      <td>Female</td>\n    </tr>\n    <tr>\n      <th>11</th>\n      <td>9/26/2020 9:32:10</td>\n      <td>frances</td>\n      <td>12/8/1998</td>\n      <td>Female</td>\n    </tr>\n    <tr>\n      <th>12</th>\n      <td>9/26/2020 9:32:13</td>\n      <td>tyler</td>\n      <td>7/3/2000</td>\n      <td>Male</td>\n    </tr>\n    <tr>\n      <th>13</th>\n      <td>9/26/2020 9:32:19</td>\n      <td>anna</td>\n      <td>8/19/2002</td>\n      <td>Female</td>\n    </tr>\n    <tr>\n      <th>14</th>\n      <td>9/26/2020 9:32:19</td>\n      <td>cj</td>\n      <td>5/28/2000</td>\n      <td>Male</td>\n    </tr>\n    <tr>\n      <th>15</th>\n      <td>9/26/2020 9:32:39</td>\n      <td>jake</td>\n      <td>11/15/1999</td>\n      <td>Male</td>\n    </tr>\n    <tr>\n      <th>16</th>\n      <td>9/26/2020 9:32:41</td>\n      <td>shail</td>\n      <td>1/21/1999</td>\n      <td>Male</td>\n    </tr>\n    <tr>\n      <th>17</th>\n      <td>9/26/2020 9:32:49</td>\n      <td>aaron</td>\n      <td>4/22/2000</td>\n      <td>Male</td>\n    </tr>\n    <tr>\n      <th>18</th>\n      <td>9/26/2020 9:33:04</td>\n      <td>sophia</td>\n      <td>8/8/1998</td>\n      <td>Female</td>\n    </tr>\n    <tr>\n      <th>19</th>\n      <td>9/26/2020 9:33:13</td>\n      <td>laila</td>\n      <td>3/21/1999</td>\n      <td>Female</td>\n    </tr>\n    <tr>\n      <th>20</th>\n      <td>9/26/2020 9:36:13</td>\n      <td>armine</td>\n      <td>9/9/1998</td>\n      <td>Other</td>\n    </tr>\n    <tr>\n      <th>21</th>\n      <td>9/26/2020 9:37:37</td>\n      <td>stephanie</td>\n      <td>3/11/1999</td>\n      <td>Female</td>\n    </tr>\n    <tr>\n      <th>22</th>\n      <td>9/26/2020 9:41:41</td>\n      <td>claudea</td>\n      <td>1/24/2001</td>\n      <td>Female</td>\n    </tr>\n    <tr>\n      <th>23</th>\n      <td>9/26/2020 9:43:41</td>\n      <td>roshan</td>\n      <td>4/5/1999</td>\n      <td>Male</td>\n    </tr>\n    <tr>\n      <th>24</th>\n      <td>9/26/2020 9:44:34</td>\n      <td>sabrina</td>\n      <td>12/19/2000</td>\n      <td>Other</td>\n    </tr>\n    <tr>\n      <th>25</th>\n      <td>9/26/2020 9:46:07</td>\n      <td>helen</td>\n      <td>5/10/2001</td>\n      <td>Female</td>\n    </tr>\n    <tr>\n      <th>26</th>\n      <td>9/26/2020 9:46:58</td>\n      <td>schuyler</td>\n      <td>1/5/2001</td>\n      <td>Male</td>\n    </tr>\n    <tr>\n      <th>27</th>\n      <td>9/26/2020 9:47:01</td>\n      <td>joyce</td>\n      <td>1/7/2002</td>\n      <td>Female</td>\n    </tr>\n    <tr>\n      <th>28</th>\n      <td>9/26/2020 9:47:46</td>\n      <td>armaan</td>\n      <td>2/16/1999</td>\n      <td>Male</td>\n    </tr>\n    <tr>\n      <th>29</th>\n      <td>9/26/2020 9:48:02</td>\n      <td>sophia</td>\n      <td>11/19/2000</td>\n      <td>Female</td>\n    </tr>\n  </tbody>\n</table>\n</div>"
     },
     "metadata": {}
    }
   ]
  },
  {
   "cell_type": "code",
   "metadata": {
    "tags": [],
    "cell_id": "00010-c5deb13e-288c-47da-a5bb-595b7563cd2d",
    "output_cleared": false,
    "deepnote_to_be_reexecuted": false,
    "source_hash": "aaa0206e",
    "execution_start": 1622070018176,
    "execution_millis": 17,
    "deepnote_cell_type": "code"
   },
   "source": "# use existing columns to create a column for age\ndob = pd.to_datetime(responses['birthday'])\nnow = pd.to_datetime(responses['Timestamp'])\n\n# here I am assuming that everyone provided a valid birthday, not in the future\nresponses['age'] = (now - dob).astype('<m8[Y]').astype(int)\n\n# drop the \"timestamp\" and \"birthday\" columns\nresponses = responses.drop(['Timestamp', 'birthday'],axis=1) \nresponses",
   "execution_count": 68,
   "outputs": [
    {
     "output_type": "execute_result",
     "execution_count": 68,
     "data": {
      "application/vnd.deepnote.dataframe.v2+json": {
       "row_count": 30,
       "column_count": 3,
       "columns": [
        {
         "name": "name",
         "dtype": "object",
         "stats": {
          "unique_count": 29,
          "nan_count": 0,
          "categories": [
           {
            "name": "sophia",
            "count": 2
           },
           {
            "name": "joanne",
            "count": 1
           },
           {
            "name": "27 others",
            "count": 27
           }
          ]
         }
        },
        {
         "name": "sex",
         "dtype": "object",
         "stats": {
          "unique_count": 3,
          "nan_count": 0,
          "categories": [
           {
            "name": "Female",
            "count": 16
           },
           {
            "name": "Male",
            "count": 12
           },
           {
            "name": "Other",
            "count": 2
           }
          ]
         }
        },
        {
         "name": "age",
         "dtype": "int64",
         "stats": {
          "unique_count": 5,
          "nan_count": 0,
          "min": "18",
          "max": "22",
          "histogram": [
           {
            "bin_start": 18,
            "bin_end": 18.4,
            "count": 3
           },
           {
            "bin_start": 18.4,
            "bin_end": 18.8,
            "count": 0
           },
           {
            "bin_start": 18.8,
            "bin_end": 19.2,
            "count": 9
           },
           {
            "bin_start": 19.2,
            "bin_end": 19.6,
            "count": 0
           },
           {
            "bin_start": 19.6,
            "bin_end": 20,
            "count": 0
           },
           {
            "bin_start": 20,
            "bin_end": 20.4,
            "count": 8
           },
           {
            "bin_start": 20.4,
            "bin_end": 20.8,
            "count": 0
           },
           {
            "bin_start": 20.8,
            "bin_end": 21.2,
            "count": 7
           },
           {
            "bin_start": 21.2,
            "bin_end": 21.6,
            "count": 0
           },
           {
            "bin_start": 21.6,
            "bin_end": 22,
            "count": 3
           }
          ]
         }
        },
        {
         "name": "_deepnote_index_column",
         "dtype": "int64"
        }
       ],
       "rows_top": [
        {
         "name": "joanne",
         "sex": "Female",
         "age": 19,
         "_deepnote_index_column": 0
        },
        {
         "name": "alex",
         "sex": "Male",
         "age": 20,
         "_deepnote_index_column": 1
        },
        {
         "name": "kiara",
         "sex": "Female",
         "age": 20,
         "_deepnote_index_column": 2
        },
        {
         "name": "noppakan",
         "sex": "Female",
         "age": 19,
         "_deepnote_index_column": 3
        },
        {
         "name": "minh-huy",
         "sex": "Male",
         "age": 18,
         "_deepnote_index_column": 4
        },
        {
         "name": "haoyu",
         "sex": "Male",
         "age": 19,
         "_deepnote_index_column": 5
        },
        {
         "name": "jihee",
         "sex": "Female",
         "age": 19,
         "_deepnote_index_column": 6
        },
        {
         "name": "jennie",
         "sex": "Female",
         "age": 20,
         "_deepnote_index_column": 7
        },
        {
         "name": "wyatt",
         "sex": "Male",
         "age": 22,
         "_deepnote_index_column": 8
        },
        {
         "name": "megan",
         "sex": "Female",
         "age": 21,
         "_deepnote_index_column": 9
        },
        {
         "name": "hannah",
         "sex": "Female",
         "age": 20,
         "_deepnote_index_column": 10
        },
        {
         "name": "frances",
         "sex": "Female",
         "age": 21,
         "_deepnote_index_column": 11
        },
        {
         "name": "tyler",
         "sex": "Male",
         "age": 20,
         "_deepnote_index_column": 12
        },
        {
         "name": "anna",
         "sex": "Female",
         "age": 18,
         "_deepnote_index_column": 13
        },
        {
         "name": "cj",
         "sex": "Male",
         "age": 20,
         "_deepnote_index_column": 14
        },
        {
         "name": "jake",
         "sex": "Male",
         "age": 20,
         "_deepnote_index_column": 15
        },
        {
         "name": "shail",
         "sex": "Male",
         "age": 21,
         "_deepnote_index_column": 16
        },
        {
         "name": "aaron",
         "sex": "Male",
         "age": 20,
         "_deepnote_index_column": 17
        },
        {
         "name": "sophia",
         "sex": "Female",
         "age": 22,
         "_deepnote_index_column": 18
        },
        {
         "name": "laila",
         "sex": "Female",
         "age": 21,
         "_deepnote_index_column": 19
        },
        {
         "name": "armine",
         "sex": "Other",
         "age": 22,
         "_deepnote_index_column": 20
        },
        {
         "name": "stephanie",
         "sex": "Female",
         "age": 21,
         "_deepnote_index_column": 21
        },
        {
         "name": "claudea",
         "sex": "Female",
         "age": 19,
         "_deepnote_index_column": 22
        },
        {
         "name": "roshan",
         "sex": "Male",
         "age": 21,
         "_deepnote_index_column": 23
        },
        {
         "name": "sabrina",
         "sex": "Other",
         "age": 19,
         "_deepnote_index_column": 24
        },
        {
         "name": "helen",
         "sex": "Female",
         "age": 19,
         "_deepnote_index_column": 25
        },
        {
         "name": "schuyler",
         "sex": "Male",
         "age": 19,
         "_deepnote_index_column": 26
        },
        {
         "name": "joyce",
         "sex": "Female",
         "age": 18,
         "_deepnote_index_column": 27
        },
        {
         "name": "armaan",
         "sex": "Male",
         "age": 21,
         "_deepnote_index_column": 28
        },
        {
         "name": "sophia",
         "sex": "Female",
         "age": 19,
         "_deepnote_index_column": 29
        }
       ],
       "rows_bottom": null
      },
      "text/plain": "         name     sex  age\n0      joanne  Female   19\n1        alex    Male   20\n2       kiara  Female   20\n3    noppakan  Female   19\n4    minh-huy    Male   18\n5       haoyu    Male   19\n6       jihee  Female   19\n7      jennie  Female   20\n8       wyatt    Male   22\n9       megan  Female   21\n10     hannah  Female   20\n11    frances  Female   21\n12      tyler    Male   20\n13       anna  Female   18\n14         cj    Male   20\n15       jake    Male   20\n16      shail    Male   21\n17      aaron    Male   20\n18     sophia  Female   22\n19      laila  Female   21\n20     armine   Other   22\n21  stephanie  Female   21\n22    claudea  Female   19\n23     roshan    Male   21\n24    sabrina   Other   19\n25      helen  Female   19\n26   schuyler    Male   19\n27      joyce  Female   18\n28     armaan    Male   21\n29     sophia  Female   19",
      "text/html": "<div>\n<style scoped>\n    .dataframe tbody tr th:only-of-type {\n        vertical-align: middle;\n    }\n\n    .dataframe tbody tr th {\n        vertical-align: top;\n    }\n\n    .dataframe thead th {\n        text-align: right;\n    }\n</style>\n<table border=\"1\" class=\"dataframe\">\n  <thead>\n    <tr style=\"text-align: right;\">\n      <th></th>\n      <th>name</th>\n      <th>sex</th>\n      <th>age</th>\n    </tr>\n  </thead>\n  <tbody>\n    <tr>\n      <th>0</th>\n      <td>joanne</td>\n      <td>Female</td>\n      <td>19</td>\n    </tr>\n    <tr>\n      <th>1</th>\n      <td>alex</td>\n      <td>Male</td>\n      <td>20</td>\n    </tr>\n    <tr>\n      <th>2</th>\n      <td>kiara</td>\n      <td>Female</td>\n      <td>20</td>\n    </tr>\n    <tr>\n      <th>3</th>\n      <td>noppakan</td>\n      <td>Female</td>\n      <td>19</td>\n    </tr>\n    <tr>\n      <th>4</th>\n      <td>minh-huy</td>\n      <td>Male</td>\n      <td>18</td>\n    </tr>\n    <tr>\n      <th>5</th>\n      <td>haoyu</td>\n      <td>Male</td>\n      <td>19</td>\n    </tr>\n    <tr>\n      <th>6</th>\n      <td>jihee</td>\n      <td>Female</td>\n      <td>19</td>\n    </tr>\n    <tr>\n      <th>7</th>\n      <td>jennie</td>\n      <td>Female</td>\n      <td>20</td>\n    </tr>\n    <tr>\n      <th>8</th>\n      <td>wyatt</td>\n      <td>Male</td>\n      <td>22</td>\n    </tr>\n    <tr>\n      <th>9</th>\n      <td>megan</td>\n      <td>Female</td>\n      <td>21</td>\n    </tr>\n    <tr>\n      <th>10</th>\n      <td>hannah</td>\n      <td>Female</td>\n      <td>20</td>\n    </tr>\n    <tr>\n      <th>11</th>\n      <td>frances</td>\n      <td>Female</td>\n      <td>21</td>\n    </tr>\n    <tr>\n      <th>12</th>\n      <td>tyler</td>\n      <td>Male</td>\n      <td>20</td>\n    </tr>\n    <tr>\n      <th>13</th>\n      <td>anna</td>\n      <td>Female</td>\n      <td>18</td>\n    </tr>\n    <tr>\n      <th>14</th>\n      <td>cj</td>\n      <td>Male</td>\n      <td>20</td>\n    </tr>\n    <tr>\n      <th>15</th>\n      <td>jake</td>\n      <td>Male</td>\n      <td>20</td>\n    </tr>\n    <tr>\n      <th>16</th>\n      <td>shail</td>\n      <td>Male</td>\n      <td>21</td>\n    </tr>\n    <tr>\n      <th>17</th>\n      <td>aaron</td>\n      <td>Male</td>\n      <td>20</td>\n    </tr>\n    <tr>\n      <th>18</th>\n      <td>sophia</td>\n      <td>Female</td>\n      <td>22</td>\n    </tr>\n    <tr>\n      <th>19</th>\n      <td>laila</td>\n      <td>Female</td>\n      <td>21</td>\n    </tr>\n    <tr>\n      <th>20</th>\n      <td>armine</td>\n      <td>Other</td>\n      <td>22</td>\n    </tr>\n    <tr>\n      <th>21</th>\n      <td>stephanie</td>\n      <td>Female</td>\n      <td>21</td>\n    </tr>\n    <tr>\n      <th>22</th>\n      <td>claudea</td>\n      <td>Female</td>\n      <td>19</td>\n    </tr>\n    <tr>\n      <th>23</th>\n      <td>roshan</td>\n      <td>Male</td>\n      <td>21</td>\n    </tr>\n    <tr>\n      <th>24</th>\n      <td>sabrina</td>\n      <td>Other</td>\n      <td>19</td>\n    </tr>\n    <tr>\n      <th>25</th>\n      <td>helen</td>\n      <td>Female</td>\n      <td>19</td>\n    </tr>\n    <tr>\n      <th>26</th>\n      <td>schuyler</td>\n      <td>Male</td>\n      <td>19</td>\n    </tr>\n    <tr>\n      <th>27</th>\n      <td>joyce</td>\n      <td>Female</td>\n      <td>18</td>\n    </tr>\n    <tr>\n      <th>28</th>\n      <td>armaan</td>\n      <td>Male</td>\n      <td>21</td>\n    </tr>\n    <tr>\n      <th>29</th>\n      <td>sophia</td>\n      <td>Female</td>\n      <td>19</td>\n    </tr>\n  </tbody>\n</table>\n</div>"
     },
     "metadata": {}
    }
   ]
  },
  {
   "cell_type": "markdown",
   "source": "We completed the second step of the data science lifecycle. \n\n1. [x] Formulating a question or problem (What can names tell us about the sex and age distribution of a population?)\n2. [x] Acquiring and cleaning data\n3. [ ] Conducting exploratory data analysis (We do this in two parts: one for sex, one for age)\n4. [ ] Using prediction and inference to draw conclusions (We do this in two parts: one for sex, one for age)\n\nIn this next step, we will use the baby names dataset from the [Social Security Administration](https://www.ssa.gov/oact/babynames/) to inform us about our own dataset. ",
   "metadata": {
    "tags": [],
    "cell_id": "00010-84fed571-ba05-4741-862e-64b32e88a702",
    "output_cleared": false,
    "deepnote_cell_type": "markdown"
   }
  },
  {
   "cell_type": "code",
   "metadata": {
    "tags": [],
    "cell_id": "00002-5f63de7a-3b83-4ad4-8bc1-64ff198782ae",
    "output_cleared": false,
    "deepnote_to_be_reexecuted": false,
    "source_hash": "170a7773",
    "execution_start": 1622070018225,
    "execution_millis": 2045,
    "deepnote_cell_type": "code"
   },
   "source": "# load dataset 2: baby names\nbabynames = [] \nwith zipfile.ZipFile(\"babynames.zip\", \"r\") as zf:\n    data_files = [f for f in zf.filelist if f.filename[-3:] == \"txt\"]\n    def extract_year_from_filename(fn):\n        return int(fn[3:7])\n    for f in data_files:\n        year = extract_year_from_filename(f.filename)\n        with zf.open(f) as fp:\n            df = pd.read_csv(fp, names=[\"name\", \"sex\", \"count\"])\n            df[\"year\"] = year\n            babynames.append(df)\nbabynames = pd.concat(babynames)\n\n# standardize the names by making them lowercase\nbabynames['name'] = babynames['name'].str.lower()\nbabynames",
   "execution_count": 69,
   "outputs": [
    {
     "output_type": "execute_result",
     "execution_count": 69,
     "data": {
      "application/vnd.deepnote.dataframe.v2+json": {
       "row_count": 1989401,
       "column_count": 4,
       "columns": [
        {
         "name": "name",
         "dtype": "object"
        },
        {
         "name": "sex",
         "dtype": "object"
        },
        {
         "name": "count",
         "dtype": "int64"
        },
        {
         "name": "year",
         "dtype": "int64"
        },
        {
         "name": "_deepnote_index_column",
         "dtype": "int64"
        }
       ],
       "rows_top": [
        {
         "name": "mary",
         "sex": "F",
         "count": 7065,
         "year": 1880,
         "_deepnote_index_column": 0
        },
        {
         "name": "anna",
         "sex": "F",
         "count": 2604,
         "year": 1880,
         "_deepnote_index_column": 1
        },
        {
         "name": "emma",
         "sex": "F",
         "count": 2003,
         "year": 1880,
         "_deepnote_index_column": 2
        },
        {
         "name": "elizabeth",
         "sex": "F",
         "count": 1939,
         "year": 1880,
         "_deepnote_index_column": 3
        },
        {
         "name": "minnie",
         "sex": "F",
         "count": 1746,
         "year": 1880,
         "_deepnote_index_column": 4
        },
        {
         "name": "margaret",
         "sex": "F",
         "count": 1578,
         "year": 1880,
         "_deepnote_index_column": 5
        },
        {
         "name": "ida",
         "sex": "F",
         "count": 1472,
         "year": 1880,
         "_deepnote_index_column": 6
        },
        {
         "name": "alice",
         "sex": "F",
         "count": 1414,
         "year": 1880,
         "_deepnote_index_column": 7
        },
        {
         "name": "bertha",
         "sex": "F",
         "count": 1320,
         "year": 1880,
         "_deepnote_index_column": 8
        },
        {
         "name": "sarah",
         "sex": "F",
         "count": 1288,
         "year": 1880,
         "_deepnote_index_column": 9
        },
        {
         "name": "annie",
         "sex": "F",
         "count": 1258,
         "year": 1880,
         "_deepnote_index_column": 10
        },
        {
         "name": "clara",
         "sex": "F",
         "count": 1226,
         "year": 1880,
         "_deepnote_index_column": 11
        },
        {
         "name": "ella",
         "sex": "F",
         "count": 1156,
         "year": 1880,
         "_deepnote_index_column": 12
        },
        {
         "name": "florence",
         "sex": "F",
         "count": 1063,
         "year": 1880,
         "_deepnote_index_column": 13
        },
        {
         "name": "cora",
         "sex": "F",
         "count": 1045,
         "year": 1880,
         "_deepnote_index_column": 14
        },
        {
         "name": "martha",
         "sex": "F",
         "count": 1040,
         "year": 1880,
         "_deepnote_index_column": 15
        },
        {
         "name": "laura",
         "sex": "F",
         "count": 1012,
         "year": 1880,
         "_deepnote_index_column": 16
        },
        {
         "name": "nellie",
         "sex": "F",
         "count": 995,
         "year": 1880,
         "_deepnote_index_column": 17
        },
        {
         "name": "grace",
         "sex": "F",
         "count": 982,
         "year": 1880,
         "_deepnote_index_column": 18
        },
        {
         "name": "carrie",
         "sex": "F",
         "count": 949,
         "year": 1880,
         "_deepnote_index_column": 19
        },
        {
         "name": "maude",
         "sex": "F",
         "count": 859,
         "year": 1880,
         "_deepnote_index_column": 20
        },
        {
         "name": "mabel",
         "sex": "F",
         "count": 808,
         "year": 1880,
         "_deepnote_index_column": 21
        },
        {
         "name": "bessie",
         "sex": "F",
         "count": 796,
         "year": 1880,
         "_deepnote_index_column": 22
        },
        {
         "name": "jennie",
         "sex": "F",
         "count": 793,
         "year": 1880,
         "_deepnote_index_column": 23
        },
        {
         "name": "gertrude",
         "sex": "F",
         "count": 787,
         "year": 1880,
         "_deepnote_index_column": 24
        },
        {
         "name": "julia",
         "sex": "F",
         "count": 783,
         "year": 1880,
         "_deepnote_index_column": 25
        },
        {
         "name": "hattie",
         "sex": "F",
         "count": 769,
         "year": 1880,
         "_deepnote_index_column": 26
        },
        {
         "name": "edith",
         "sex": "F",
         "count": 768,
         "year": 1880,
         "_deepnote_index_column": 27
        },
        {
         "name": "mattie",
         "sex": "F",
         "count": 704,
         "year": 1880,
         "_deepnote_index_column": 28
        },
        {
         "name": "rose",
         "sex": "F",
         "count": 700,
         "year": 1880,
         "_deepnote_index_column": 29
        },
        {
         "name": "catherine",
         "sex": "F",
         "count": 688,
         "year": 1880,
         "_deepnote_index_column": 30
        },
        {
         "name": "lillian",
         "sex": "F",
         "count": 672,
         "year": 1880,
         "_deepnote_index_column": 31
        },
        {
         "name": "ada",
         "sex": "F",
         "count": 652,
         "year": 1880,
         "_deepnote_index_column": 32
        },
        {
         "name": "lillie",
         "sex": "F",
         "count": 647,
         "year": 1880,
         "_deepnote_index_column": 33
        },
        {
         "name": "helen",
         "sex": "F",
         "count": 636,
         "year": 1880,
         "_deepnote_index_column": 34
        },
        {
         "name": "jessie",
         "sex": "F",
         "count": 635,
         "year": 1880,
         "_deepnote_index_column": 35
        },
        {
         "name": "louise",
         "sex": "F",
         "count": 635,
         "year": 1880,
         "_deepnote_index_column": 36
        },
        {
         "name": "ethel",
         "sex": "F",
         "count": 633,
         "year": 1880,
         "_deepnote_index_column": 37
        },
        {
         "name": "lula",
         "sex": "F",
         "count": 621,
         "year": 1880,
         "_deepnote_index_column": 38
        },
        {
         "name": "myrtle",
         "sex": "F",
         "count": 615,
         "year": 1880,
         "_deepnote_index_column": 39
        },
        {
         "name": "eva",
         "sex": "F",
         "count": 614,
         "year": 1880,
         "_deepnote_index_column": 40
        },
        {
         "name": "frances",
         "sex": "F",
         "count": 605,
         "year": 1880,
         "_deepnote_index_column": 41
        },
        {
         "name": "lena",
         "sex": "F",
         "count": 603,
         "year": 1880,
         "_deepnote_index_column": 42
        },
        {
         "name": "lucy",
         "sex": "F",
         "count": 590,
         "year": 1880,
         "_deepnote_index_column": 43
        },
        {
         "name": "edna",
         "sex": "F",
         "count": 588,
         "year": 1880,
         "_deepnote_index_column": 44
        },
        {
         "name": "maggie",
         "sex": "F",
         "count": 582,
         "year": 1880,
         "_deepnote_index_column": 45
        },
        {
         "name": "pearl",
         "sex": "F",
         "count": 569,
         "year": 1880,
         "_deepnote_index_column": 46
        },
        {
         "name": "daisy",
         "sex": "F",
         "count": 564,
         "year": 1880,
         "_deepnote_index_column": 47
        },
        {
         "name": "fannie",
         "sex": "F",
         "count": 560,
         "year": 1880,
         "_deepnote_index_column": 48
        },
        {
         "name": "josephine",
         "sex": "F",
         "count": 544,
         "year": 1880,
         "_deepnote_index_column": 49
        },
        {
         "name": "dora",
         "sex": "F",
         "count": 524,
         "year": 1880,
         "_deepnote_index_column": 50
        },
        {
         "name": "rosa",
         "sex": "F",
         "count": 507,
         "year": 1880,
         "_deepnote_index_column": 51
        },
        {
         "name": "katherine",
         "sex": "F",
         "count": 502,
         "year": 1880,
         "_deepnote_index_column": 52
        },
        {
         "name": "agnes",
         "sex": "F",
         "count": 473,
         "year": 1880,
         "_deepnote_index_column": 53
        },
        {
         "name": "marie",
         "sex": "F",
         "count": 471,
         "year": 1880,
         "_deepnote_index_column": 54
        },
        {
         "name": "nora",
         "sex": "F",
         "count": 471,
         "year": 1880,
         "_deepnote_index_column": 55
        },
        {
         "name": "may",
         "sex": "F",
         "count": 462,
         "year": 1880,
         "_deepnote_index_column": 56
        },
        {
         "name": "mamie",
         "sex": "F",
         "count": 436,
         "year": 1880,
         "_deepnote_index_column": 57
        },
        {
         "name": "blanche",
         "sex": "F",
         "count": 427,
         "year": 1880,
         "_deepnote_index_column": 58
        },
        {
         "name": "stella",
         "sex": "F",
         "count": 414,
         "year": 1880,
         "_deepnote_index_column": 59
        },
        {
         "name": "ellen",
         "sex": "F",
         "count": 411,
         "year": 1880,
         "_deepnote_index_column": 60
        },
        {
         "name": "nancy",
         "sex": "F",
         "count": 410,
         "year": 1880,
         "_deepnote_index_column": 61
        },
        {
         "name": "effie",
         "sex": "F",
         "count": 406,
         "year": 1880,
         "_deepnote_index_column": 62
        },
        {
         "name": "sallie",
         "sex": "F",
         "count": 404,
         "year": 1880,
         "_deepnote_index_column": 63
        },
        {
         "name": "nettie",
         "sex": "F",
         "count": 403,
         "year": 1880,
         "_deepnote_index_column": 64
        },
        {
         "name": "della",
         "sex": "F",
         "count": 391,
         "year": 1880,
         "_deepnote_index_column": 65
        },
        {
         "name": "lizzie",
         "sex": "F",
         "count": 388,
         "year": 1880,
         "_deepnote_index_column": 66
        },
        {
         "name": "flora",
         "sex": "F",
         "count": 365,
         "year": 1880,
         "_deepnote_index_column": 67
        },
        {
         "name": "susie",
         "sex": "F",
         "count": 361,
         "year": 1880,
         "_deepnote_index_column": 68
        },
        {
         "name": "maud",
         "sex": "F",
         "count": 345,
         "year": 1880,
         "_deepnote_index_column": 69
        },
        {
         "name": "mae",
         "sex": "F",
         "count": 344,
         "year": 1880,
         "_deepnote_index_column": 70
        },
        {
         "name": "etta",
         "sex": "F",
         "count": 323,
         "year": 1880,
         "_deepnote_index_column": 71
        },
        {
         "name": "harriet",
         "sex": "F",
         "count": 319,
         "year": 1880,
         "_deepnote_index_column": 72
        },
        {
         "name": "sadie",
         "sex": "F",
         "count": 317,
         "year": 1880,
         "_deepnote_index_column": 73
        },
        {
         "name": "caroline",
         "sex": "F",
         "count": 306,
         "year": 1880,
         "_deepnote_index_column": 74
        },
        {
         "name": "katie",
         "sex": "F",
         "count": 303,
         "year": 1880,
         "_deepnote_index_column": 75
        },
        {
         "name": "lydia",
         "sex": "F",
         "count": 302,
         "year": 1880,
         "_deepnote_index_column": 76
        },
        {
         "name": "elsie",
         "sex": "F",
         "count": 301,
         "year": 1880,
         "_deepnote_index_column": 77
        },
        {
         "name": "kate",
         "sex": "F",
         "count": 299,
         "year": 1880,
         "_deepnote_index_column": 78
        },
        {
         "name": "susan",
         "sex": "F",
         "count": 286,
         "year": 1880,
         "_deepnote_index_column": 79
        },
        {
         "name": "mollie",
         "sex": "F",
         "count": 283,
         "year": 1880,
         "_deepnote_index_column": 80
        },
        {
         "name": "alma",
         "sex": "F",
         "count": 277,
         "year": 1880,
         "_deepnote_index_column": 81
        },
        {
         "name": "addie",
         "sex": "F",
         "count": 274,
         "year": 1880,
         "_deepnote_index_column": 82
        },
        {
         "name": "georgia",
         "sex": "F",
         "count": 259,
         "year": 1880,
         "_deepnote_index_column": 83
        },
        {
         "name": "eliza",
         "sex": "F",
         "count": 252,
         "year": 1880,
         "_deepnote_index_column": 84
        },
        {
         "name": "lulu",
         "sex": "F",
         "count": 249,
         "year": 1880,
         "_deepnote_index_column": 85
        },
        {
         "name": "nannie",
         "sex": "F",
         "count": 248,
         "year": 1880,
         "_deepnote_index_column": 86
        },
        {
         "name": "lottie",
         "sex": "F",
         "count": 245,
         "year": 1880,
         "_deepnote_index_column": 87
        },
        {
         "name": "amanda",
         "sex": "F",
         "count": 241,
         "year": 1880,
         "_deepnote_index_column": 88
        },
        {
         "name": "belle",
         "sex": "F",
         "count": 238,
         "year": 1880,
         "_deepnote_index_column": 89
        },
        {
         "name": "charlotte",
         "sex": "F",
         "count": 237,
         "year": 1880,
         "_deepnote_index_column": 90
        },
        {
         "name": "rebecca",
         "sex": "F",
         "count": 236,
         "year": 1880,
         "_deepnote_index_column": 91
        },
        {
         "name": "ruth",
         "sex": "F",
         "count": 234,
         "year": 1880,
         "_deepnote_index_column": 92
        },
        {
         "name": "viola",
         "sex": "F",
         "count": 229,
         "year": 1880,
         "_deepnote_index_column": 93
        },
        {
         "name": "olive",
         "sex": "F",
         "count": 224,
         "year": 1880,
         "_deepnote_index_column": 94
        },
        {
         "name": "amelia",
         "sex": "F",
         "count": 221,
         "year": 1880,
         "_deepnote_index_column": 95
        },
        {
         "name": "hannah",
         "sex": "F",
         "count": 221,
         "year": 1880,
         "_deepnote_index_column": 96
        },
        {
         "name": "jane",
         "sex": "F",
         "count": 215,
         "year": 1880,
         "_deepnote_index_column": 97
        },
        {
         "name": "virginia",
         "sex": "F",
         "count": 213,
         "year": 1880,
         "_deepnote_index_column": 98
        },
        {
         "name": "emily",
         "sex": "F",
         "count": 210,
         "year": 1880,
         "_deepnote_index_column": 99
        },
        {
         "name": "matilda",
         "sex": "F",
         "count": 210,
         "year": 1880,
         "_deepnote_index_column": 100
        },
        {
         "name": "irene",
         "sex": "F",
         "count": 204,
         "year": 1880,
         "_deepnote_index_column": 101
        },
        {
         "name": "kathryn",
         "sex": "F",
         "count": 204,
         "year": 1880,
         "_deepnote_index_column": 102
        },
        {
         "name": "esther",
         "sex": "F",
         "count": 198,
         "year": 1880,
         "_deepnote_index_column": 103
        },
        {
         "name": "willie",
         "sex": "F",
         "count": 192,
         "year": 1880,
         "_deepnote_index_column": 104
        },
        {
         "name": "henrietta",
         "sex": "F",
         "count": 191,
         "year": 1880,
         "_deepnote_index_column": 105
        },
        {
         "name": "ollie",
         "sex": "F",
         "count": 183,
         "year": 1880,
         "_deepnote_index_column": 106
        },
        {
         "name": "amy",
         "sex": "F",
         "count": 167,
         "year": 1880,
         "_deepnote_index_column": 107
        },
        {
         "name": "rachel",
         "sex": "F",
         "count": 166,
         "year": 1880,
         "_deepnote_index_column": 108
        },
        {
         "name": "sara",
         "sex": "F",
         "count": 165,
         "year": 1880,
         "_deepnote_index_column": 109
        },
        {
         "name": "estella",
         "sex": "F",
         "count": 162,
         "year": 1880,
         "_deepnote_index_column": 110
        },
        {
         "name": "theresa",
         "sex": "F",
         "count": 153,
         "year": 1880,
         "_deepnote_index_column": 111
        },
        {
         "name": "augusta",
         "sex": "F",
         "count": 151,
         "year": 1880,
         "_deepnote_index_column": 112
        },
        {
         "name": "ora",
         "sex": "F",
         "count": 149,
         "year": 1880,
         "_deepnote_index_column": 113
        },
        {
         "name": "pauline",
         "sex": "F",
         "count": 144,
         "year": 1880,
         "_deepnote_index_column": 114
        },
        {
         "name": "josie",
         "sex": "F",
         "count": 141,
         "year": 1880,
         "_deepnote_index_column": 115
        },
        {
         "name": "lola",
         "sex": "F",
         "count": 138,
         "year": 1880,
         "_deepnote_index_column": 116
        },
        {
         "name": "sophia",
         "sex": "F",
         "count": 138,
         "year": 1880,
         "_deepnote_index_column": 117
        },
        {
         "name": "leona",
         "sex": "F",
         "count": 137,
         "year": 1880,
         "_deepnote_index_column": 118
        },
        {
         "name": "anne",
         "sex": "F",
         "count": 136,
         "year": 1880,
         "_deepnote_index_column": 119
        },
        {
         "name": "mildred",
         "sex": "F",
         "count": 132,
         "year": 1880,
         "_deepnote_index_column": 120
        },
        {
         "name": "ann",
         "sex": "F",
         "count": 131,
         "year": 1880,
         "_deepnote_index_column": 121
        },
        {
         "name": "beulah",
         "sex": "F",
         "count": 131,
         "year": 1880,
         "_deepnote_index_column": 122
        },
        {
         "name": "callie",
         "sex": "F",
         "count": 131,
         "year": 1880,
         "_deepnote_index_column": 123
        },
        {
         "name": "lou",
         "sex": "F",
         "count": 131,
         "year": 1880,
         "_deepnote_index_column": 124
        }
       ],
       "rows_bottom": [
        {
         "name": "voltaire",
         "sex": "M",
         "count": 5,
         "year": 2019,
         "_deepnote_index_column": 31829
        },
        {
         "name": "voss",
         "sex": "M",
         "count": 5,
         "year": 2019,
         "_deepnote_index_column": 31830
        },
        {
         "name": "vsevolod",
         "sex": "M",
         "count": 5,
         "year": 2019,
         "_deepnote_index_column": 31831
        },
        {
         "name": "vukan",
         "sex": "M",
         "count": 5,
         "year": 2019,
         "_deepnote_index_column": 31832
        },
        {
         "name": "wahab",
         "sex": "M",
         "count": 5,
         "year": 2019,
         "_deepnote_index_column": 31833
        },
        {
         "name": "wahid",
         "sex": "M",
         "count": 5,
         "year": 2019,
         "_deepnote_index_column": 31834
        },
        {
         "name": "waker",
         "sex": "M",
         "count": 5,
         "year": 2019,
         "_deepnote_index_column": 31835
        },
        {
         "name": "wakinyan",
         "sex": "M",
         "count": 5,
         "year": 2019,
         "_deepnote_index_column": 31836
        },
        {
         "name": "watsyn",
         "sex": "M",
         "count": 5,
         "year": 2019,
         "_deepnote_index_column": 31837
        },
        {
         "name": "wattson",
         "sex": "M",
         "count": 5,
         "year": 2019,
         "_deepnote_index_column": 31838
        },
        {
         "name": "weaver",
         "sex": "M",
         "count": 5,
         "year": 2019,
         "_deepnote_index_column": 31839
        },
        {
         "name": "webber",
         "sex": "M",
         "count": 5,
         "year": 2019,
         "_deepnote_index_column": 31840
        },
        {
         "name": "wenceslao",
         "sex": "M",
         "count": 5,
         "year": 2019,
         "_deepnote_index_column": 31841
        },
        {
         "name": "weslynn",
         "sex": "M",
         "count": 5,
         "year": 2019,
         "_deepnote_index_column": 31842
        },
        {
         "name": "wildon",
         "sex": "M",
         "count": 5,
         "year": 2019,
         "_deepnote_index_column": 31843
        },
        {
         "name": "wilondja",
         "sex": "M",
         "count": 5,
         "year": 2019,
         "_deepnote_index_column": 31844
        },
        {
         "name": "winchester",
         "sex": "M",
         "count": 5,
         "year": 2019,
         "_deepnote_index_column": 31845
        },
        {
         "name": "wittman",
         "sex": "M",
         "count": 5,
         "year": 2019,
         "_deepnote_index_column": 31846
        },
        {
         "name": "wonder",
         "sex": "M",
         "count": 5,
         "year": 2019,
         "_deepnote_index_column": 31847
        },
        {
         "name": "worthy",
         "sex": "M",
         "count": 5,
         "year": 2019,
         "_deepnote_index_column": 31848
        },
        {
         "name": "wulfric",
         "sex": "M",
         "count": 5,
         "year": 2019,
         "_deepnote_index_column": 31849
        },
        {
         "name": "wyld",
         "sex": "M",
         "count": 5,
         "year": 2019,
         "_deepnote_index_column": 31850
        },
        {
         "name": "xabi",
         "sex": "M",
         "count": 5,
         "year": 2019,
         "_deepnote_index_column": 31851
        },
        {
         "name": "xanden",
         "sex": "M",
         "count": 5,
         "year": 2019,
         "_deepnote_index_column": 31852
        },
        {
         "name": "xaviel",
         "sex": "M",
         "count": 5,
         "year": 2019,
         "_deepnote_index_column": 31853
        },
        {
         "name": "xaydrian",
         "sex": "M",
         "count": 5,
         "year": 2019,
         "_deepnote_index_column": 31854
        },
        {
         "name": "xayvier",
         "sex": "M",
         "count": 5,
         "year": 2019,
         "_deepnote_index_column": 31855
        },
        {
         "name": "xeven",
         "sex": "M",
         "count": 5,
         "year": 2019,
         "_deepnote_index_column": 31856
        },
        {
         "name": "xzaiden",
         "sex": "M",
         "count": 5,
         "year": 2019,
         "_deepnote_index_column": 31857
        },
        {
         "name": "xzavior",
         "sex": "M",
         "count": 5,
         "year": 2019,
         "_deepnote_index_column": 31858
        },
        {
         "name": "xzayden",
         "sex": "M",
         "count": 5,
         "year": 2019,
         "_deepnote_index_column": 31859
        },
        {
         "name": "yaasir",
         "sex": "M",
         "count": 5,
         "year": 2019,
         "_deepnote_index_column": 31860
        },
        {
         "name": "yadir",
         "sex": "M",
         "count": 5,
         "year": 2019,
         "_deepnote_index_column": 31861
        },
        {
         "name": "yadrian",
         "sex": "M",
         "count": 5,
         "year": 2019,
         "_deepnote_index_column": 31862
        },
        {
         "name": "yajur",
         "sex": "M",
         "count": 5,
         "year": 2019,
         "_deepnote_index_column": 31863
        },
        {
         "name": "yakob",
         "sex": "M",
         "count": 5,
         "year": 2019,
         "_deepnote_index_column": 31864
        },
        {
         "name": "yanai",
         "sex": "M",
         "count": 5,
         "year": 2019,
         "_deepnote_index_column": 31865
        },
        {
         "name": "yanal",
         "sex": "M",
         "count": 5,
         "year": 2019,
         "_deepnote_index_column": 31866
        },
        {
         "name": "yancarlo",
         "sex": "M",
         "count": 5,
         "year": 2019,
         "_deepnote_index_column": 31867
        },
        {
         "name": "yao",
         "sex": "M",
         "count": 5,
         "year": 2019,
         "_deepnote_index_column": 31868
        },
        {
         "name": "yaqoob",
         "sex": "M",
         "count": 5,
         "year": 2019,
         "_deepnote_index_column": 31869
        },
        {
         "name": "yarden",
         "sex": "M",
         "count": 5,
         "year": 2019,
         "_deepnote_index_column": 31870
        },
        {
         "name": "yari",
         "sex": "M",
         "count": 5,
         "year": 2019,
         "_deepnote_index_column": 31871
        },
        {
         "name": "yasar",
         "sex": "M",
         "count": 5,
         "year": 2019,
         "_deepnote_index_column": 31872
        },
        {
         "name": "yashar",
         "sex": "M",
         "count": 5,
         "year": 2019,
         "_deepnote_index_column": 31873
        },
        {
         "name": "yaxel",
         "sex": "M",
         "count": 5,
         "year": 2019,
         "_deepnote_index_column": 31874
        },
        {
         "name": "yeicob",
         "sex": "M",
         "count": 5,
         "year": 2019,
         "_deepnote_index_column": 31875
        },
        {
         "name": "yen",
         "sex": "M",
         "count": 5,
         "year": 2019,
         "_deepnote_index_column": 31876
        },
        {
         "name": "yetzel",
         "sex": "M",
         "count": 5,
         "year": 2019,
         "_deepnote_index_column": 31877
        },
        {
         "name": "yeyson",
         "sex": "M",
         "count": 5,
         "year": 2019,
         "_deepnote_index_column": 31878
        },
        {
         "name": "yiddy",
         "sex": "M",
         "count": 5,
         "year": 2019,
         "_deepnote_index_column": 31879
        },
        {
         "name": "yinuo",
         "sex": "M",
         "count": 5,
         "year": 2019,
         "_deepnote_index_column": 31880
        },
        {
         "name": "yiovanni",
         "sex": "M",
         "count": 5,
         "year": 2019,
         "_deepnote_index_column": 31881
        },
        {
         "name": "yissochor",
         "sex": "M",
         "count": 5,
         "year": 2019,
         "_deepnote_index_column": 31882
        },
        {
         "name": "yixuan",
         "sex": "M",
         "count": 5,
         "year": 2019,
         "_deepnote_index_column": 31883
        },
        {
         "name": "ylan",
         "sex": "M",
         "count": 5,
         "year": 2019,
         "_deepnote_index_column": 31884
        },
        {
         "name": "yoandy",
         "sex": "M",
         "count": 5,
         "year": 2019,
         "_deepnote_index_column": 31885
        },
        {
         "name": "yohaan",
         "sex": "M",
         "count": 5,
         "year": 2019,
         "_deepnote_index_column": 31886
        },
        {
         "name": "yonasan",
         "sex": "M",
         "count": 5,
         "year": 2019,
         "_deepnote_index_column": 31887
        },
        {
         "name": "yoshio",
         "sex": "M",
         "count": 5,
         "year": 2019,
         "_deepnote_index_column": 31888
        },
        {
         "name": "yovan",
         "sex": "M",
         "count": 5,
         "year": 2019,
         "_deepnote_index_column": 31889
        },
        {
         "name": "ysidro",
         "sex": "M",
         "count": 5,
         "year": 2019,
         "_deepnote_index_column": 31890
        },
        {
         "name": "yuji",
         "sex": "M",
         "count": 5,
         "year": 2019,
         "_deepnote_index_column": 31891
        },
        {
         "name": "yunes",
         "sex": "M",
         "count": 5,
         "year": 2019,
         "_deepnote_index_column": 31892
        },
        {
         "name": "yuriy",
         "sex": "M",
         "count": 5,
         "year": 2019,
         "_deepnote_index_column": 31893
        },
        {
         "name": "yy",
         "sex": "M",
         "count": 5,
         "year": 2019,
         "_deepnote_index_column": 31894
        },
        {
         "name": "zabian",
         "sex": "M",
         "count": 5,
         "year": 2019,
         "_deepnote_index_column": 31895
        },
        {
         "name": "zaccheus",
         "sex": "M",
         "count": 5,
         "year": 2019,
         "_deepnote_index_column": 31896
        },
        {
         "name": "zachai",
         "sex": "M",
         "count": 5,
         "year": 2019,
         "_deepnote_index_column": 31897
        },
        {
         "name": "zacharius",
         "sex": "M",
         "count": 5,
         "year": 2019,
         "_deepnote_index_column": 31898
        },
        {
         "name": "zackariya",
         "sex": "M",
         "count": 5,
         "year": 2019,
         "_deepnote_index_column": 31899
        },
        {
         "name": "zacorey",
         "sex": "M",
         "count": 5,
         "year": 2019,
         "_deepnote_index_column": 31900
        },
        {
         "name": "zadien",
         "sex": "M",
         "count": 5,
         "year": 2019,
         "_deepnote_index_column": 31901
        },
        {
         "name": "zaevon",
         "sex": "M",
         "count": 5,
         "year": 2019,
         "_deepnote_index_column": 31902
        },
        {
         "name": "zaheen",
         "sex": "M",
         "count": 5,
         "year": 2019,
         "_deepnote_index_column": 31903
        },
        {
         "name": "zaheer",
         "sex": "M",
         "count": 5,
         "year": 2019,
         "_deepnote_index_column": 31904
        },
        {
         "name": "zaivier",
         "sex": "M",
         "count": 5,
         "year": 2019,
         "_deepnote_index_column": 31905
        },
        {
         "name": "zakaiden",
         "sex": "M",
         "count": 5,
         "year": 2019,
         "_deepnote_index_column": 31906
        },
        {
         "name": "zakaryah",
         "sex": "M",
         "count": 5,
         "year": 2019,
         "_deepnote_index_column": 31907
        },
        {
         "name": "zakee",
         "sex": "M",
         "count": 5,
         "year": 2019,
         "_deepnote_index_column": 31908
        },
        {
         "name": "zakeem",
         "sex": "M",
         "count": 5,
         "year": 2019,
         "_deepnote_index_column": 31909
        },
        {
         "name": "zakiy",
         "sex": "M",
         "count": 5,
         "year": 2019,
         "_deepnote_index_column": 31910
        },
        {
         "name": "zamair",
         "sex": "M",
         "count": 5,
         "year": 2019,
         "_deepnote_index_column": 31911
        },
        {
         "name": "zamarii",
         "sex": "M",
         "count": 5,
         "year": 2019,
         "_deepnote_index_column": 31912
        },
        {
         "name": "zan",
         "sex": "M",
         "count": 5,
         "year": 2019,
         "_deepnote_index_column": 31913
        },
        {
         "name": "zaul",
         "sex": "M",
         "count": 5,
         "year": 2019,
         "_deepnote_index_column": 31914
        },
        {
         "name": "zavontae",
         "sex": "M",
         "count": 5,
         "year": 2019,
         "_deepnote_index_column": 31915
        },
        {
         "name": "zayion",
         "sex": "M",
         "count": 5,
         "year": 2019,
         "_deepnote_index_column": 31916
        },
        {
         "name": "zaymar",
         "sex": "M",
         "count": 5,
         "year": 2019,
         "_deepnote_index_column": 31917
        },
        {
         "name": "zaymir",
         "sex": "M",
         "count": 5,
         "year": 2019,
         "_deepnote_index_column": 31918
        },
        {
         "name": "zayquan",
         "sex": "M",
         "count": 5,
         "year": 2019,
         "_deepnote_index_column": 31919
        },
        {
         "name": "zayvin",
         "sex": "M",
         "count": 5,
         "year": 2019,
         "_deepnote_index_column": 31920
        },
        {
         "name": "zealan",
         "sex": "M",
         "count": 5,
         "year": 2019,
         "_deepnote_index_column": 31921
        },
        {
         "name": "zeandre",
         "sex": "M",
         "count": 5,
         "year": 2019,
         "_deepnote_index_column": 31922
        },
        {
         "name": "zecharias",
         "sex": "M",
         "count": 5,
         "year": 2019,
         "_deepnote_index_column": 31923
        },
        {
         "name": "zecharyah",
         "sex": "M",
         "count": 5,
         "year": 2019,
         "_deepnote_index_column": 31924
        },
        {
         "name": "zeik",
         "sex": "M",
         "count": 5,
         "year": 2019,
         "_deepnote_index_column": 31925
        },
        {
         "name": "zekai",
         "sex": "M",
         "count": 5,
         "year": 2019,
         "_deepnote_index_column": 31926
        },
        {
         "name": "zell",
         "sex": "M",
         "count": 5,
         "year": 2019,
         "_deepnote_index_column": 31927
        },
        {
         "name": "zende",
         "sex": "M",
         "count": 5,
         "year": 2019,
         "_deepnote_index_column": 31928
        },
        {
         "name": "zeo",
         "sex": "M",
         "count": 5,
         "year": 2019,
         "_deepnote_index_column": 31929
        },
        {
         "name": "zeplyn",
         "sex": "M",
         "count": 5,
         "year": 2019,
         "_deepnote_index_column": 31930
        },
        {
         "name": "zerrick",
         "sex": "M",
         "count": 5,
         "year": 2019,
         "_deepnote_index_column": 31931
        },
        {
         "name": "zeshan",
         "sex": "M",
         "count": 5,
         "year": 2019,
         "_deepnote_index_column": 31932
        },
        {
         "name": "zeyn",
         "sex": "M",
         "count": 5,
         "year": 2019,
         "_deepnote_index_column": 31933
        },
        {
         "name": "zhi",
         "sex": "M",
         "count": 5,
         "year": 2019,
         "_deepnote_index_column": 31934
        },
        {
         "name": "ziayre",
         "sex": "M",
         "count": 5,
         "year": 2019,
         "_deepnote_index_column": 31935
        },
        {
         "name": "zichen",
         "sex": "M",
         "count": 5,
         "year": 2019,
         "_deepnote_index_column": 31936
        },
        {
         "name": "ziheng",
         "sex": "M",
         "count": 5,
         "year": 2019,
         "_deepnote_index_column": 31937
        },
        {
         "name": "zio",
         "sex": "M",
         "count": 5,
         "year": 2019,
         "_deepnote_index_column": 31938
        },
        {
         "name": "ziquan",
         "sex": "M",
         "count": 5,
         "year": 2019,
         "_deepnote_index_column": 31939
        },
        {
         "name": "zire",
         "sex": "M",
         "count": 5,
         "year": 2019,
         "_deepnote_index_column": 31940
        },
        {
         "name": "zkai",
         "sex": "M",
         "count": 5,
         "year": 2019,
         "_deepnote_index_column": 31941
        },
        {
         "name": "zolin",
         "sex": "M",
         "count": 5,
         "year": 2019,
         "_deepnote_index_column": 31942
        },
        {
         "name": "zoser",
         "sex": "M",
         "count": 5,
         "year": 2019,
         "_deepnote_index_column": 31943
        },
        {
         "name": "zurain",
         "sex": "M",
         "count": 5,
         "year": 2019,
         "_deepnote_index_column": 31944
        },
        {
         "name": "zyah",
         "sex": "M",
         "count": 5,
         "year": 2019,
         "_deepnote_index_column": 31945
        },
        {
         "name": "zyare",
         "sex": "M",
         "count": 5,
         "year": 2019,
         "_deepnote_index_column": 31946
        },
        {
         "name": "zygmunt",
         "sex": "M",
         "count": 5,
         "year": 2019,
         "_deepnote_index_column": 31947
        },
        {
         "name": "zyhaire",
         "sex": "M",
         "count": 5,
         "year": 2019,
         "_deepnote_index_column": 31948
        },
        {
         "name": "zyheem",
         "sex": "M",
         "count": 5,
         "year": 2019,
         "_deepnote_index_column": 31949
        },
        {
         "name": "zykel",
         "sex": "M",
         "count": 5,
         "year": 2019,
         "_deepnote_index_column": 31950
        },
        {
         "name": "zyking",
         "sex": "M",
         "count": 5,
         "year": 2019,
         "_deepnote_index_column": 31951
        },
        {
         "name": "zyn",
         "sex": "M",
         "count": 5,
         "year": 2019,
         "_deepnote_index_column": 31952
        },
        {
         "name": "zyran",
         "sex": "M",
         "count": 5,
         "year": 2019,
         "_deepnote_index_column": 31953
        }
       ]
      },
      "text/plain": "            name sex  count  year\n0           mary   F   7065  1880\n1           anna   F   2604  1880\n2           emma   F   2003  1880\n3      elizabeth   F   1939  1880\n4         minnie   F   1746  1880\n...          ...  ..    ...   ...\n31949     zyheem   M      5  2019\n31950      zykel   M      5  2019\n31951     zyking   M      5  2019\n31952        zyn   M      5  2019\n31953      zyran   M      5  2019\n\n[1989401 rows x 4 columns]",
      "text/html": "<div>\n<style scoped>\n    .dataframe tbody tr th:only-of-type {\n        vertical-align: middle;\n    }\n\n    .dataframe tbody tr th {\n        vertical-align: top;\n    }\n\n    .dataframe thead th {\n        text-align: right;\n    }\n</style>\n<table border=\"1\" class=\"dataframe\">\n  <thead>\n    <tr style=\"text-align: right;\">\n      <th></th>\n      <th>name</th>\n      <th>sex</th>\n      <th>count</th>\n      <th>year</th>\n    </tr>\n  </thead>\n  <tbody>\n    <tr>\n      <th>0</th>\n      <td>mary</td>\n      <td>F</td>\n      <td>7065</td>\n      <td>1880</td>\n    </tr>\n    <tr>\n      <th>1</th>\n      <td>anna</td>\n      <td>F</td>\n      <td>2604</td>\n      <td>1880</td>\n    </tr>\n    <tr>\n      <th>2</th>\n      <td>emma</td>\n      <td>F</td>\n      <td>2003</td>\n      <td>1880</td>\n    </tr>\n    <tr>\n      <th>3</th>\n      <td>elizabeth</td>\n      <td>F</td>\n      <td>1939</td>\n      <td>1880</td>\n    </tr>\n    <tr>\n      <th>4</th>\n      <td>minnie</td>\n      <td>F</td>\n      <td>1746</td>\n      <td>1880</td>\n    </tr>\n    <tr>\n      <th>...</th>\n      <td>...</td>\n      <td>...</td>\n      <td>...</td>\n      <td>...</td>\n    </tr>\n    <tr>\n      <th>31949</th>\n      <td>zyheem</td>\n      <td>M</td>\n      <td>5</td>\n      <td>2019</td>\n    </tr>\n    <tr>\n      <th>31950</th>\n      <td>zykel</td>\n      <td>M</td>\n      <td>5</td>\n      <td>2019</td>\n    </tr>\n    <tr>\n      <th>31951</th>\n      <td>zyking</td>\n      <td>M</td>\n      <td>5</td>\n      <td>2019</td>\n    </tr>\n    <tr>\n      <th>31952</th>\n      <td>zyn</td>\n      <td>M</td>\n      <td>5</td>\n      <td>2019</td>\n    </tr>\n    <tr>\n      <th>31953</th>\n      <td>zyran</td>\n      <td>M</td>\n      <td>5</td>\n      <td>2019</td>\n    </tr>\n  </tbody>\n</table>\n<p>1989401 rows × 4 columns</p>\n</div>"
     },
     "metadata": {}
    }
   ]
  },
  {
   "cell_type": "markdown",
   "source": "### Conducting EDA (Part 1: Infer Sex From Name)",
   "metadata": {
    "tags": [],
    "cell_id": "00013-893bb22a-1935-4a9b-8c2a-acbb10368ed3",
    "output_cleared": false,
    "deepnote_cell_type": "markdown"
   }
  },
  {
   "cell_type": "code",
   "metadata": {
    "tags": [],
    "cell_id": "00009-e55441bf-9cfd-4934-9381-57cd58b2ba35",
    "output_cleared": false,
    "deepnote_to_be_reexecuted": false,
    "source_hash": "3d1fd03",
    "execution_start": 1622070020262,
    "execution_millis": 1617,
    "deepnote_cell_type": "code"
   },
   "source": "# count how many male and female babies were born in total for each name\nsex_counts = pd.pivot_table(babynames, index='name', columns='sex', values='count', aggfunc='sum', fill_value=0., margins=True)\nsex_counts.head()",
   "execution_count": 70,
   "outputs": [
    {
     "output_type": "execute_result",
     "execution_count": 70,
     "data": {
      "application/vnd.deepnote.dataframe.v2+json": {
       "row_count": 5,
       "column_count": 3,
       "columns": [
        {
         "name": "F",
         "dtype": "int64",
         "stats": {
          "unique_count": 3,
          "nan_count": 0,
          "min": "0",
          "max": "40",
          "histogram": [
           {
            "bin_start": 0,
            "bin_end": 4,
            "count": 3
           },
           {
            "bin_start": 4,
            "bin_end": 8,
            "count": 1
           },
           {
            "bin_start": 8,
            "bin_end": 12,
            "count": 0
           },
           {
            "bin_start": 12,
            "bin_end": 16,
            "count": 0
           },
           {
            "bin_start": 16,
            "bin_end": 20,
            "count": 0
           },
           {
            "bin_start": 20,
            "bin_end": 24,
            "count": 0
           },
           {
            "bin_start": 24,
            "bin_end": 28,
            "count": 0
           },
           {
            "bin_start": 28,
            "bin_end": 32,
            "count": 0
           },
           {
            "bin_start": 32,
            "bin_end": 36,
            "count": 0
           },
           {
            "bin_start": 36,
            "bin_end": 40,
            "count": 1
           }
          ]
         }
        },
        {
         "name": "M",
         "dtype": "int64",
         "stats": {
          "unique_count": 4,
          "nan_count": 0,
          "min": "0",
          "max": "120",
          "histogram": [
           {
            "bin_start": 0,
            "bin_end": 12,
            "count": 3
           },
           {
            "bin_start": 12,
            "bin_end": 24,
            "count": 1
           },
           {
            "bin_start": 24,
            "bin_end": 36,
            "count": 0
           },
           {
            "bin_start": 36,
            "bin_end": 48,
            "count": 0
           },
           {
            "bin_start": 48,
            "bin_end": 60,
            "count": 0
           },
           {
            "bin_start": 60,
            "bin_end": 72,
            "count": 0
           },
           {
            "bin_start": 72,
            "bin_end": 84,
            "count": 0
           },
           {
            "bin_start": 84,
            "bin_end": 96,
            "count": 0
           },
           {
            "bin_start": 96,
            "bin_end": 108,
            "count": 0
           },
           {
            "bin_start": 108,
            "bin_end": 120,
            "count": 1
           }
          ]
         }
        },
        {
         "name": "All",
         "dtype": "int64",
         "stats": {
          "unique_count": 5,
          "nan_count": 0,
          "min": "5",
          "max": "120",
          "histogram": [
           {
            "bin_start": 5,
            "bin_end": 16.5,
            "count": 3
           },
           {
            "bin_start": 16.5,
            "bin_end": 28,
            "count": 0
           },
           {
            "bin_start": 28,
            "bin_end": 39.5,
            "count": 0
           },
           {
            "bin_start": 39.5,
            "bin_end": 51,
            "count": 1
           },
           {
            "bin_start": 51,
            "bin_end": 62.5,
            "count": 0
           },
           {
            "bin_start": 62.5,
            "bin_end": 74,
            "count": 0
           },
           {
            "bin_start": 74,
            "bin_end": 85.5,
            "count": 0
           },
           {
            "bin_start": 85.5,
            "bin_end": 97,
            "count": 0
           },
           {
            "bin_start": 97,
            "bin_end": 108.5,
            "count": 0
           },
           {
            "bin_start": 108.5,
            "bin_end": 120,
            "count": 1
           }
          ]
         }
        },
        {
         "name": "_deepnote_index_column",
         "dtype": "object"
        }
       ],
       "rows_top": [
        {
         "F": 0,
         "M": 120,
         "All": 120,
         "_deepnote_index_column": "aaban"
        },
        {
         "F": 40,
         "M": 0,
         "All": 40,
         "_deepnote_index_column": "aabha"
        },
        {
         "F": 0,
         "M": 16,
         "All": 16,
         "_deepnote_index_column": "aabid"
        },
        {
         "F": 5,
         "M": 0,
         "All": 5,
         "_deepnote_index_column": "aabidah"
        },
        {
         "F": 0,
         "M": 10,
         "All": 10,
         "_deepnote_index_column": "aabir"
        }
       ],
       "rows_bottom": null
      },
      "text/plain": "sex       F    M  All\nname                 \naaban     0  120  120\naabha    40    0   40\naabid     0   16   16\naabidah   5    0    5\naabir     0   10   10",
      "text/html": "<div>\n<style scoped>\n    .dataframe tbody tr th:only-of-type {\n        vertical-align: middle;\n    }\n\n    .dataframe tbody tr th {\n        vertical-align: top;\n    }\n\n    .dataframe thead th {\n        text-align: right;\n    }\n</style>\n<table border=\"1\" class=\"dataframe\">\n  <thead>\n    <tr style=\"text-align: right;\">\n      <th>sex</th>\n      <th>F</th>\n      <th>M</th>\n      <th>All</th>\n    </tr>\n    <tr>\n      <th>name</th>\n      <th></th>\n      <th></th>\n      <th></th>\n    </tr>\n  </thead>\n  <tbody>\n    <tr>\n      <th>aaban</th>\n      <td>0</td>\n      <td>120</td>\n      <td>120</td>\n    </tr>\n    <tr>\n      <th>aabha</th>\n      <td>40</td>\n      <td>0</td>\n      <td>40</td>\n    </tr>\n    <tr>\n      <th>aabid</th>\n      <td>0</td>\n      <td>16</td>\n      <td>16</td>\n    </tr>\n    <tr>\n      <th>aabidah</th>\n      <td>5</td>\n      <td>0</td>\n      <td>5</td>\n    </tr>\n    <tr>\n      <th>aabir</th>\n      <td>0</td>\n      <td>10</td>\n      <td>10</td>\n    </tr>\n  </tbody>\n</table>\n</div>"
     },
     "metadata": {}
    }
   ]
  },
  {
   "cell_type": "code",
   "metadata": {
    "tags": [],
    "cell_id": "00010-7ebce1a5-5611-4265-851a-4c73b1bbdd03",
    "output_cleared": false,
    "deepnote_to_be_reexecuted": false,
    "source_hash": "bd3af184",
    "execution_start": 1622070021876,
    "execution_millis": 58,
    "deepnote_cell_type": "code"
   },
   "source": "# create a column for the proportion of females with each name\nsex_counts['prop_female'] = sex_counts['F'] / sex_counts['All']\nsex_counts",
   "execution_count": 71,
   "outputs": [
    {
     "output_type": "execute_result",
     "execution_count": 71,
     "data": {
      "application/vnd.deepnote.dataframe.v2+json": {
       "row_count": 99445,
       "column_count": 4,
       "columns": [
        {
         "name": "F",
         "dtype": "int64",
         "stats": {
          "unique_count": 5563,
          "nan_count": 0,
          "min": "0",
          "max": "175768302",
          "histogram": [
           {
            "bin_start": 0,
            "bin_end": 17576830.2,
            "count": 99444
           },
           {
            "bin_start": 17576830.2,
            "bin_end": 35153660.4,
            "count": 0
           },
           {
            "bin_start": 35153660.4,
            "bin_end": 52730490.599999994,
            "count": 0
           },
           {
            "bin_start": 52730490.599999994,
            "bin_end": 70307320.8,
            "count": 0
           },
           {
            "bin_start": 70307320.8,
            "bin_end": 87884151,
            "count": 0
           },
           {
            "bin_start": 87884151,
            "bin_end": 105460981.19999999,
            "count": 0
           },
           {
            "bin_start": 105460981.19999999,
            "bin_end": 123037811.39999999,
            "count": 0
           },
           {
            "bin_start": 123037811.39999999,
            "bin_end": 140614641.6,
            "count": 0
           },
           {
            "bin_start": 140614641.6,
            "bin_end": 158191471.79999998,
            "count": 0
           },
           {
            "bin_start": 158191471.79999998,
            "bin_end": 175768302,
            "count": 1
           }
          ]
         }
        },
        {
         "name": "M",
         "dtype": "int64"
        },
        {
         "name": "All",
         "dtype": "int64"
        },
        {
         "name": "prop_female",
         "dtype": "float64"
        },
        {
         "name": "_deepnote_index_column",
         "dtype": "object"
        }
       ],
       "rows_top": [
        {
         "F": 0,
         "M": 120,
         "All": 120,
         "prop_female": 0,
         "_deepnote_index_column": "aaban"
        },
        {
         "F": 40,
         "M": 0,
         "All": 40,
         "prop_female": 1,
         "_deepnote_index_column": "aabha"
        },
        {
         "F": 0,
         "M": 16,
         "All": 16,
         "prop_female": 0,
         "_deepnote_index_column": "aabid"
        },
        {
         "F": 5,
         "M": 0,
         "All": 5,
         "prop_female": 1,
         "_deepnote_index_column": "aabidah"
        },
        {
         "F": 0,
         "M": 10,
         "All": 10,
         "prop_female": 0,
         "_deepnote_index_column": "aabir"
        },
        {
         "F": 44,
         "M": 0,
         "All": 44,
         "prop_female": 1,
         "_deepnote_index_column": "aabriella"
        },
        {
         "F": 13,
         "M": 0,
         "All": 13,
         "prop_female": 1,
         "_deepnote_index_column": "aada"
        },
        {
         "F": 0,
         "M": 293,
         "All": 293,
         "prop_female": 0,
         "_deepnote_index_column": "aadam"
        },
        {
         "F": 0,
         "M": 130,
         "All": 130,
         "prop_female": 0,
         "_deepnote_index_column": "aadan"
        },
        {
         "F": 0,
         "M": 224,
         "All": 224,
         "prop_female": 0,
         "_deepnote_index_column": "aadarsh"
        },
        {
         "F": 0,
         "M": 5,
         "All": 5,
         "prop_female": 0,
         "_deepnote_index_column": "aadav"
        },
        {
         "F": 9,
         "M": 0,
         "All": 9,
         "prop_female": 1,
         "_deepnote_index_column": "aadaya"
        },
        {
         "F": 5,
         "M": 4919,
         "All": 4924,
         "prop_female": 0.0010154346060113728,
         "_deepnote_index_column": "aaden"
        },
        {
         "F": 0,
         "M": 22,
         "All": 22,
         "prop_female": 0,
         "_deepnote_index_column": "aadesh"
        },
        {
         "F": 0,
         "M": 6,
         "All": 6,
         "prop_female": 0,
         "_deepnote_index_column": "aadhan"
        },
        {
         "F": 0,
         "M": 240,
         "All": 240,
         "prop_female": 0,
         "_deepnote_index_column": "aadhav"
        },
        {
         "F": 0,
         "M": 51,
         "All": 51,
         "prop_female": 0,
         "_deepnote_index_column": "aadhavan"
        },
        {
         "F": 0,
         "M": 66,
         "All": 66,
         "prop_female": 0,
         "_deepnote_index_column": "aadhi"
        },
        {
         "F": 133,
         "M": 0,
         "All": 133,
         "prop_female": 1,
         "_deepnote_index_column": "aadhira"
        },
        {
         "F": 0,
         "M": 19,
         "All": 19,
         "prop_female": 0,
         "_deepnote_index_column": "aadhiran"
        },
        {
         "F": 0,
         "M": 77,
         "All": 77,
         "prop_female": 0,
         "_deepnote_index_column": "aadhvik"
        },
        {
         "F": 17,
         "M": 0,
         "All": 17,
         "prop_female": 1,
         "_deepnote_index_column": "aadhvika"
        },
        {
         "F": 1974,
         "M": 0,
         "All": 1974,
         "prop_female": 1,
         "_deepnote_index_column": "aadhya"
        },
        {
         "F": 0,
         "M": 18,
         "All": 18,
         "prop_female": 0,
         "_deepnote_index_column": "aadhyan"
        },
        {
         "F": 6,
         "M": 0,
         "All": 6,
         "prop_female": 1,
         "_deepnote_index_column": "aadhyareddy"
        },
        {
         "F": 15,
         "M": 0,
         "All": 15,
         "prop_female": 1,
         "_deepnote_index_column": "aadhyasri"
        },
        {
         "F": 16,
         "M": 885,
         "All": 901,
         "prop_female": 0.017758046614872364,
         "_deepnote_index_column": "aadi"
        },
        {
         "F": 0,
         "M": 5,
         "All": 5,
         "prop_female": 0,
         "_deepnote_index_column": "aadian"
        },
        {
         "F": 0,
         "M": 377,
         "All": 377,
         "prop_female": 0,
         "_deepnote_index_column": "aadil"
        },
        {
         "F": 5,
         "M": 0,
         "All": 5,
         "prop_female": 1,
         "_deepnote_index_column": "aadilynn"
        },
        {
         "F": 0,
         "M": 124,
         "All": 124,
         "prop_female": 0,
         "_deepnote_index_column": "aadin"
        },
        {
         "F": 0,
         "M": 37,
         "All": 37,
         "prop_female": 0,
         "_deepnote_index_column": "aadish"
        },
        {
         "F": 11,
         "M": 0,
         "All": 11,
         "prop_female": 1,
         "_deepnote_index_column": "aadison"
        },
        {
         "F": 0,
         "M": 405,
         "All": 405,
         "prop_female": 0,
         "_deepnote_index_column": "aadit"
        },
        {
         "F": 0,
         "M": 96,
         "All": 96,
         "prop_female": 0,
         "_deepnote_index_column": "aadith"
        },
        {
         "F": 0,
         "M": 11,
         "All": 11,
         "prop_female": 0,
         "_deepnote_index_column": "aadithya"
        },
        {
         "F": 58,
         "M": 0,
         "All": 58,
         "prop_female": 1,
         "_deepnote_index_column": "aaditri"
        },
        {
         "F": 0,
         "M": 592,
         "All": 592,
         "prop_female": 0,
         "_deepnote_index_column": "aaditya"
        },
        {
         "F": 0,
         "M": 17,
         "All": 17,
         "prop_female": 0,
         "_deepnote_index_column": "aadiv"
        },
        {
         "F": 5,
         "M": 0,
         "All": 5,
         "prop_female": 1,
         "_deepnote_index_column": "aadiya"
        },
        {
         "F": 0,
         "M": 118,
         "All": 118,
         "prop_female": 0,
         "_deepnote_index_column": "aadon"
        },
        {
         "F": 0,
         "M": 12,
         "All": 12,
         "prop_female": 0,
         "_deepnote_index_column": "aadrian"
        },
        {
         "F": 33,
         "M": 0,
         "All": 33,
         "prop_female": 1,
         "_deepnote_index_column": "aadrika"
        },
        {
         "F": 0,
         "M": 15,
         "All": 15,
         "prop_female": 0,
         "_deepnote_index_column": "aadrit"
        },
        {
         "F": 15,
         "M": 0,
         "All": 15,
         "prop_female": 1,
         "_deepnote_index_column": "aadriti"
        },
        {
         "F": 7,
         "M": 0,
         "All": 7,
         "prop_female": 1,
         "_deepnote_index_column": "aadvi"
        },
        {
         "F": 0,
         "M": 306,
         "All": 306,
         "prop_female": 0,
         "_deepnote_index_column": "aadvik"
        },
        {
         "F": 79,
         "M": 0,
         "All": 79,
         "prop_female": 1,
         "_deepnote_index_column": "aadvika"
        },
        {
         "F": 1284,
         "M": 0,
         "All": 1284,
         "prop_female": 1,
         "_deepnote_index_column": "aadya"
        },
        {
         "F": 0,
         "M": 6,
         "All": 6,
         "prop_female": 0,
         "_deepnote_index_column": "aadyant"
        },
        {
         "F": 16,
         "M": 533,
         "All": 549,
         "prop_female": 0.029143897996357013,
         "_deepnote_index_column": "aadyn"
        },
        {
         "F": 6,
         "M": 0,
         "All": 6,
         "prop_female": 1,
         "_deepnote_index_column": "aafia"
        },
        {
         "F": 33,
         "M": 0,
         "All": 33,
         "prop_female": 1,
         "_deepnote_index_column": "aafiya"
        },
        {
         "F": 22,
         "M": 0,
         "All": 22,
         "prop_female": 1,
         "_deepnote_index_column": "aafiyah"
        },
        {
         "F": 5,
         "M": 0,
         "All": 5,
         "prop_female": 1,
         "_deepnote_index_column": "aafreen"
        },
        {
         "F": 0,
         "M": 37,
         "All": 37,
         "prop_female": 0,
         "_deepnote_index_column": "aagam"
        },
        {
         "F": 0,
         "M": 7,
         "All": 7,
         "prop_female": 0,
         "_deepnote_index_column": "aage"
        },
        {
         "F": 7,
         "M": 0,
         "All": 7,
         "prop_female": 1,
         "_deepnote_index_column": "aagna"
        },
        {
         "F": 5,
         "M": 0,
         "All": 5,
         "prop_female": 1,
         "_deepnote_index_column": "aagot"
        },
        {
         "F": 0,
         "M": 52,
         "All": 52,
         "prop_female": 0,
         "_deepnote_index_column": "aahaan"
        },
        {
         "F": 0,
         "M": 353,
         "All": 353,
         "prop_female": 0,
         "_deepnote_index_column": "aahan"
        },
        {
         "F": 689,
         "M": 0,
         "All": 689,
         "prop_female": 1,
         "_deepnote_index_column": "aahana"
        },
        {
         "F": 10,
         "M": 0,
         "All": 10,
         "prop_female": 1,
         "_deepnote_index_column": "aaheli"
        },
        {
         "F": 0,
         "M": 679,
         "All": 679,
         "prop_female": 0,
         "_deepnote_index_column": "aahil"
        },
        {
         "F": 0,
         "M": 6,
         "All": 6,
         "prop_female": 0,
         "_deepnote_index_column": "aahir"
        },
        {
         "F": 24,
         "M": 0,
         "All": 24,
         "prop_female": 1,
         "_deepnote_index_column": "aahliyah"
        },
        {
         "F": 97,
         "M": 0,
         "All": 97,
         "prop_female": 1,
         "_deepnote_index_column": "aahna"
        },
        {
         "F": 0,
         "M": 5,
         "All": 5,
         "prop_female": 0,
         "_deepnote_index_column": "aahron"
        },
        {
         "F": 0,
         "M": 38,
         "All": 38,
         "prop_female": 0,
         "_deepnote_index_column": "aaidan"
        },
        {
         "F": 0,
         "M": 863,
         "All": 863,
         "prop_female": 0,
         "_deepnote_index_column": "aaiden"
        },
        {
         "F": 0,
         "M": 65,
         "All": 65,
         "prop_female": 0,
         "_deepnote_index_column": "aaidyn"
        },
        {
         "F": 58,
         "M": 0,
         "All": 58,
         "prop_female": 1,
         "_deepnote_index_column": "aaila"
        },
        {
         "F": 15,
         "M": 0,
         "All": 15,
         "prop_female": 1,
         "_deepnote_index_column": "aailiyah"
        },
        {
         "F": 207,
         "M": 0,
         "All": 207,
         "prop_female": 1,
         "_deepnote_index_column": "aailyah"
        },
        {
         "F": 86,
         "M": 0,
         "All": 86,
         "prop_female": 1,
         "_deepnote_index_column": "aaima"
        },
        {
         "F": 223,
         "M": 0,
         "All": 223,
         "prop_female": 1,
         "_deepnote_index_column": "aaira"
        },
        {
         "F": 148,
         "M": 0,
         "All": 148,
         "prop_female": 1,
         "_deepnote_index_column": "aairah"
        },
        {
         "F": 211,
         "M": 0,
         "All": 211,
         "prop_female": 1,
         "_deepnote_index_column": "aaisha"
        },
        {
         "F": 23,
         "M": 0,
         "All": 23,
         "prop_female": 1,
         "_deepnote_index_column": "aaishah"
        },
        {
         "F": 5,
         "M": 0,
         "All": 5,
         "prop_female": 1,
         "_deepnote_index_column": "aaiyana"
        },
        {
         "F": 24,
         "M": 0,
         "All": 24,
         "prop_female": 1,
         "_deepnote_index_column": "aaiza"
        },
        {
         "F": 5,
         "M": 0,
         "All": 5,
         "prop_female": 1,
         "_deepnote_index_column": "aaja"
        },
        {
         "F": 29,
         "M": 0,
         "All": 29,
         "prop_female": 1,
         "_deepnote_index_column": "aajah"
        },
        {
         "F": 20,
         "M": 0,
         "All": 20,
         "prop_female": 1,
         "_deepnote_index_column": "aajaylah"
        },
        {
         "F": 0,
         "M": 8,
         "All": 8,
         "prop_female": 0,
         "_deepnote_index_column": "aajon"
        },
        {
         "F": 10,
         "M": 0,
         "All": 10,
         "prop_female": 1,
         "_deepnote_index_column": "aakanksha"
        },
        {
         "F": 0,
         "M": 58,
         "All": 58,
         "prop_female": 0,
         "_deepnote_index_column": "aakarsh"
        },
        {
         "F": 0,
         "M": 970,
         "All": 970,
         "prop_female": 0,
         "_deepnote_index_column": "aakash"
        },
        {
         "F": 0,
         "M": 16,
         "All": 16,
         "prop_female": 0,
         "_deepnote_index_column": "aakeem"
        },
        {
         "F": 0,
         "M": 5,
         "All": 5,
         "prop_female": 0,
         "_deepnote_index_column": "aakif"
        },
        {
         "F": 0,
         "M": 22,
         "All": 22,
         "prop_female": 0,
         "_deepnote_index_column": "aakil"
        },
        {
         "F": 18,
         "M": 0,
         "All": 18,
         "prop_female": 1,
         "_deepnote_index_column": "aakilah"
        },
        {
         "F": 5,
         "M": 0,
         "All": 5,
         "prop_female": 1,
         "_deepnote_index_column": "aakira"
        },
        {
         "F": 5,
         "M": 0,
         "All": 5,
         "prop_female": 1,
         "_deepnote_index_column": "aakiyah"
        },
        {
         "F": 64,
         "M": 0,
         "All": 64,
         "prop_female": 1,
         "_deepnote_index_column": "aakriti"
        },
        {
         "F": 115,
         "M": 0,
         "All": 115,
         "prop_female": 1,
         "_deepnote_index_column": "aala"
        },
        {
         "F": 14,
         "M": 0,
         "All": 14,
         "prop_female": 1,
         "_deepnote_index_column": "aalaiya"
        },
        {
         "F": 67,
         "M": 0,
         "All": 67,
         "prop_female": 1,
         "_deepnote_index_column": "aalaiyah"
        },
        {
         "F": 0,
         "M": 5,
         "All": 5,
         "prop_female": 0,
         "_deepnote_index_column": "aalam"
        },
        {
         "F": 55,
         "M": 0,
         "All": 55,
         "prop_female": 1,
         "_deepnote_index_column": "aalana"
        },
        {
         "F": 21,
         "M": 0,
         "All": 21,
         "prop_female": 1,
         "_deepnote_index_column": "aalanah"
        },
        {
         "F": 122,
         "M": 0,
         "All": 122,
         "prop_female": 1,
         "_deepnote_index_column": "aalani"
        },
        {
         "F": 0,
         "M": 6,
         "All": 6,
         "prop_female": 0,
         "_deepnote_index_column": "aalap"
        },
        {
         "F": 5,
         "M": 0,
         "All": 5,
         "prop_female": 1,
         "_deepnote_index_column": "aalasia"
        },
        {
         "F": 165,
         "M": 0,
         "All": 165,
         "prop_female": 1,
         "_deepnote_index_column": "aalaya"
        },
        {
         "F": 925,
         "M": 0,
         "All": 925,
         "prop_female": 1,
         "_deepnote_index_column": "aalayah"
        },
        {
         "F": 20,
         "M": 0,
         "All": 20,
         "prop_female": 1,
         "_deepnote_index_column": "aalayiah"
        },
        {
         "F": 6,
         "M": 0,
         "All": 6,
         "prop_female": 1,
         "_deepnote_index_column": "aalayjah"
        },
        {
         "F": 40,
         "M": 0,
         "All": 40,
         "prop_female": 1,
         "_deepnote_index_column": "aalayna"
        },
        {
         "F": 17,
         "M": 0,
         "All": 17,
         "prop_female": 1,
         "_deepnote_index_column": "aalaysha"
        },
        {
         "F": 147,
         "M": 0,
         "All": 147,
         "prop_female": 1,
         "_deepnote_index_column": "aalaysia"
        },
        {
         "F": 7,
         "M": 0,
         "All": 7,
         "prop_female": 1,
         "_deepnote_index_column": "aalea"
        },
        {
         "F": 299,
         "M": 0,
         "All": 299,
         "prop_female": 1,
         "_deepnote_index_column": "aaleah"
        },
        {
         "F": 20,
         "M": 0,
         "All": 20,
         "prop_female": 1,
         "_deepnote_index_column": "aaleahya"
        },
        {
         "F": 5,
         "M": 0,
         "All": 5,
         "prop_female": 1,
         "_deepnote_index_column": "aaleayah"
        },
        {
         "F": 5,
         "M": 0,
         "All": 5,
         "prop_female": 1,
         "_deepnote_index_column": "aaleena"
        },
        {
         "F": 5,
         "M": 0,
         "All": 5,
         "prop_female": 1,
         "_deepnote_index_column": "aaleeya"
        },
        {
         "F": 128,
         "M": 0,
         "All": 128,
         "prop_female": 1,
         "_deepnote_index_column": "aaleeyah"
        },
        {
         "F": 6,
         "M": 0,
         "All": 6,
         "prop_female": 1,
         "_deepnote_index_column": "aaleiah"
        },
        {
         "F": 171,
         "M": 0,
         "All": 171,
         "prop_female": 1,
         "_deepnote_index_column": "aaleigha"
        },
        {
         "F": 29,
         "M": 0,
         "All": 29,
         "prop_female": 1,
         "_deepnote_index_column": "aaleiya"
        },
        {
         "F": 48,
         "M": 0,
         "All": 48,
         "prop_female": 1,
         "_deepnote_index_column": "aaleiyah"
        },
        {
         "F": 5,
         "M": 0,
         "All": 5,
         "prop_female": 1,
         "_deepnote_index_column": "aalena"
        },
        {
         "F": 20,
         "M": 0,
         "All": 20,
         "prop_female": 1,
         "_deepnote_index_column": "aalexis"
        },
        {
         "F": 6,
         "M": 0,
         "All": 6,
         "prop_female": 1,
         "_deepnote_index_column": "aalexus"
        }
       ],
       "rows_bottom": [
        {
         "F": 444,
         "M": 0,
         "All": 444,
         "prop_female": 1,
         "_deepnote_index_column": "zykia"
        },
        {
         "F": 18,
         "M": 0,
         "All": 18,
         "prop_female": 1,
         "_deepnote_index_column": "zykiah"
        },
        {
         "F": 11,
         "M": 0,
         "All": 11,
         "prop_female": 1,
         "_deepnote_index_column": "zykiera"
        },
        {
         "F": 12,
         "M": 0,
         "All": 12,
         "prop_female": 1,
         "_deepnote_index_column": "zykierra"
        },
        {
         "F": 0,
         "M": 46,
         "All": 46,
         "prop_female": 0,
         "_deepnote_index_column": "zyking"
        },
        {
         "F": 0,
         "M": 5,
         "All": 5,
         "prop_female": 0,
         "_deepnote_index_column": "zykir"
        },
        {
         "F": 264,
         "M": 0,
         "All": 264,
         "prop_female": 1,
         "_deepnote_index_column": "zykira"
        },
        {
         "F": 32,
         "M": 0,
         "All": 32,
         "prop_female": 1,
         "_deepnote_index_column": "zykirah"
        },
        {
         "F": 88,
         "M": 0,
         "All": 88,
         "prop_female": 1,
         "_deepnote_index_column": "zykiria"
        },
        {
         "F": 1124,
         "M": 0,
         "All": 1124,
         "prop_female": 1,
         "_deepnote_index_column": "zyla"
        },
        {
         "F": 5,
         "M": 0,
         "All": 5,
         "prop_female": 1,
         "_deepnote_index_column": "zylaa"
        },
        {
         "F": 659,
         "M": 0,
         "All": 659,
         "prop_female": 1,
         "_deepnote_index_column": "zylah"
        },
        {
         "F": 0,
         "M": 315,
         "All": 315,
         "prop_female": 0,
         "_deepnote_index_column": "zylan"
        },
        {
         "F": 0,
         "M": 64,
         "All": 64,
         "prop_female": 0,
         "_deepnote_index_column": "zylar"
        },
        {
         "F": 0,
         "M": 27,
         "All": 27,
         "prop_female": 0,
         "_deepnote_index_column": "zylas"
        },
        {
         "F": 44,
         "M": 0,
         "All": 44,
         "prop_female": 1,
         "_deepnote_index_column": "zyleah"
        },
        {
         "F": 123,
         "M": 0,
         "All": 123,
         "prop_female": 1,
         "_deepnote_index_column": "zylee"
        },
        {
         "F": 49,
         "M": 0,
         "All": 49,
         "prop_female": 1,
         "_deepnote_index_column": "zyleigh"
        },
        {
         "F": 0,
         "M": 304,
         "All": 304,
         "prop_female": 0,
         "_deepnote_index_column": "zylen"
        },
        {
         "F": 0,
         "M": 1099,
         "All": 1099,
         "prop_female": 0,
         "_deepnote_index_column": "zyler"
        },
        {
         "F": 21,
         "M": 0,
         "All": 21,
         "prop_female": 1,
         "_deepnote_index_column": "zylia"
        },
        {
         "F": 69,
         "M": 0,
         "All": 69,
         "prop_female": 1,
         "_deepnote_index_column": "zyliah"
        },
        {
         "F": 108,
         "M": 0,
         "All": 108,
         "prop_female": 1,
         "_deepnote_index_column": "zylie"
        },
        {
         "F": 0,
         "M": 60,
         "All": 60,
         "prop_female": 0,
         "_deepnote_index_column": "zylin"
        },
        {
         "F": 0,
         "M": 19,
         "All": 19,
         "prop_female": 0,
         "_deepnote_index_column": "zylis"
        },
        {
         "F": 20,
         "M": 0,
         "All": 20,
         "prop_female": 1,
         "_deepnote_index_column": "zyliyah"
        },
        {
         "F": 18,
         "M": 0,
         "All": 18,
         "prop_female": 1,
         "_deepnote_index_column": "zyllah"
        },
        {
         "F": 0,
         "M": 14,
         "All": 14,
         "prop_female": 0,
         "_deepnote_index_column": "zylo"
        },
        {
         "F": 0,
         "M": 112,
         "All": 112,
         "prop_female": 0,
         "_deepnote_index_column": "zylon"
        },
        {
         "F": 84,
         "M": 0,
         "All": 84,
         "prop_female": 1,
         "_deepnote_index_column": "zylpha"
        },
        {
         "F": 29,
         "M": 0,
         "All": 29,
         "prop_female": 1,
         "_deepnote_index_column": "zylphia"
        },
        {
         "F": 0,
         "M": 21,
         "All": 21,
         "prop_female": 0,
         "_deepnote_index_column": "zylus"
        },
        {
         "F": 0,
         "M": 5,
         "All": 5,
         "prop_female": 0,
         "_deepnote_index_column": "zylyn"
        },
        {
         "F": 25,
         "M": 0,
         "All": 25,
         "prop_female": 1,
         "_deepnote_index_column": "zylynn"
        },
        {
         "F": 0,
         "M": 6,
         "All": 6,
         "prop_female": 0,
         "_deepnote_index_column": "zymair"
        },
        {
         "F": 0,
         "M": 5,
         "All": 5,
         "prop_female": 0,
         "_deepnote_index_column": "zymaire"
        },
        {
         "F": 15,
         "M": 0,
         "All": 15,
         "prop_female": 1,
         "_deepnote_index_column": "zymal"
        },
        {
         "F": 0,
         "M": 54,
         "All": 54,
         "prop_female": 0,
         "_deepnote_index_column": "zymari"
        },
        {
         "F": 13,
         "M": 0,
         "All": 13,
         "prop_female": 1,
         "_deepnote_index_column": "zymaria"
        },
        {
         "F": 0,
         "M": 131,
         "All": 131,
         "prop_female": 0,
         "_deepnote_index_column": "zymarion"
        },
        {
         "F": 0,
         "M": 41,
         "All": 41,
         "prop_female": 0,
         "_deepnote_index_column": "zymeer"
        },
        {
         "F": 0,
         "M": 155,
         "All": 155,
         "prop_female": 0,
         "_deepnote_index_column": "zymeir"
        },
        {
         "F": 0,
         "M": 6,
         "All": 6,
         "prop_female": 0,
         "_deepnote_index_column": "zymeire"
        },
        {
         "F": 0,
         "M": 436,
         "All": 436,
         "prop_female": 0,
         "_deepnote_index_column": "zymere"
        },
        {
         "F": 55,
         "M": 0,
         "All": 55,
         "prop_female": 1,
         "_deepnote_index_column": "zymeria"
        },
        {
         "F": 43,
         "M": 0,
         "All": 43,
         "prop_female": 1,
         "_deepnote_index_column": "zymia"
        },
        {
         "F": 11,
         "M": 0,
         "All": 11,
         "prop_female": 1,
         "_deepnote_index_column": "zymiah"
        },
        {
         "F": 0,
         "M": 192,
         "All": 192,
         "prop_female": 0,
         "_deepnote_index_column": "zymier"
        },
        {
         "F": 0,
         "M": 76,
         "All": 76,
         "prop_female": 0,
         "_deepnote_index_column": "zymiere"
        },
        {
         "F": 5,
         "M": 936,
         "All": 941,
         "prop_female": 0.005313496280552604,
         "_deepnote_index_column": "zymir"
        },
        {
         "F": 61,
         "M": 0,
         "All": 61,
         "prop_female": 1,
         "_deepnote_index_column": "zymira"
        },
        {
         "F": 48,
         "M": 0,
         "All": 48,
         "prop_female": 1,
         "_deepnote_index_column": "zymirah"
        },
        {
         "F": 0,
         "M": 147,
         "All": 147,
         "prop_female": 0,
         "_deepnote_index_column": "zymire"
        },
        {
         "F": 6,
         "M": 0,
         "All": 6,
         "prop_female": 1,
         "_deepnote_index_column": "zymya"
        },
        {
         "F": 0,
         "M": 5,
         "All": 5,
         "prop_female": 0,
         "_deepnote_index_column": "zyn"
        },
        {
         "F": 12,
         "M": 0,
         "All": 12,
         "prop_female": 1,
         "_deepnote_index_column": "zyna"
        },
        {
         "F": 5,
         "M": 0,
         "All": 5,
         "prop_female": 1,
         "_deepnote_index_column": "zynab"
        },
        {
         "F": 24,
         "M": 0,
         "All": 24,
         "prop_female": 1,
         "_deepnote_index_column": "zynae"
        },
        {
         "F": 41,
         "M": 0,
         "All": 41,
         "prop_female": 1,
         "_deepnote_index_column": "zynah"
        },
        {
         "F": 10,
         "M": 0,
         "All": 10,
         "prop_female": 1,
         "_deepnote_index_column": "zynaria"
        },
        {
         "F": 74,
         "M": 0,
         "All": 74,
         "prop_female": 1,
         "_deepnote_index_column": "zynasia"
        },
        {
         "F": 0,
         "M": 14,
         "All": 14,
         "prop_female": 0,
         "_deepnote_index_column": "zyndall"
        },
        {
         "F": 5,
         "M": 0,
         "All": 5,
         "prop_female": 1,
         "_deepnote_index_column": "zyndaya"
        },
        {
         "F": 185,
         "M": 0,
         "All": 185,
         "prop_female": 1,
         "_deepnote_index_column": "zynia"
        },
        {
         "F": 205,
         "M": 0,
         "All": 205,
         "prop_female": 1,
         "_deepnote_index_column": "zyniah"
        },
        {
         "F": 69,
         "M": 0,
         "All": 69,
         "prop_female": 1,
         "_deepnote_index_column": "zynique"
        },
        {
         "F": 22,
         "M": 0,
         "All": 22,
         "prop_female": 1,
         "_deepnote_index_column": "zyniya"
        },
        {
         "F": 57,
         "M": 0,
         "All": 57,
         "prop_female": 1,
         "_deepnote_index_column": "zyniyah"
        },
        {
         "F": 10,
         "M": 0,
         "All": 10,
         "prop_female": 1,
         "_deepnote_index_column": "zynlee"
        },
        {
         "F": 6,
         "M": 0,
         "All": 6,
         "prop_female": 1,
         "_deepnote_index_column": "zynovia"
        },
        {
         "F": 645,
         "M": 2853,
         "All": 3498,
         "prop_female": 0.1843910806174957,
         "_deepnote_index_column": "zyon"
        },
        {
         "F": 116,
         "M": 0,
         "All": 116,
         "prop_female": 1,
         "_deepnote_index_column": "zyona"
        },
        {
         "F": 12,
         "M": 0,
         "All": 12,
         "prop_female": 1,
         "_deepnote_index_column": "zyonah"
        },
        {
         "F": 5,
         "M": 53,
         "All": 58,
         "prop_female": 0.08620689655172414,
         "_deepnote_index_column": "zyonn"
        },
        {
         "F": 502,
         "M": 0,
         "All": 502,
         "prop_female": 1,
         "_deepnote_index_column": "zyonna"
        },
        {
         "F": 20,
         "M": 0,
         "All": 20,
         "prop_female": 1,
         "_deepnote_index_column": "zyonnah"
        },
        {
         "F": 0,
         "M": 5,
         "All": 5,
         "prop_female": 0,
         "_deepnote_index_column": "zyonne"
        },
        {
         "F": 0,
         "M": 280,
         "All": 280,
         "prop_female": 0,
         "_deepnote_index_column": "zyquan"
        },
        {
         "F": 0,
         "M": 29,
         "All": 29,
         "prop_female": 0,
         "_deepnote_index_column": "zyquarius"
        },
        {
         "F": 0,
         "M": 11,
         "All": 11,
         "prop_female": 0,
         "_deepnote_index_column": "zyquavion"
        },
        {
         "F": 0,
         "M": 20,
         "All": 20,
         "prop_female": 0,
         "_deepnote_index_column": "zyquavious"
        },
        {
         "F": 0,
         "M": 38,
         "All": 38,
         "prop_female": 0,
         "_deepnote_index_column": "zyquez"
        },
        {
         "F": 625,
         "M": 0,
         "All": 625,
         "prop_female": 1,
         "_deepnote_index_column": "zyra"
        },
        {
         "F": 242,
         "M": 0,
         "All": 242,
         "prop_female": 1,
         "_deepnote_index_column": "zyrah"
        },
        {
         "F": 0,
         "M": 36,
         "All": 36,
         "prop_female": 0,
         "_deepnote_index_column": "zyran"
        },
        {
         "F": 16,
         "M": 104,
         "All": 120,
         "prop_female": 0.13333333333333333,
         "_deepnote_index_column": "zyree"
        },
        {
         "F": 0,
         "M": 5,
         "All": 5,
         "prop_female": 0,
         "_deepnote_index_column": "zyreion"
        },
        {
         "F": 0,
         "M": 5,
         "All": 5,
         "prop_female": 0,
         "_deepnote_index_column": "zyrek"
        },
        {
         "F": 0,
         "M": 131,
         "All": 131,
         "prop_female": 0,
         "_deepnote_index_column": "zyrell"
        },
        {
         "F": 0,
         "M": 128,
         "All": 128,
         "prop_female": 0,
         "_deepnote_index_column": "zyren"
        },
        {
         "F": 0,
         "M": 14,
         "All": 14,
         "prop_female": 0,
         "_deepnote_index_column": "zyreon"
        },
        {
         "F": 0,
         "M": 5,
         "All": 5,
         "prop_female": 0,
         "_deepnote_index_column": "zyrese"
        },
        {
         "F": 6,
         "M": 0,
         "All": 6,
         "prop_female": 1,
         "_deepnote_index_column": "zyrhiana"
        },
        {
         "F": 6,
         "M": 0,
         "All": 6,
         "prop_female": 1,
         "_deepnote_index_column": "zyri"
        },
        {
         "F": 371,
         "M": 0,
         "All": 371,
         "prop_female": 1,
         "_deepnote_index_column": "zyria"
        },
        {
         "F": 438,
         "M": 0,
         "All": 438,
         "prop_female": 1,
         "_deepnote_index_column": "zyriah"
        },
        {
         "F": 0,
         "M": 10,
         "All": 10,
         "prop_female": 0,
         "_deepnote_index_column": "zyrian"
        },
        {
         "F": 30,
         "M": 0,
         "All": 30,
         "prop_female": 1,
         "_deepnote_index_column": "zyriana"
        },
        {
         "F": 41,
         "M": 0,
         "All": 41,
         "prop_female": 1,
         "_deepnote_index_column": "zyrianna"
        },
        {
         "F": 26,
         "M": 24,
         "All": 50,
         "prop_female": 0.52,
         "_deepnote_index_column": "zyrie"
        },
        {
         "F": 16,
         "M": 0,
         "All": 16,
         "prop_female": 1,
         "_deepnote_index_column": "zyriel"
        },
        {
         "F": 32,
         "M": 0,
         "All": 32,
         "prop_female": 1,
         "_deepnote_index_column": "zyrielle"
        },
        {
         "F": 45,
         "M": 0,
         "All": 45,
         "prop_female": 1,
         "_deepnote_index_column": "zyrihanna"
        },
        {
         "F": 0,
         "M": 10,
         "All": 10,
         "prop_female": 0,
         "_deepnote_index_column": "zyrin"
        },
        {
         "F": 0,
         "M": 101,
         "All": 101,
         "prop_female": 0,
         "_deepnote_index_column": "zyrion"
        },
        {
         "F": 16,
         "M": 0,
         "All": 16,
         "prop_female": 1,
         "_deepnote_index_column": "zyriyah"
        },
        {
         "F": 0,
         "M": 221,
         "All": 221,
         "prop_female": 0,
         "_deepnote_index_column": "zyron"
        },
        {
         "F": 0,
         "M": 86,
         "All": 86,
         "prop_female": 0,
         "_deepnote_index_column": "zyrus"
        },
        {
         "F": 0,
         "M": 5,
         "All": 5,
         "prop_female": 0,
         "_deepnote_index_column": "zysean"
        },
        {
         "F": 0,
         "M": 34,
         "All": 34,
         "prop_female": 0,
         "_deepnote_index_column": "zyshaun"
        },
        {
         "F": 0,
         "M": 146,
         "All": 146,
         "prop_female": 0,
         "_deepnote_index_column": "zyshawn"
        },
        {
         "F": 0,
         "M": 19,
         "All": 19,
         "prop_female": 0,
         "_deepnote_index_column": "zyshon"
        },
        {
         "F": 0,
         "M": 101,
         "All": 101,
         "prop_female": 0,
         "_deepnote_index_column": "zyshonne"
        },
        {
         "F": 0,
         "M": 5,
         "All": 5,
         "prop_female": 0,
         "_deepnote_index_column": "zytaevius"
        },
        {
         "F": 0,
         "M": 17,
         "All": 17,
         "prop_female": 0,
         "_deepnote_index_column": "zytaveon"
        },
        {
         "F": 0,
         "M": 5,
         "All": 5,
         "prop_female": 0,
         "_deepnote_index_column": "zytavion"
        },
        {
         "F": 0,
         "M": 43,
         "All": 43,
         "prop_female": 0,
         "_deepnote_index_column": "zytavious"
        },
        {
         "F": 0,
         "M": 11,
         "All": 11,
         "prop_female": 0,
         "_deepnote_index_column": "zyus"
        },
        {
         "F": 32,
         "M": 0,
         "All": 32,
         "prop_female": 1,
         "_deepnote_index_column": "zyva"
        },
        {
         "F": 0,
         "M": 5,
         "All": 5,
         "prop_female": 0,
         "_deepnote_index_column": "zyvion"
        },
        {
         "F": 0,
         "M": 7,
         "All": 7,
         "prop_female": 0,
         "_deepnote_index_column": "zyvon"
        },
        {
         "F": 6,
         "M": 0,
         "All": 6,
         "prop_female": 1,
         "_deepnote_index_column": "zyyanna"
        },
        {
         "F": 0,
         "M": 6,
         "All": 6,
         "prop_female": 0,
         "_deepnote_index_column": "zyyon"
        },
        {
         "F": 0,
         "M": 10,
         "All": 10,
         "prop_female": 0,
         "_deepnote_index_column": "zzyzx"
        },
        {
         "F": 175768302,
         "M": 179381597,
         "All": 355149899,
         "prop_female": 0.4949130001019654,
         "_deepnote_index_column": "All"
        }
       ]
      },
      "text/plain": "sex              F          M        All  prop_female\nname                                                 \naaban            0        120        120     0.000000\naabha           40          0         40     1.000000\naabid            0         16         16     0.000000\naabidah          5          0          5     1.000000\naabir            0         10         10     0.000000\n...            ...        ...        ...          ...\nzyvon            0          7          7     0.000000\nzyyanna          6          0          6     1.000000\nzyyon            0          6          6     0.000000\nzzyzx            0         10         10     0.000000\nAll      175768302  179381597  355149899     0.494913\n\n[99445 rows x 4 columns]",
      "text/html": "<div>\n<style scoped>\n    .dataframe tbody tr th:only-of-type {\n        vertical-align: middle;\n    }\n\n    .dataframe tbody tr th {\n        vertical-align: top;\n    }\n\n    .dataframe thead th {\n        text-align: right;\n    }\n</style>\n<table border=\"1\" class=\"dataframe\">\n  <thead>\n    <tr style=\"text-align: right;\">\n      <th>sex</th>\n      <th>F</th>\n      <th>M</th>\n      <th>All</th>\n      <th>prop_female</th>\n    </tr>\n    <tr>\n      <th>name</th>\n      <th></th>\n      <th></th>\n      <th></th>\n      <th></th>\n    </tr>\n  </thead>\n  <tbody>\n    <tr>\n      <th>aaban</th>\n      <td>0</td>\n      <td>120</td>\n      <td>120</td>\n      <td>0.000000</td>\n    </tr>\n    <tr>\n      <th>aabha</th>\n      <td>40</td>\n      <td>0</td>\n      <td>40</td>\n      <td>1.000000</td>\n    </tr>\n    <tr>\n      <th>aabid</th>\n      <td>0</td>\n      <td>16</td>\n      <td>16</td>\n      <td>0.000000</td>\n    </tr>\n    <tr>\n      <th>aabidah</th>\n      <td>5</td>\n      <td>0</td>\n      <td>5</td>\n      <td>1.000000</td>\n    </tr>\n    <tr>\n      <th>aabir</th>\n      <td>0</td>\n      <td>10</td>\n      <td>10</td>\n      <td>0.000000</td>\n    </tr>\n    <tr>\n      <th>...</th>\n      <td>...</td>\n      <td>...</td>\n      <td>...</td>\n      <td>...</td>\n    </tr>\n    <tr>\n      <th>zyvon</th>\n      <td>0</td>\n      <td>7</td>\n      <td>7</td>\n      <td>0.000000</td>\n    </tr>\n    <tr>\n      <th>zyyanna</th>\n      <td>6</td>\n      <td>0</td>\n      <td>6</td>\n      <td>1.000000</td>\n    </tr>\n    <tr>\n      <th>zyyon</th>\n      <td>0</td>\n      <td>6</td>\n      <td>6</td>\n      <td>0.000000</td>\n    </tr>\n    <tr>\n      <th>zzyzx</th>\n      <td>0</td>\n      <td>10</td>\n      <td>10</td>\n      <td>0.000000</td>\n    </tr>\n    <tr>\n      <th>All</th>\n      <td>175768302</td>\n      <td>179381597</td>\n      <td>355149899</td>\n      <td>0.494913</td>\n    </tr>\n  </tbody>\n</table>\n<p>99445 rows × 4 columns</p>\n</div>"
     },
     "metadata": {}
    }
   ]
  },
  {
   "cell_type": "markdown",
   "source": "### Using Inferences to Draw Conclusion (Part 1: Infer Sex From Name)",
   "metadata": {
    "tags": [],
    "cell_id": "00016-83316a9f-cb91-4add-ad0d-0b44b17cb13f",
    "output_cleared": false,
    "deepnote_cell_type": "markdown"
   }
  },
  {
   "cell_type": "code",
   "metadata": {
    "tags": [],
    "cell_id": "00011-a0962220-1ac4-4cfd-bd81-3905199a9342",
    "output_cleared": false,
    "deepnote_to_be_reexecuted": false,
    "source_hash": "8bc22484",
    "execution_start": 1622070021946,
    "execution_millis": 9,
    "deepnote_cell_type": "code"
   },
   "source": "# create a function using the proportion of females to infer the sex of the participant, based on name\ndef sex_from_name(name):\n    if name in sex_counts.index:\n        prop = sex_counts.loc[name, 'prop_female']\n        return 'Female' if prop > 0.5 else 'Male'\n    else:\n        return np.nan\n\nsex_from_name('armine')",
   "execution_count": 72,
   "outputs": [
    {
     "output_type": "execute_result",
     "execution_count": 72,
     "data": {
      "text/plain": "'Female'"
     },
     "metadata": {}
    }
   ]
  },
  {
   "cell_type": "code",
   "metadata": {
    "tags": [],
    "cell_id": "00012-a3cd66a2-ebe0-40cb-8065-5df6c4113bac",
    "output_cleared": false,
    "deepnote_to_be_reexecuted": false,
    "source_hash": "d49affa2",
    "execution_start": 1622070021956,
    "execution_millis": 29,
    "deepnote_cell_type": "code"
   },
   "source": "# create a column in our dataset of the sex inferences by applying the sex_from_name function \nresponses['inferred sex'] = responses['name'].apply(sex_from_name)\nresponses",
   "execution_count": 73,
   "outputs": [
    {
     "output_type": "execute_result",
     "execution_count": 73,
     "data": {
      "application/vnd.deepnote.dataframe.v2+json": {
       "row_count": 30,
       "column_count": 4,
       "columns": [
        {
         "name": "name",
         "dtype": "object",
         "stats": {
          "unique_count": 29,
          "nan_count": 0,
          "categories": [
           {
            "name": "sophia",
            "count": 2
           },
           {
            "name": "joanne",
            "count": 1
           },
           {
            "name": "27 others",
            "count": 27
           }
          ]
         }
        },
        {
         "name": "sex",
         "dtype": "object",
         "stats": {
          "unique_count": 3,
          "nan_count": 0,
          "categories": [
           {
            "name": "Female",
            "count": 16
           },
           {
            "name": "Male",
            "count": 12
           },
           {
            "name": "Other",
            "count": 2
           }
          ]
         }
        },
        {
         "name": "age",
         "dtype": "int64",
         "stats": {
          "unique_count": 5,
          "nan_count": 0,
          "min": "18",
          "max": "22",
          "histogram": [
           {
            "bin_start": 18,
            "bin_end": 18.4,
            "count": 3
           },
           {
            "bin_start": 18.4,
            "bin_end": 18.8,
            "count": 0
           },
           {
            "bin_start": 18.8,
            "bin_end": 19.2,
            "count": 9
           },
           {
            "bin_start": 19.2,
            "bin_end": 19.6,
            "count": 0
           },
           {
            "bin_start": 19.6,
            "bin_end": 20,
            "count": 0
           },
           {
            "bin_start": 20,
            "bin_end": 20.4,
            "count": 8
           },
           {
            "bin_start": 20.4,
            "bin_end": 20.8,
            "count": 0
           },
           {
            "bin_start": 20.8,
            "bin_end": 21.2,
            "count": 7
           },
           {
            "bin_start": 21.2,
            "bin_end": 21.6,
            "count": 0
           },
           {
            "bin_start": 21.6,
            "bin_end": 22,
            "count": 3
           }
          ]
         }
        },
        {
         "name": "inferred sex",
         "dtype": "object",
         "stats": {
          "unique_count": 2,
          "nan_count": 3,
          "categories": [
           {
            "name": "Female",
            "count": 16
           },
           {
            "name": "Male",
            "count": 11
           },
           {
            "name": "Missing",
            "count": 3
           }
          ]
         }
        },
        {
         "name": "_deepnote_index_column",
         "dtype": "int64"
        }
       ],
       "rows_top": [
        {
         "name": "joanne",
         "sex": "Female",
         "age": 19,
         "inferred sex": "Female",
         "_deepnote_index_column": 0
        },
        {
         "name": "alex",
         "sex": "Male",
         "age": 20,
         "inferred sex": "Male",
         "_deepnote_index_column": 1
        },
        {
         "name": "kiara",
         "sex": "Female",
         "age": 20,
         "inferred sex": "Female",
         "_deepnote_index_column": 2
        },
        {
         "name": "noppakan",
         "sex": "Female",
         "age": 19,
         "inferred sex": "nan",
         "_deepnote_index_column": 3
        },
        {
         "name": "minh-huy",
         "sex": "Male",
         "age": 18,
         "inferred sex": "nan",
         "_deepnote_index_column": 4
        },
        {
         "name": "haoyu",
         "sex": "Male",
         "age": 19,
         "inferred sex": "Male",
         "_deepnote_index_column": 5
        },
        {
         "name": "jihee",
         "sex": "Female",
         "age": 19,
         "inferred sex": "nan",
         "_deepnote_index_column": 6
        },
        {
         "name": "jennie",
         "sex": "Female",
         "age": 20,
         "inferred sex": "Female",
         "_deepnote_index_column": 7
        },
        {
         "name": "wyatt",
         "sex": "Male",
         "age": 22,
         "inferred sex": "Male",
         "_deepnote_index_column": 8
        },
        {
         "name": "megan",
         "sex": "Female",
         "age": 21,
         "inferred sex": "Female",
         "_deepnote_index_column": 9
        },
        {
         "name": "hannah",
         "sex": "Female",
         "age": 20,
         "inferred sex": "Female",
         "_deepnote_index_column": 10
        },
        {
         "name": "frances",
         "sex": "Female",
         "age": 21,
         "inferred sex": "Female",
         "_deepnote_index_column": 11
        },
        {
         "name": "tyler",
         "sex": "Male",
         "age": 20,
         "inferred sex": "Male",
         "_deepnote_index_column": 12
        },
        {
         "name": "anna",
         "sex": "Female",
         "age": 18,
         "inferred sex": "Female",
         "_deepnote_index_column": 13
        },
        {
         "name": "cj",
         "sex": "Male",
         "age": 20,
         "inferred sex": "Male",
         "_deepnote_index_column": 14
        },
        {
         "name": "jake",
         "sex": "Male",
         "age": 20,
         "inferred sex": "Male",
         "_deepnote_index_column": 15
        },
        {
         "name": "shail",
         "sex": "Male",
         "age": 21,
         "inferred sex": "Male",
         "_deepnote_index_column": 16
        },
        {
         "name": "aaron",
         "sex": "Male",
         "age": 20,
         "inferred sex": "Male",
         "_deepnote_index_column": 17
        },
        {
         "name": "sophia",
         "sex": "Female",
         "age": 22,
         "inferred sex": "Female",
         "_deepnote_index_column": 18
        },
        {
         "name": "laila",
         "sex": "Female",
         "age": 21,
         "inferred sex": "Female",
         "_deepnote_index_column": 19
        },
        {
         "name": "armine",
         "sex": "Other",
         "age": 22,
         "inferred sex": "Female",
         "_deepnote_index_column": 20
        },
        {
         "name": "stephanie",
         "sex": "Female",
         "age": 21,
         "inferred sex": "Female",
         "_deepnote_index_column": 21
        },
        {
         "name": "claudea",
         "sex": "Female",
         "age": 19,
         "inferred sex": "Female",
         "_deepnote_index_column": 22
        },
        {
         "name": "roshan",
         "sex": "Male",
         "age": 21,
         "inferred sex": "Male",
         "_deepnote_index_column": 23
        },
        {
         "name": "sabrina",
         "sex": "Other",
         "age": 19,
         "inferred sex": "Female",
         "_deepnote_index_column": 24
        },
        {
         "name": "helen",
         "sex": "Female",
         "age": 19,
         "inferred sex": "Female",
         "_deepnote_index_column": 25
        },
        {
         "name": "schuyler",
         "sex": "Male",
         "age": 19,
         "inferred sex": "Male",
         "_deepnote_index_column": 26
        },
        {
         "name": "joyce",
         "sex": "Female",
         "age": 18,
         "inferred sex": "Female",
         "_deepnote_index_column": 27
        },
        {
         "name": "armaan",
         "sex": "Male",
         "age": 21,
         "inferred sex": "Male",
         "_deepnote_index_column": 28
        },
        {
         "name": "sophia",
         "sex": "Female",
         "age": 19,
         "inferred sex": "Female",
         "_deepnote_index_column": 29
        }
       ],
       "rows_bottom": null
      },
      "text/plain": "         name     sex  age inferred sex\n0      joanne  Female   19       Female\n1        alex    Male   20         Male\n2       kiara  Female   20       Female\n3    noppakan  Female   19          NaN\n4    minh-huy    Male   18          NaN\n5       haoyu    Male   19         Male\n6       jihee  Female   19          NaN\n7      jennie  Female   20       Female\n8       wyatt    Male   22         Male\n9       megan  Female   21       Female\n10     hannah  Female   20       Female\n11    frances  Female   21       Female\n12      tyler    Male   20         Male\n13       anna  Female   18       Female\n14         cj    Male   20         Male\n15       jake    Male   20         Male\n16      shail    Male   21         Male\n17      aaron    Male   20         Male\n18     sophia  Female   22       Female\n19      laila  Female   21       Female\n20     armine   Other   22       Female\n21  stephanie  Female   21       Female\n22    claudea  Female   19       Female\n23     roshan    Male   21         Male\n24    sabrina   Other   19       Female\n25      helen  Female   19       Female\n26   schuyler    Male   19         Male\n27      joyce  Female   18       Female\n28     armaan    Male   21         Male\n29     sophia  Female   19       Female",
      "text/html": "<div>\n<style scoped>\n    .dataframe tbody tr th:only-of-type {\n        vertical-align: middle;\n    }\n\n    .dataframe tbody tr th {\n        vertical-align: top;\n    }\n\n    .dataframe thead th {\n        text-align: right;\n    }\n</style>\n<table border=\"1\" class=\"dataframe\">\n  <thead>\n    <tr style=\"text-align: right;\">\n      <th></th>\n      <th>name</th>\n      <th>sex</th>\n      <th>age</th>\n      <th>inferred sex</th>\n    </tr>\n  </thead>\n  <tbody>\n    <tr>\n      <th>0</th>\n      <td>joanne</td>\n      <td>Female</td>\n      <td>19</td>\n      <td>Female</td>\n    </tr>\n    <tr>\n      <th>1</th>\n      <td>alex</td>\n      <td>Male</td>\n      <td>20</td>\n      <td>Male</td>\n    </tr>\n    <tr>\n      <th>2</th>\n      <td>kiara</td>\n      <td>Female</td>\n      <td>20</td>\n      <td>Female</td>\n    </tr>\n    <tr>\n      <th>3</th>\n      <td>noppakan</td>\n      <td>Female</td>\n      <td>19</td>\n      <td>NaN</td>\n    </tr>\n    <tr>\n      <th>4</th>\n      <td>minh-huy</td>\n      <td>Male</td>\n      <td>18</td>\n      <td>NaN</td>\n    </tr>\n    <tr>\n      <th>5</th>\n      <td>haoyu</td>\n      <td>Male</td>\n      <td>19</td>\n      <td>Male</td>\n    </tr>\n    <tr>\n      <th>6</th>\n      <td>jihee</td>\n      <td>Female</td>\n      <td>19</td>\n      <td>NaN</td>\n    </tr>\n    <tr>\n      <th>7</th>\n      <td>jennie</td>\n      <td>Female</td>\n      <td>20</td>\n      <td>Female</td>\n    </tr>\n    <tr>\n      <th>8</th>\n      <td>wyatt</td>\n      <td>Male</td>\n      <td>22</td>\n      <td>Male</td>\n    </tr>\n    <tr>\n      <th>9</th>\n      <td>megan</td>\n      <td>Female</td>\n      <td>21</td>\n      <td>Female</td>\n    </tr>\n    <tr>\n      <th>10</th>\n      <td>hannah</td>\n      <td>Female</td>\n      <td>20</td>\n      <td>Female</td>\n    </tr>\n    <tr>\n      <th>11</th>\n      <td>frances</td>\n      <td>Female</td>\n      <td>21</td>\n      <td>Female</td>\n    </tr>\n    <tr>\n      <th>12</th>\n      <td>tyler</td>\n      <td>Male</td>\n      <td>20</td>\n      <td>Male</td>\n    </tr>\n    <tr>\n      <th>13</th>\n      <td>anna</td>\n      <td>Female</td>\n      <td>18</td>\n      <td>Female</td>\n    </tr>\n    <tr>\n      <th>14</th>\n      <td>cj</td>\n      <td>Male</td>\n      <td>20</td>\n      <td>Male</td>\n    </tr>\n    <tr>\n      <th>15</th>\n      <td>jake</td>\n      <td>Male</td>\n      <td>20</td>\n      <td>Male</td>\n    </tr>\n    <tr>\n      <th>16</th>\n      <td>shail</td>\n      <td>Male</td>\n      <td>21</td>\n      <td>Male</td>\n    </tr>\n    <tr>\n      <th>17</th>\n      <td>aaron</td>\n      <td>Male</td>\n      <td>20</td>\n      <td>Male</td>\n    </tr>\n    <tr>\n      <th>18</th>\n      <td>sophia</td>\n      <td>Female</td>\n      <td>22</td>\n      <td>Female</td>\n    </tr>\n    <tr>\n      <th>19</th>\n      <td>laila</td>\n      <td>Female</td>\n      <td>21</td>\n      <td>Female</td>\n    </tr>\n    <tr>\n      <th>20</th>\n      <td>armine</td>\n      <td>Other</td>\n      <td>22</td>\n      <td>Female</td>\n    </tr>\n    <tr>\n      <th>21</th>\n      <td>stephanie</td>\n      <td>Female</td>\n      <td>21</td>\n      <td>Female</td>\n    </tr>\n    <tr>\n      <th>22</th>\n      <td>claudea</td>\n      <td>Female</td>\n      <td>19</td>\n      <td>Female</td>\n    </tr>\n    <tr>\n      <th>23</th>\n      <td>roshan</td>\n      <td>Male</td>\n      <td>21</td>\n      <td>Male</td>\n    </tr>\n    <tr>\n      <th>24</th>\n      <td>sabrina</td>\n      <td>Other</td>\n      <td>19</td>\n      <td>Female</td>\n    </tr>\n    <tr>\n      <th>25</th>\n      <td>helen</td>\n      <td>Female</td>\n      <td>19</td>\n      <td>Female</td>\n    </tr>\n    <tr>\n      <th>26</th>\n      <td>schuyler</td>\n      <td>Male</td>\n      <td>19</td>\n      <td>Male</td>\n    </tr>\n    <tr>\n      <th>27</th>\n      <td>joyce</td>\n      <td>Female</td>\n      <td>18</td>\n      <td>Female</td>\n    </tr>\n    <tr>\n      <th>28</th>\n      <td>armaan</td>\n      <td>Male</td>\n      <td>21</td>\n      <td>Male</td>\n    </tr>\n    <tr>\n      <th>29</th>\n      <td>sophia</td>\n      <td>Female</td>\n      <td>19</td>\n      <td>Female</td>\n    </tr>\n  </tbody>\n</table>\n</div>"
     },
     "metadata": {}
    }
   ]
  },
  {
   "cell_type": "code",
   "metadata": {
    "tags": [],
    "cell_id": "00024-6a5e953f-94cf-44fc-8d90-607cd0155e1e",
    "output_cleared": false,
    "deepnote_to_be_reexecuted": false,
    "source_hash": "b514d63c",
    "execution_start": 1622070022007,
    "execution_millis": 14,
    "deepnote_cell_type": "code"
   },
   "source": "# drop the names that are not in the SSA dataset, indicated by the value 'nan' in the 'inferred sex' column\nresponses = responses.dropna()\nresponses",
   "execution_count": 74,
   "outputs": [
    {
     "output_type": "execute_result",
     "execution_count": 74,
     "data": {
      "application/vnd.deepnote.dataframe.v2+json": {
       "row_count": 27,
       "column_count": 4,
       "columns": [
        {
         "name": "name",
         "dtype": "object",
         "stats": {
          "unique_count": 26,
          "nan_count": 0,
          "categories": [
           {
            "name": "sophia",
            "count": 2
           },
           {
            "name": "joanne",
            "count": 1
           },
           {
            "name": "24 others",
            "count": 24
           }
          ]
         }
        },
        {
         "name": "sex",
         "dtype": "object",
         "stats": {
          "unique_count": 3,
          "nan_count": 0,
          "categories": [
           {
            "name": "Female",
            "count": 14
           },
           {
            "name": "Male",
            "count": 11
           },
           {
            "name": "Other",
            "count": 2
           }
          ]
         }
        },
        {
         "name": "age",
         "dtype": "int64",
         "stats": {
          "unique_count": 5,
          "nan_count": 0,
          "min": "18",
          "max": "22",
          "histogram": [
           {
            "bin_start": 18,
            "bin_end": 18.4,
            "count": 2
           },
           {
            "bin_start": 18.4,
            "bin_end": 18.8,
            "count": 0
           },
           {
            "bin_start": 18.8,
            "bin_end": 19.2,
            "count": 7
           },
           {
            "bin_start": 19.2,
            "bin_end": 19.6,
            "count": 0
           },
           {
            "bin_start": 19.6,
            "bin_end": 20,
            "count": 0
           },
           {
            "bin_start": 20,
            "bin_end": 20.4,
            "count": 8
           },
           {
            "bin_start": 20.4,
            "bin_end": 20.8,
            "count": 0
           },
           {
            "bin_start": 20.8,
            "bin_end": 21.2,
            "count": 7
           },
           {
            "bin_start": 21.2,
            "bin_end": 21.6,
            "count": 0
           },
           {
            "bin_start": 21.6,
            "bin_end": 22,
            "count": 3
           }
          ]
         }
        },
        {
         "name": "inferred sex",
         "dtype": "object",
         "stats": {
          "unique_count": 2,
          "nan_count": 0,
          "categories": [
           {
            "name": "Female",
            "count": 16
           },
           {
            "name": "Male",
            "count": 11
           }
          ]
         }
        },
        {
         "name": "_deepnote_index_column",
         "dtype": "int64"
        }
       ],
       "rows_top": [
        {
         "name": "joanne",
         "sex": "Female",
         "age": 19,
         "inferred sex": "Female",
         "_deepnote_index_column": 0
        },
        {
         "name": "alex",
         "sex": "Male",
         "age": 20,
         "inferred sex": "Male",
         "_deepnote_index_column": 1
        },
        {
         "name": "kiara",
         "sex": "Female",
         "age": 20,
         "inferred sex": "Female",
         "_deepnote_index_column": 2
        },
        {
         "name": "haoyu",
         "sex": "Male",
         "age": 19,
         "inferred sex": "Male",
         "_deepnote_index_column": 5
        },
        {
         "name": "jennie",
         "sex": "Female",
         "age": 20,
         "inferred sex": "Female",
         "_deepnote_index_column": 7
        },
        {
         "name": "wyatt",
         "sex": "Male",
         "age": 22,
         "inferred sex": "Male",
         "_deepnote_index_column": 8
        },
        {
         "name": "megan",
         "sex": "Female",
         "age": 21,
         "inferred sex": "Female",
         "_deepnote_index_column": 9
        },
        {
         "name": "hannah",
         "sex": "Female",
         "age": 20,
         "inferred sex": "Female",
         "_deepnote_index_column": 10
        },
        {
         "name": "frances",
         "sex": "Female",
         "age": 21,
         "inferred sex": "Female",
         "_deepnote_index_column": 11
        },
        {
         "name": "tyler",
         "sex": "Male",
         "age": 20,
         "inferred sex": "Male",
         "_deepnote_index_column": 12
        },
        {
         "name": "anna",
         "sex": "Female",
         "age": 18,
         "inferred sex": "Female",
         "_deepnote_index_column": 13
        },
        {
         "name": "cj",
         "sex": "Male",
         "age": 20,
         "inferred sex": "Male",
         "_deepnote_index_column": 14
        },
        {
         "name": "jake",
         "sex": "Male",
         "age": 20,
         "inferred sex": "Male",
         "_deepnote_index_column": 15
        },
        {
         "name": "shail",
         "sex": "Male",
         "age": 21,
         "inferred sex": "Male",
         "_deepnote_index_column": 16
        },
        {
         "name": "aaron",
         "sex": "Male",
         "age": 20,
         "inferred sex": "Male",
         "_deepnote_index_column": 17
        },
        {
         "name": "sophia",
         "sex": "Female",
         "age": 22,
         "inferred sex": "Female",
         "_deepnote_index_column": 18
        },
        {
         "name": "laila",
         "sex": "Female",
         "age": 21,
         "inferred sex": "Female",
         "_deepnote_index_column": 19
        },
        {
         "name": "armine",
         "sex": "Other",
         "age": 22,
         "inferred sex": "Female",
         "_deepnote_index_column": 20
        },
        {
         "name": "stephanie",
         "sex": "Female",
         "age": 21,
         "inferred sex": "Female",
         "_deepnote_index_column": 21
        },
        {
         "name": "claudea",
         "sex": "Female",
         "age": 19,
         "inferred sex": "Female",
         "_deepnote_index_column": 22
        },
        {
         "name": "roshan",
         "sex": "Male",
         "age": 21,
         "inferred sex": "Male",
         "_deepnote_index_column": 23
        },
        {
         "name": "sabrina",
         "sex": "Other",
         "age": 19,
         "inferred sex": "Female",
         "_deepnote_index_column": 24
        },
        {
         "name": "helen",
         "sex": "Female",
         "age": 19,
         "inferred sex": "Female",
         "_deepnote_index_column": 25
        },
        {
         "name": "schuyler",
         "sex": "Male",
         "age": 19,
         "inferred sex": "Male",
         "_deepnote_index_column": 26
        },
        {
         "name": "joyce",
         "sex": "Female",
         "age": 18,
         "inferred sex": "Female",
         "_deepnote_index_column": 27
        },
        {
         "name": "armaan",
         "sex": "Male",
         "age": 21,
         "inferred sex": "Male",
         "_deepnote_index_column": 28
        },
        {
         "name": "sophia",
         "sex": "Female",
         "age": 19,
         "inferred sex": "Female",
         "_deepnote_index_column": 29
        }
       ],
       "rows_bottom": null
      },
      "text/plain": "         name     sex  age inferred sex\n0      joanne  Female   19       Female\n1        alex    Male   20         Male\n2       kiara  Female   20       Female\n5       haoyu    Male   19         Male\n7      jennie  Female   20       Female\n8       wyatt    Male   22         Male\n9       megan  Female   21       Female\n10     hannah  Female   20       Female\n11    frances  Female   21       Female\n12      tyler    Male   20         Male\n13       anna  Female   18       Female\n14         cj    Male   20         Male\n15       jake    Male   20         Male\n16      shail    Male   21         Male\n17      aaron    Male   20         Male\n18     sophia  Female   22       Female\n19      laila  Female   21       Female\n20     armine   Other   22       Female\n21  stephanie  Female   21       Female\n22    claudea  Female   19       Female\n23     roshan    Male   21         Male\n24    sabrina   Other   19       Female\n25      helen  Female   19       Female\n26   schuyler    Male   19         Male\n27      joyce  Female   18       Female\n28     armaan    Male   21         Male\n29     sophia  Female   19       Female",
      "text/html": "<div>\n<style scoped>\n    .dataframe tbody tr th:only-of-type {\n        vertical-align: middle;\n    }\n\n    .dataframe tbody tr th {\n        vertical-align: top;\n    }\n\n    .dataframe thead th {\n        text-align: right;\n    }\n</style>\n<table border=\"1\" class=\"dataframe\">\n  <thead>\n    <tr style=\"text-align: right;\">\n      <th></th>\n      <th>name</th>\n      <th>sex</th>\n      <th>age</th>\n      <th>inferred sex</th>\n    </tr>\n  </thead>\n  <tbody>\n    <tr>\n      <th>0</th>\n      <td>joanne</td>\n      <td>Female</td>\n      <td>19</td>\n      <td>Female</td>\n    </tr>\n    <tr>\n      <th>1</th>\n      <td>alex</td>\n      <td>Male</td>\n      <td>20</td>\n      <td>Male</td>\n    </tr>\n    <tr>\n      <th>2</th>\n      <td>kiara</td>\n      <td>Female</td>\n      <td>20</td>\n      <td>Female</td>\n    </tr>\n    <tr>\n      <th>5</th>\n      <td>haoyu</td>\n      <td>Male</td>\n      <td>19</td>\n      <td>Male</td>\n    </tr>\n    <tr>\n      <th>7</th>\n      <td>jennie</td>\n      <td>Female</td>\n      <td>20</td>\n      <td>Female</td>\n    </tr>\n    <tr>\n      <th>8</th>\n      <td>wyatt</td>\n      <td>Male</td>\n      <td>22</td>\n      <td>Male</td>\n    </tr>\n    <tr>\n      <th>9</th>\n      <td>megan</td>\n      <td>Female</td>\n      <td>21</td>\n      <td>Female</td>\n    </tr>\n    <tr>\n      <th>10</th>\n      <td>hannah</td>\n      <td>Female</td>\n      <td>20</td>\n      <td>Female</td>\n    </tr>\n    <tr>\n      <th>11</th>\n      <td>frances</td>\n      <td>Female</td>\n      <td>21</td>\n      <td>Female</td>\n    </tr>\n    <tr>\n      <th>12</th>\n      <td>tyler</td>\n      <td>Male</td>\n      <td>20</td>\n      <td>Male</td>\n    </tr>\n    <tr>\n      <th>13</th>\n      <td>anna</td>\n      <td>Female</td>\n      <td>18</td>\n      <td>Female</td>\n    </tr>\n    <tr>\n      <th>14</th>\n      <td>cj</td>\n      <td>Male</td>\n      <td>20</td>\n      <td>Male</td>\n    </tr>\n    <tr>\n      <th>15</th>\n      <td>jake</td>\n      <td>Male</td>\n      <td>20</td>\n      <td>Male</td>\n    </tr>\n    <tr>\n      <th>16</th>\n      <td>shail</td>\n      <td>Male</td>\n      <td>21</td>\n      <td>Male</td>\n    </tr>\n    <tr>\n      <th>17</th>\n      <td>aaron</td>\n      <td>Male</td>\n      <td>20</td>\n      <td>Male</td>\n    </tr>\n    <tr>\n      <th>18</th>\n      <td>sophia</td>\n      <td>Female</td>\n      <td>22</td>\n      <td>Female</td>\n    </tr>\n    <tr>\n      <th>19</th>\n      <td>laila</td>\n      <td>Female</td>\n      <td>21</td>\n      <td>Female</td>\n    </tr>\n    <tr>\n      <th>20</th>\n      <td>armine</td>\n      <td>Other</td>\n      <td>22</td>\n      <td>Female</td>\n    </tr>\n    <tr>\n      <th>21</th>\n      <td>stephanie</td>\n      <td>Female</td>\n      <td>21</td>\n      <td>Female</td>\n    </tr>\n    <tr>\n      <th>22</th>\n      <td>claudea</td>\n      <td>Female</td>\n      <td>19</td>\n      <td>Female</td>\n    </tr>\n    <tr>\n      <th>23</th>\n      <td>roshan</td>\n      <td>Male</td>\n      <td>21</td>\n      <td>Male</td>\n    </tr>\n    <tr>\n      <th>24</th>\n      <td>sabrina</td>\n      <td>Other</td>\n      <td>19</td>\n      <td>Female</td>\n    </tr>\n    <tr>\n      <th>25</th>\n      <td>helen</td>\n      <td>Female</td>\n      <td>19</td>\n      <td>Female</td>\n    </tr>\n    <tr>\n      <th>26</th>\n      <td>schuyler</td>\n      <td>Male</td>\n      <td>19</td>\n      <td>Male</td>\n    </tr>\n    <tr>\n      <th>27</th>\n      <td>joyce</td>\n      <td>Female</td>\n      <td>18</td>\n      <td>Female</td>\n    </tr>\n    <tr>\n      <th>28</th>\n      <td>armaan</td>\n      <td>Male</td>\n      <td>21</td>\n      <td>Male</td>\n    </tr>\n    <tr>\n      <th>29</th>\n      <td>sophia</td>\n      <td>Female</td>\n      <td>19</td>\n      <td>Female</td>\n    </tr>\n  </tbody>\n</table>\n</div>"
     },
     "metadata": {}
    }
   ]
  },
  {
   "cell_type": "code",
   "metadata": {
    "tags": [],
    "cell_id": "00013-354967a3-a30a-45da-ab19-b795ff15ca68",
    "output_cleared": false,
    "deepnote_to_be_reexecuted": false,
    "source_hash": "b465fdec",
    "execution_start": 1622070022016,
    "execution_millis": 61,
    "deepnote_cell_type": "code"
   },
   "source": "# What does the INFERRED sex distribution look like?\nresponses['inferred sex'].value_counts()",
   "execution_count": 75,
   "outputs": [
    {
     "output_type": "execute_result",
     "execution_count": 75,
     "data": {
      "text/plain": "Female    16\nMale      11\nName: inferred sex, dtype: int64"
     },
     "metadata": {}
    }
   ]
  },
  {
   "cell_type": "code",
   "metadata": {
    "tags": [],
    "cell_id": "00018-b30a51d6-50cf-45aa-8c2c-a00fc2eeb700",
    "output_cleared": false,
    "deepnote_to_be_reexecuted": false,
    "source_hash": "7fe37122",
    "execution_start": 1622070022064,
    "execution_millis": 13,
    "deepnote_cell_type": "code"
   },
   "source": "# How does that compare to the ACTUAL sex distribution? [Take volunteers to describe results]\n# Things you want to point out are: 1) Same number of males, 2) Different number of categories,\n# 3) We can assume that at least 2 people do not identify as the sex they were assigned\nresponses['sex'].value_counts()",
   "execution_count": 76,
   "outputs": [
    {
     "output_type": "execute_result",
     "execution_count": 76,
     "data": {
      "text/plain": "Female    14\nMale      11\nOther      2\nName: sex, dtype: int64"
     },
     "metadata": {}
    }
   ]
  },
  {
   "cell_type": "markdown",
   "source": "### Discussion Question 1: In what ways can data be unethical? Think about the type of data, its source, how it was actually collected, and what it was used for.",
   "metadata": {
    "tags": [],
    "cell_id": "00023-62558cb7-9f23-4418-86bf-7714a694652f",
    "output_cleared": false,
    "deepnote_cell_type": "markdown"
   }
  },
  {
   "cell_type": "markdown",
   "source": "### Discussion Question 2: What can data scientists do to produce ethical data?",
   "metadata": {
    "tags": [],
    "cell_id": "00024-484584d3-06db-49ac-9e81-810aa12ed651",
    "output_cleared": false,
    "deepnote_cell_type": "markdown"
   }
  },
  {
   "cell_type": "code",
   "metadata": {
    "tags": [],
    "cell_id": "00019-8bc984bb-d10d-4800-85b2-05817362c866",
    "output_cleared": false,
    "deepnote_to_be_reexecuted": false,
    "source_hash": "84eef33",
    "execution_start": 1622070022065,
    "execution_millis": 13,
    "deepnote_cell_type": "code"
   },
   "source": "# How accurate were our sex inferences?\nresponses['correct sex guesses'] = (responses['sex'] == responses['inferred sex'])\nincorrect_sexes = (responses['correct sex guesses'] == False).sum()\nprint(\"number of incorrect sex inferences: {}\".format(incorrect_sexes))\nprint(\"number of particpants: {}\".format(len(responses)))\nprint(\"accuracy: {}%\".format(((len(responses)-incorrect_sexes)/len(responses)*100).round(2)))",
   "execution_count": 77,
   "outputs": [
    {
     "name": "stdout",
     "text": "number of incorrect sex inferences: 2\nnumber of particpants: 27\naccuracy: 92.59%\n",
     "output_type": "stream"
    }
   ]
  },
  {
   "cell_type": "markdown",
   "source": "### Conducting EDA (Part 2: Infer Age From Name)",
   "metadata": {
    "tags": [],
    "cell_id": "00022-fde2074f-62b5-4119-8d13-0cec29f53ff7",
    "output_cleared": false,
    "deepnote_cell_type": "markdown"
   }
  },
  {
   "cell_type": "code",
   "metadata": {
    "tags": [],
    "cell_id": "00014-8f41f99b-98e6-4ebf-b887-210ffc95ecf2",
    "output_cleared": false,
    "deepnote_to_be_reexecuted": false,
    "source_hash": "6f3d7f85",
    "execution_start": 1622070022102,
    "execution_millis": 12635,
    "deepnote_cell_type": "code"
   },
   "source": "# create a dataframe of the average age of individuals with each name\ndef avg_age(group):\n    return 2020 - np.average(group['year'], weights=group['count']).round()\n\navg_age = (babynames.groupby('name').apply(avg_age).rename('avg_age').to_frame())\navg_age.head()",
   "execution_count": 78,
   "outputs": [
    {
     "output_type": "execute_result",
     "execution_count": 78,
     "data": {
      "application/vnd.deepnote.dataframe.v2+json": {
       "row_count": 5,
       "column_count": 1,
       "columns": [
        {
         "name": "avg_age",
         "dtype": "float64",
         "stats": {
          "unique_count": 4,
          "nan_count": 0,
          "min": "2.0",
          "max": "7.0",
          "histogram": [
           {
            "bin_start": 2,
            "bin_end": 2.5,
            "count": 1
           },
           {
            "bin_start": 2.5,
            "bin_end": 3,
            "count": 0
           },
           {
            "bin_start": 3,
            "bin_end": 3.5,
            "count": 1
           },
           {
            "bin_start": 3.5,
            "bin_end": 4,
            "count": 0
           },
           {
            "bin_start": 4,
            "bin_end": 4.5,
            "count": 0
           },
           {
            "bin_start": 4.5,
            "bin_end": 5,
            "count": 0
           },
           {
            "bin_start": 5,
            "bin_end": 5.5,
            "count": 0
           },
           {
            "bin_start": 5.5,
            "bin_end": 6,
            "count": 0
           },
           {
            "bin_start": 6,
            "bin_end": 6.5,
            "count": 2
           },
           {
            "bin_start": 6.5,
            "bin_end": 7,
            "count": 1
           }
          ]
         }
        },
        {
         "name": "_deepnote_index_column",
         "dtype": "object"
        }
       ],
       "rows_top": [
        {
         "avg_age": 6,
         "_deepnote_index_column": "aaban"
        },
        {
         "avg_age": 6,
         "_deepnote_index_column": "aabha"
        },
        {
         "avg_age": 7,
         "_deepnote_index_column": "aabid"
        },
        {
         "avg_age": 2,
         "_deepnote_index_column": "aabidah"
        },
        {
         "avg_age": 3,
         "_deepnote_index_column": "aabir"
        }
       ],
       "rows_bottom": null
      },
      "text/plain": "         avg_age\nname            \naaban        6.0\naabha        6.0\naabid        7.0\naabidah      2.0\naabir        3.0",
      "text/html": "<div>\n<style scoped>\n    .dataframe tbody tr th:only-of-type {\n        vertical-align: middle;\n    }\n\n    .dataframe tbody tr th {\n        vertical-align: top;\n    }\n\n    .dataframe thead th {\n        text-align: right;\n    }\n</style>\n<table border=\"1\" class=\"dataframe\">\n  <thead>\n    <tr style=\"text-align: right;\">\n      <th></th>\n      <th>avg_age</th>\n    </tr>\n    <tr>\n      <th>name</th>\n      <th></th>\n    </tr>\n  </thead>\n  <tbody>\n    <tr>\n      <th>aaban</th>\n      <td>6.0</td>\n    </tr>\n    <tr>\n      <th>aabha</th>\n      <td>6.0</td>\n    </tr>\n    <tr>\n      <th>aabid</th>\n      <td>7.0</td>\n    </tr>\n    <tr>\n      <th>aabidah</th>\n      <td>2.0</td>\n    </tr>\n    <tr>\n      <th>aabir</th>\n      <td>3.0</td>\n    </tr>\n  </tbody>\n</table>\n</div>"
     },
     "metadata": {}
    }
   ]
  },
  {
   "cell_type": "code",
   "metadata": {
    "tags": [],
    "cell_id": "00024-41497e8a-d49a-4920-b51b-a0f041f2597b",
    "output_cleared": false,
    "deepnote_to_be_reexecuted": false,
    "source_hash": "95dbbc51",
    "execution_start": 1622070034750,
    "execution_millis": 16,
    "deepnote_cell_type": "code"
   },
   "source": "# create a function to infer the age of participant, based on name\ndef age_from_name(name):\n    if name in avg_age.index:\n        return avg_age.loc[name, 'avg_age']\n    else:\n        return 0\n\nage_from_name('claudea')",
   "execution_count": 79,
   "outputs": [
    {
     "output_type": "execute_result",
     "execution_count": 79,
     "data": {
      "text/plain": "68.0"
     },
     "metadata": {}
    }
   ]
  },
  {
   "cell_type": "code",
   "metadata": {
    "tags": [],
    "cell_id": "00025-df68f00f-7fa8-427a-8d85-52f764c3fcb7",
    "output_cleared": false,
    "deepnote_to_be_reexecuted": false,
    "source_hash": "1d2733f2",
    "execution_start": 1622070034777,
    "execution_millis": 18,
    "deepnote_cell_type": "code"
   },
   "source": "# apply the age_from_name function to create a column of the age inferences in our own dataset\nresponses['inferred age'] = responses['name'].apply(age_from_name) * 1\nresponses = responses.drop(['inferred sex', 'correct sex guesses'], axis=1)\nresponses",
   "execution_count": 80,
   "outputs": [
    {
     "output_type": "execute_result",
     "execution_count": 80,
     "data": {
      "application/vnd.deepnote.dataframe.v2+json": {
       "row_count": 27,
       "column_count": 4,
       "columns": [
        {
         "name": "name",
         "dtype": "object",
         "stats": {
          "unique_count": 26,
          "nan_count": 0,
          "categories": [
           {
            "name": "sophia",
            "count": 2
           },
           {
            "name": "joanne",
            "count": 1
           },
           {
            "name": "24 others",
            "count": 24
           }
          ]
         }
        },
        {
         "name": "sex",
         "dtype": "object",
         "stats": {
          "unique_count": 3,
          "nan_count": 0,
          "categories": [
           {
            "name": "Female",
            "count": 14
           },
           {
            "name": "Male",
            "count": 11
           },
           {
            "name": "Other",
            "count": 2
           }
          ]
         }
        },
        {
         "name": "age",
         "dtype": "int64",
         "stats": {
          "unique_count": 5,
          "nan_count": 0,
          "min": "18",
          "max": "22",
          "histogram": [
           {
            "bin_start": 18,
            "bin_end": 18.4,
            "count": 2
           },
           {
            "bin_start": 18.4,
            "bin_end": 18.8,
            "count": 0
           },
           {
            "bin_start": 18.8,
            "bin_end": 19.2,
            "count": 7
           },
           {
            "bin_start": 19.2,
            "bin_end": 19.6,
            "count": 0
           },
           {
            "bin_start": 19.6,
            "bin_end": 20,
            "count": 0
           },
           {
            "bin_start": 20,
            "bin_end": 20.4,
            "count": 8
           },
           {
            "bin_start": 20.4,
            "bin_end": 20.8,
            "count": 0
           },
           {
            "bin_start": 20.8,
            "bin_end": 21.2,
            "count": 7
           },
           {
            "bin_start": 21.2,
            "bin_end": 21.6,
            "count": 0
           },
           {
            "bin_start": 21.6,
            "bin_end": 22,
            "count": 3
           }
          ]
         }
        },
        {
         "name": "inferred age",
         "dtype": "float64",
         "stats": {
          "unique_count": 22,
          "nan_count": 0,
          "min": "4.0",
          "max": "92.0",
          "histogram": [
           {
            "bin_start": 4,
            "bin_end": 12.8,
            "count": 2
           },
           {
            "bin_start": 12.8,
            "bin_end": 21.6,
            "count": 8
           },
           {
            "bin_start": 21.6,
            "bin_end": 30.400000000000002,
            "count": 4
           },
           {
            "bin_start": 30.400000000000002,
            "bin_end": 39.2,
            "count": 5
           },
           {
            "bin_start": 39.2,
            "bin_end": 48,
            "count": 1
           },
           {
            "bin_start": 48,
            "bin_end": 56.800000000000004,
            "count": 0
           },
           {
            "bin_start": 56.800000000000004,
            "bin_end": 65.60000000000001,
            "count": 0
           },
           {
            "bin_start": 65.60000000000001,
            "bin_end": 74.4,
            "count": 4
           },
           {
            "bin_start": 74.4,
            "bin_end": 83.2,
            "count": 0
           },
           {
            "bin_start": 83.2,
            "bin_end": 92,
            "count": 3
           }
          ]
         }
        },
        {
         "name": "_deepnote_index_column",
         "dtype": "int64"
        }
       ],
       "rows_top": [
        {
         "name": "joanne",
         "sex": "Female",
         "age": 19,
         "inferred age": 68,
         "_deepnote_index_column": 0
        },
        {
         "name": "alex",
         "sex": "Male",
         "age": 20,
         "inferred age": 34,
         "_deepnote_index_column": 1
        },
        {
         "name": "kiara",
         "sex": "Female",
         "age": 20,
         "inferred age": 18,
         "_deepnote_index_column": 2
        },
        {
         "name": "haoyu",
         "sex": "Male",
         "age": 19,
         "inferred age": 4,
         "_deepnote_index_column": 5
        },
        {
         "name": "jennie",
         "sex": "Female",
         "age": 20,
         "inferred age": 91,
         "_deepnote_index_column": 7
        },
        {
         "name": "wyatt",
         "sex": "Male",
         "age": 22,
         "inferred age": 13,
         "_deepnote_index_column": 8
        },
        {
         "name": "megan",
         "sex": "Female",
         "age": 21,
         "inferred age": 29,
         "_deepnote_index_column": 9
        },
        {
         "name": "hannah",
         "sex": "Female",
         "age": 20,
         "inferred age": 24,
         "_deepnote_index_column": 10
        },
        {
         "name": "frances",
         "sex": "Female",
         "age": 21,
         "inferred age": 87,
         "_deepnote_index_column": 11
        },
        {
         "name": "tyler",
         "sex": "Male",
         "age": 20,
         "inferred age": 23,
         "_deepnote_index_column": 12
        },
        {
         "name": "anna",
         "sex": "Female",
         "age": 18,
         "inferred age": 71,
         "_deepnote_index_column": 13
        },
        {
         "name": "cj",
         "sex": "Male",
         "age": 20,
         "inferred age": 19,
         "_deepnote_index_column": 14
        },
        {
         "name": "jake",
         "sex": "Male",
         "age": 20,
         "inferred age": 28,
         "_deepnote_index_column": 15
        },
        {
         "name": "shail",
         "sex": "Male",
         "age": 21,
         "inferred age": 13,
         "_deepnote_index_column": 16
        },
        {
         "name": "aaron",
         "sex": "Male",
         "age": 20,
         "inferred age": 32,
         "_deepnote_index_column": 17
        },
        {
         "name": "sophia",
         "sex": "Female",
         "age": 22,
         "inferred age": 17,
         "_deepnote_index_column": 18
        },
        {
         "name": "laila",
         "sex": "Female",
         "age": 21,
         "inferred age": 13,
         "_deepnote_index_column": 19
        },
        {
         "name": "armine",
         "sex": "Other",
         "age": 22,
         "inferred age": 43,
         "_deepnote_index_column": 20
        },
        {
         "name": "stephanie",
         "sex": "Female",
         "age": 21,
         "inferred age": 39,
         "_deepnote_index_column": 21
        },
        {
         "name": "claudea",
         "sex": "Female",
         "age": 19,
         "inferred age": 68,
         "_deepnote_index_column": 22
        },
        {
         "name": "roshan",
         "sex": "Male",
         "age": 21,
         "inferred age": 20,
         "_deepnote_index_column": 23
        },
        {
         "name": "sabrina",
         "sex": "Other",
         "age": 19,
         "inferred age": 32,
         "_deepnote_index_column": 24
        },
        {
         "name": "helen",
         "sex": "Female",
         "age": 19,
         "inferred age": 92,
         "_deepnote_index_column": 25
        },
        {
         "name": "schuyler",
         "sex": "Male",
         "age": 19,
         "inferred age": 36,
         "_deepnote_index_column": 26
        },
        {
         "name": "joyce",
         "sex": "Female",
         "age": 18,
         "inferred age": 74,
         "_deepnote_index_column": 27
        },
        {
         "name": "armaan",
         "sex": "Male",
         "age": 21,
         "inferred age": 10,
         "_deepnote_index_column": 28
        },
        {
         "name": "sophia",
         "sex": "Female",
         "age": 19,
         "inferred age": 17,
         "_deepnote_index_column": 29
        }
       ],
       "rows_bottom": null
      },
      "text/plain": "         name     sex  age  inferred age\n0      joanne  Female   19          68.0\n1        alex    Male   20          34.0\n2       kiara  Female   20          18.0\n5       haoyu    Male   19           4.0\n7      jennie  Female   20          91.0\n8       wyatt    Male   22          13.0\n9       megan  Female   21          29.0\n10     hannah  Female   20          24.0\n11    frances  Female   21          87.0\n12      tyler    Male   20          23.0\n13       anna  Female   18          71.0\n14         cj    Male   20          19.0\n15       jake    Male   20          28.0\n16      shail    Male   21          13.0\n17      aaron    Male   20          32.0\n18     sophia  Female   22          17.0\n19      laila  Female   21          13.0\n20     armine   Other   22          43.0\n21  stephanie  Female   21          39.0\n22    claudea  Female   19          68.0\n23     roshan    Male   21          20.0\n24    sabrina   Other   19          32.0\n25      helen  Female   19          92.0\n26   schuyler    Male   19          36.0\n27      joyce  Female   18          74.0\n28     armaan    Male   21          10.0\n29     sophia  Female   19          17.0",
      "text/html": "<div>\n<style scoped>\n    .dataframe tbody tr th:only-of-type {\n        vertical-align: middle;\n    }\n\n    .dataframe tbody tr th {\n        vertical-align: top;\n    }\n\n    .dataframe thead th {\n        text-align: right;\n    }\n</style>\n<table border=\"1\" class=\"dataframe\">\n  <thead>\n    <tr style=\"text-align: right;\">\n      <th></th>\n      <th>name</th>\n      <th>sex</th>\n      <th>age</th>\n      <th>inferred age</th>\n    </tr>\n  </thead>\n  <tbody>\n    <tr>\n      <th>0</th>\n      <td>joanne</td>\n      <td>Female</td>\n      <td>19</td>\n      <td>68.0</td>\n    </tr>\n    <tr>\n      <th>1</th>\n      <td>alex</td>\n      <td>Male</td>\n      <td>20</td>\n      <td>34.0</td>\n    </tr>\n    <tr>\n      <th>2</th>\n      <td>kiara</td>\n      <td>Female</td>\n      <td>20</td>\n      <td>18.0</td>\n    </tr>\n    <tr>\n      <th>5</th>\n      <td>haoyu</td>\n      <td>Male</td>\n      <td>19</td>\n      <td>4.0</td>\n    </tr>\n    <tr>\n      <th>7</th>\n      <td>jennie</td>\n      <td>Female</td>\n      <td>20</td>\n      <td>91.0</td>\n    </tr>\n    <tr>\n      <th>8</th>\n      <td>wyatt</td>\n      <td>Male</td>\n      <td>22</td>\n      <td>13.0</td>\n    </tr>\n    <tr>\n      <th>9</th>\n      <td>megan</td>\n      <td>Female</td>\n      <td>21</td>\n      <td>29.0</td>\n    </tr>\n    <tr>\n      <th>10</th>\n      <td>hannah</td>\n      <td>Female</td>\n      <td>20</td>\n      <td>24.0</td>\n    </tr>\n    <tr>\n      <th>11</th>\n      <td>frances</td>\n      <td>Female</td>\n      <td>21</td>\n      <td>87.0</td>\n    </tr>\n    <tr>\n      <th>12</th>\n      <td>tyler</td>\n      <td>Male</td>\n      <td>20</td>\n      <td>23.0</td>\n    </tr>\n    <tr>\n      <th>13</th>\n      <td>anna</td>\n      <td>Female</td>\n      <td>18</td>\n      <td>71.0</td>\n    </tr>\n    <tr>\n      <th>14</th>\n      <td>cj</td>\n      <td>Male</td>\n      <td>20</td>\n      <td>19.0</td>\n    </tr>\n    <tr>\n      <th>15</th>\n      <td>jake</td>\n      <td>Male</td>\n      <td>20</td>\n      <td>28.0</td>\n    </tr>\n    <tr>\n      <th>16</th>\n      <td>shail</td>\n      <td>Male</td>\n      <td>21</td>\n      <td>13.0</td>\n    </tr>\n    <tr>\n      <th>17</th>\n      <td>aaron</td>\n      <td>Male</td>\n      <td>20</td>\n      <td>32.0</td>\n    </tr>\n    <tr>\n      <th>18</th>\n      <td>sophia</td>\n      <td>Female</td>\n      <td>22</td>\n      <td>17.0</td>\n    </tr>\n    <tr>\n      <th>19</th>\n      <td>laila</td>\n      <td>Female</td>\n      <td>21</td>\n      <td>13.0</td>\n    </tr>\n    <tr>\n      <th>20</th>\n      <td>armine</td>\n      <td>Other</td>\n      <td>22</td>\n      <td>43.0</td>\n    </tr>\n    <tr>\n      <th>21</th>\n      <td>stephanie</td>\n      <td>Female</td>\n      <td>21</td>\n      <td>39.0</td>\n    </tr>\n    <tr>\n      <th>22</th>\n      <td>claudea</td>\n      <td>Female</td>\n      <td>19</td>\n      <td>68.0</td>\n    </tr>\n    <tr>\n      <th>23</th>\n      <td>roshan</td>\n      <td>Male</td>\n      <td>21</td>\n      <td>20.0</td>\n    </tr>\n    <tr>\n      <th>24</th>\n      <td>sabrina</td>\n      <td>Other</td>\n      <td>19</td>\n      <td>32.0</td>\n    </tr>\n    <tr>\n      <th>25</th>\n      <td>helen</td>\n      <td>Female</td>\n      <td>19</td>\n      <td>92.0</td>\n    </tr>\n    <tr>\n      <th>26</th>\n      <td>schuyler</td>\n      <td>Male</td>\n      <td>19</td>\n      <td>36.0</td>\n    </tr>\n    <tr>\n      <th>27</th>\n      <td>joyce</td>\n      <td>Female</td>\n      <td>18</td>\n      <td>74.0</td>\n    </tr>\n    <tr>\n      <th>28</th>\n      <td>armaan</td>\n      <td>Male</td>\n      <td>21</td>\n      <td>10.0</td>\n    </tr>\n    <tr>\n      <th>29</th>\n      <td>sophia</td>\n      <td>Female</td>\n      <td>19</td>\n      <td>17.0</td>\n    </tr>\n  </tbody>\n</table>\n</div>"
     },
     "metadata": {}
    }
   ]
  },
  {
   "cell_type": "code",
   "metadata": {
    "tags": [],
    "cell_id": "00015-d0415cf8-243f-407d-ae6c-8e20326f087f",
    "output_cleared": false,
    "deepnote_to_be_reexecuted": false,
    "source_hash": "421b8cb7",
    "execution_start": 1622070034790,
    "execution_millis": 177,
    "deepnote_cell_type": "code"
   },
   "source": "# histogram of the actual age distribution of the participants\nsns.histplot(responses['age'], bins=(10))\nplt.title('Actual Age Distribution')\nplt.show()",
   "execution_count": 81,
   "outputs": [
    {
     "data": {
      "text/plain": "<Figure size 432x288 with 1 Axes>",
      "image/png": "[encoded data removed]"
     },
     "metadata": {
      "needs_background": "light",
      "image/png": {
       "width": 376,
       "height": 278
      }
     },
     "output_type": "display_data"
    }
   ]
  },
  {
   "cell_type": "code",
   "metadata": {
    "tags": [],
    "cell_id": "00027-9574a7e8-797d-4af3-9198-28360e3430e9",
    "output_cleared": false,
    "deepnote_to_be_reexecuted": false,
    "source_hash": "dcb1b2ba",
    "execution_start": 1622070035009,
    "execution_millis": 229,
    "deepnote_cell_type": "code"
   },
   "source": "# histogram of the inferred age distribution of the participants\nsns.histplot(responses['inferred age'], bins=(20))\nplt.title('Inferred Age Distribution') \nplt.show()",
   "execution_count": 82,
   "outputs": [
    {
     "data": {
      "text/plain": "<Figure size 432x288 with 1 Axes>",
      "image/png": "[encoded data removed]"
     },
     "metadata": {
      "needs_background": "light",
      "image/png": {
       "width": 376,
       "height": 278
      }
     },
     "output_type": "display_data"
    }
   ]
  },
  {
   "cell_type": "code",
   "metadata": {
    "tags": [],
    "cell_id": "00027-79137a95-97b2-429a-b51d-3d090bb5c6dd",
    "output_cleared": false,
    "deepnote_to_be_reexecuted": false,
    "source_hash": "e1158796",
    "execution_start": 1622070035223,
    "execution_millis": 15,
    "deepnote_cell_type": "code"
   },
   "source": "# What is the INFERRED average age?\nresponses['inferred age'].mean()",
   "execution_count": 83,
   "outputs": [
    {
     "output_type": "execute_result",
     "execution_count": 83,
     "data": {
      "text/plain": "37.592592592592595"
     },
     "metadata": {}
    }
   ]
  },
  {
   "cell_type": "code",
   "metadata": {
    "tags": [],
    "cell_id": "00016-e2a20edf-6b14-4df8-ba1b-d8b2c3bdcf6e",
    "output_cleared": false,
    "deepnote_to_be_reexecuted": false,
    "source_hash": "6bb077c2",
    "execution_start": 1622070035224,
    "execution_millis": 14,
    "deepnote_cell_type": "code"
   },
   "source": "# How does that compare to the ACTUAL average age?\nresponses['age'].mean()",
   "execution_count": 84,
   "outputs": [
    {
     "output_type": "execute_result",
     "execution_count": 84,
     "data": {
      "text/plain": "20.074074074074073"
     },
     "metadata": {}
    }
   ]
  },
  {
   "cell_type": "code",
   "metadata": {
    "tags": [],
    "cell_id": "00029-a3afd0ff-9a78-4e06-b067-38c7891dcf66",
    "output_cleared": false,
    "deepnote_to_be_reexecuted": false,
    "source_hash": "771b858b",
    "execution_start": 1622070035226,
    "execution_millis": 14,
    "deepnote_cell_type": "code"
   },
   "source": "# How accurate were our age inferences?\nresponses['correct age guesses'] = (responses['age'] == responses['inferred age'])\nincorrect_ages = (responses['correct age guesses'] == False).sum()\nprint(\"number of incorrect age inferences: {}\".format((responses['correct age guesses'] == False).sum()))\nprint(\"number of particpants: {}\".format(len(responses)))\nprint(\"accuracy: {}%\".format(((len(responses)-incorrect_ages)/len(responses)*100).round(2)))",
   "execution_count": 85,
   "outputs": [
    {
     "name": "stdout",
     "text": "number of incorrect age inferences: 27\nnumber of particpants: 27\naccuracy: 0.0%\n",
     "output_type": "stream"
    }
   ]
  },
  {
   "cell_type": "code",
   "metadata": {
    "tags": [],
    "cell_id": "00031-61d07541-8b36-4799-87ac-20638ba1f336",
    "output_cleared": false,
    "deepnote_to_be_reexecuted": false,
    "source_hash": "60f5dd6d",
    "execution_start": 1622070035230,
    "execution_millis": 183,
    "deepnote_cell_type": "code"
   },
   "source": "# histogram showing the magnitude of how wrong our age inferences were\n# Things to notice: 1) Values are mostly grouped in the lower region, so we were mostly off by about 1 to 20.\nresponses['age difference'] = np.abs(responses['age'] - responses['inferred age'])\nsns.histplot(responses['age difference'], bins=(20))\nplt.title('Error in Age (Actual - Inferred)')\nplt.show();",
   "execution_count": 86,
   "outputs": [
    {
     "data": {
      "text/plain": "<Figure size 432x288 with 1 Axes>",
      "image/png": "[encoded data removed]"
     },
     "metadata": {
      "needs_background": "light",
      "image/png": {
       "width": 376,
       "height": 278
      }
     },
     "output_type": "display_data"
    }
   ]
  },
  {
   "cell_type": "markdown",
   "source": "We completed the third and fourth steps of the data science lifecycle. \n\n1. [x] Formulating a question or problem (What can names tell us about the sex and age distribution of a population?)\n2. [x] Acquiring and cleaning data\n3. [x] Conducting exploratory data analysis (We did this in two parts)\n4. [x] Using prediction and inference to draw conclusions (We did this in two parts)",
   "metadata": {
    "tags": [],
    "cell_id": "00022-519f5e46-44b5-4bac-af82-d5c7f368d893",
    "output_cleared": false,
    "deepnote_cell_type": "markdown"
   }
  },
  {
   "cell_type": "code",
   "metadata": {
    "tags": [],
    "cell_id": "00042-fbe6a312-4c32-4bc9-b9d9-ee7cd05fa26c",
    "output_cleared": false,
    "deepnote_to_be_reexecuted": false,
    "source_hash": "3df3200f",
    "execution_start": 1622070035458,
    "execution_millis": 6231,
    "deepnote_cell_type": "code"
   },
   "source": "# For fun, let's take a look at the history of your name, given your gender. Keep in mind this is only for the US.\nSSA_indexed_names = babynames.set_index('name').sort_values('year')\nsurvey_indexed_names = responses.set_index('name')\n\nfor name, row in survey_indexed_names.iterrows():\n    SSA_row = SSA_indexed_names.loc[[name]]\n    survey_row = survey_indexed_names.loc[[name]]\n    if survey_row['sex'][0]== 'Female':\n        if sex_counts.loc[[name]]['F'].iloc[0] == 1:\n            print(\"There is one female with the name \"+name)\n        else:\n            SSA_row[SSA_row['sex'] == 'F'].plot(x='year', y='count', title=\"Frequency of Name Per Year: ({} total females) \".format(sex_counts.loc[[name]]['F'].iloc[0])+name)\n            plt.rcParams.update({'figure.max_open_warning': 0})\n    elif survey_row['sex'][0] == 'Male':\n        if sex_counts.loc[[name]]['M'].iloc[0] == 1:\n            print(\"There is one male with the name \"+_name)\n        else:\n            SSA_row[SSA_row['sex'] == 'M'].plot(x='year', y='count', title=\"Frequency of Name Per Year: ({} total males) \".format(sex_counts.loc[[name]]['M'].iloc[0])+name)\n            plt.rcParams.update({'figure.max_open_warning': 0})\n    else: print(\"There is no information on the name \"+name+\" and the provided gender identity\");",
   "execution_count": 87,
   "outputs": [
    {
     "name": "stdout",
     "text": "There is no information on the name armine and the provided gender identity\nThere is no information on the name sabrina and the provided gender identity\n",
     "output_type": "stream"
    },
    {
     "data": {
      "text/plain": "<Figure size 432x288 with 1 Axes>",
      "image/png": "[encoded data removed]"
     },
     "metadata": {
      "needs_background": "light",
      "image/png": {
       "width": 393,
       "height": 278
      }
     },
     "output_type": "display_data"
    },
    {
     "data": {
      "text/plain": "<Figure size 432x288 with 1 Axes>",
      "image/png": "[encoded data removed]"
     },
     "metadata": {
      "needs_background": "light",
      "image/png": {
       "width": 381,
       "height": 278
      }
     },
     "output_type": "display_data"
    },
    {
     "data": {
      "text/plain": "<Figure size 432x288 with 1 Axes>",
      "image/png": "[encoded data removed]"
     },
     "metadata": {
      "needs_background": "light",
      "image/png": {
       "width": 384,
       "height": 278
      }
     },
     "output_type": "display_data"
    },
    {
     "data": {
      "text/plain": "<Figure size 432x288 with 1 Axes>",
      "image/png": "[encoded data removed]"
     },
     "metadata": {
      "needs_background": "light",
      "image/png": {
       "width": 372,
       "height": 278
      }
     },
     "output_type": "display_data"
    },
    {
     "data": {
      "text/plain": "<Figure size 432x288 with 1 Axes>",
      "image/png": "[encoded data removed]"
     },
     "metadata": {
      "needs_background": "light",
      "image/png": {
       "width": 391,
       "height": 278
      }
     },
     "output_type": "display_data"
    },
    {
     "data": {
      "text/plain": "<Figure size 432x288 with 1 Axes>",
      "image/png": "[encoded data removed]"
     },
     "metadata": {
      "needs_background": "light",
      "image/png": {
       "width": 390,
       "height": 278
      }
     },
     "output_type": "display_data"
    },
    {
     "data": {
      "text/plain": "<Figure size 432x288 with 1 Axes>",
      "image/png": "[encoded data removed]"
     },
     "metadata": {
      "needs_background": "light",
      "image/png": {
       "width": 400,
       "height": 278
      }
     },
     "output_type": "display_data"
    },
    {
     "data": {
      "text/plain": "<Figure size 432x288 with 1 Axes>",
      "image/png": "[encoded data removed]"
     },
     "metadata": {
      "needs_background": "light",
      "image/png": {
       "width": 402,
       "height": 278
      }
     },
     "output_type": "display_data"
    },
    {
     "data": {
      "text/plain": "<Figure size 432x288 with 1 Axes>",
      "image/png": "[encoded data removed]"
     },
     "metadata": {
      "needs_background": "light",
      "image/png": {
       "width": 401,
       "height": 278
      }
     },
     "output_type": "display_data"
    },
    {
     "data": {
      "text/plain": "<Figure size 432x288 with 1 Axes>",
      "image/png": "[encoded data removed]"
     },
     "metadata": {
      "needs_background": "light",
      "image/png": {
       "width": 387,
       "height": 278
      }
     },
     "output_type": "display_data"
    },
    {
     "data": {
      "text/plain": "<Figure size 432x288 with 1 Axes>",
      "image/png": "[encoded data removed]"
     },
     "metadata": {
      "needs_background": "light",
      "image/png": {
       "width": 394,
       "height": 278
      }
     },
     "output_type": "display_data"
    },
    {
     "data": {
      "text/plain": "<Figure size 432x288 with 1 Axes>",
      "image/png": "[encoded data removed]"
     },
     "metadata": {
      "needs_background": "light",
      "image/png": {
       "width": 372,
       "height": 278
      }
     },
     "output_type": "display_data"
    },
    {
     "data": {
      "text/plain": "<Figure size 432x288 with 1 Axes>",
      "image/png": "[encoded data removed]"
     },
     "metadata": {
      "needs_background": "light",
      "image/png": {
       "width": 381,
       "height": 278
      }
     },
     "output_type": "display_data"
    },
    {
     "data": {
      "text/plain": "<Figure size 432x288 with 1 Axes>",
      "image/png": "[encoded data removed]"
     },
     "metadata": {
      "needs_background": "light",
      "image/png": {
       "width": 368,
       "height": 278
      }
     },
     "output_type": "display_data"
    },
    {
     "data": {
      "text/plain": "<Figure size 432x288 with 1 Axes>",
      "image/png": "[encoded data removed]"
     },
     "metadata": {
      "needs_background": "light",
      "image/png": {
       "width": 391,
       "height": 278
      }
     },
     "output_type": "display_data"
    },
    {
     "data": {
      "text/plain": "<Figure size 432x288 with 1 Axes>",
      "image/png": "[encoded data removed]"
     },
     "metadata": {
      "needs_background": "light",
      "image/png": {
       "width": 399,
       "height": 278
      }
     },
     "output_type": "display_data"
    },
    {
     "data": {
      "text/plain": "<Figure size 432x288 with 1 Axes>",
      "image/png": "[encoded data removed]"
     },
     "metadata": {
      "needs_background": "light",
      "image/png": {
       "width": 382,
       "height": 278
      }
     },
     "output_type": "display_data"
    },
    {
     "data": {
      "text/plain": "<Figure size 432x288 with 1 Axes>",
      "image/png": "[encoded data removed]"
     },
     "metadata": {
      "needs_background": "light",
      "image/png": {
       "width": 409,
       "height": 278
      }
     },
     "output_type": "display_data"
    },
    {
     "data": {
      "text/plain": "<Figure size 432x288 with 1 Axes>",
      "image/png": "[encoded data removed]"
     },
     "metadata": {
      "needs_background": "light",
      "image/png": {
       "width": 372,
       "height": 278
      }
     },
     "output_type": "display_data"
    },
    {
     "data": {
      "text/plain": "<Figure size 432x288 with 1 Axes>",
      "image/png": "[encoded data removed]"
     },
     "metadata": {
      "needs_background": "light",
      "image/png": {
       "width": 372,
       "height": 278
      }
     },
     "output_type": "display_data"
    },
    {
     "data": {
      "text/plain": "<Figure size 432x288 with 1 Axes>",
      "image/png": "[encoded data removed]"
     },
     "metadata": {
      "needs_background": "light",
      "image/png": {
       "width": 400,
       "height": 278
      }
     },
     "output_type": "display_data"
    },
    {
     "data": {
      "text/plain": "<Figure size 432x288 with 1 Axes>",
      "image/png": "[encoded data removed]"
     },
     "metadata": {
      "needs_background": "light",
      "image/png": {
       "width": 379,
       "height": 278
      }
     },
     "output_type": "display_data"
    },
    {
     "data": {
      "text/plain": "<Figure size 432x288 with 1 Axes>",
      "image/png": "[encoded data removed]"
     },
     "metadata": {
      "needs_background": "light",
      "image/png": {
       "width": 395,
       "height": 278
      }
     },
     "output_type": "display_data"
    },
    {
     "data": {
      "text/plain": "<Figure size 432x288 with 1 Axes>",
      "image/png": "[encoded data removed]"
     },
     "metadata": {
      "needs_background": "light",
      "image/png": {
       "width": 383,
       "height": 278
      }
     },
     "output_type": "display_data"
    },
    {
     "data": {
      "text/plain": "<Figure size 432x288 with 1 Axes>",
      "image/png": "[encoded data removed]"
     },
     "metadata": {
      "needs_background": "light",
      "image/png": {
       "width": 399,
       "height": 278
      }
     },
     "output_type": "display_data"
    }
   ]
  },
  {
   "cell_type": "code",
   "metadata": {
    "tags": [],
    "cell_id": "00040-30a536a4-895f-4124-a1f1-ef4a90c0469d",
    "output_cleared": false,
    "deepnote_to_be_reexecuted": false,
    "source_hash": "b28cef39",
    "execution_start": 1622070041794,
    "execution_millis": 21,
    "deepnote_cell_type": "code"
   },
   "source": "# only five claudeas all born in the same year :O\nclaudeas = babynames[babynames['name'] == 'claudea']\nclaudeas",
   "execution_count": 88,
   "outputs": [
    {
     "output_type": "execute_result",
     "execution_count": 88,
     "data": {
      "application/vnd.deepnote.dataframe.v2+json": {
       "row_count": 1,
       "column_count": 4,
       "columns": [
        {
         "name": "name",
         "dtype": "object",
         "stats": {
          "unique_count": 1,
          "nan_count": 0,
          "categories": [
           {
            "name": "claudea",
            "count": 1
           }
          ]
         }
        },
        {
         "name": "sex",
         "dtype": "object",
         "stats": {
          "unique_count": 1,
          "nan_count": 0,
          "categories": [
           {
            "name": "F",
            "count": 1
           }
          ]
         }
        },
        {
         "name": "count",
         "dtype": "int64",
         "stats": {
          "unique_count": 1,
          "nan_count": 0,
          "min": "5",
          "max": "5",
          "histogram": [
           {
            "bin_start": 4.5,
            "bin_end": 4.6,
            "count": 0
           },
           {
            "bin_start": 4.6,
            "bin_end": 4.7,
            "count": 0
           },
           {
            "bin_start": 4.7,
            "bin_end": 4.8,
            "count": 0
           },
           {
            "bin_start": 4.8,
            "bin_end": 4.9,
            "count": 0
           },
           {
            "bin_start": 4.9,
            "bin_end": 5,
            "count": 0
           },
           {
            "bin_start": 5,
            "bin_end": 5.1,
            "count": 1
           },
           {
            "bin_start": 5.1,
            "bin_end": 5.2,
            "count": 0
           },
           {
            "bin_start": 5.2,
            "bin_end": 5.3,
            "count": 0
           },
           {
            "bin_start": 5.3,
            "bin_end": 5.4,
            "count": 0
           },
           {
            "bin_start": 5.4,
            "bin_end": 5.5,
            "count": 0
           }
          ]
         }
        },
        {
         "name": "year",
         "dtype": "int64",
         "stats": {
          "unique_count": 1,
          "nan_count": 0,
          "min": "1952",
          "max": "1952",
          "histogram": [
           {
            "bin_start": 1951.5,
            "bin_end": 1951.6,
            "count": 0
           },
           {
            "bin_start": 1951.6,
            "bin_end": 1951.7,
            "count": 0
           },
           {
            "bin_start": 1951.7,
            "bin_end": 1951.8,
            "count": 0
           },
           {
            "bin_start": 1951.8,
            "bin_end": 1951.9,
            "count": 0
           },
           {
            "bin_start": 1951.9,
            "bin_end": 1952,
            "count": 0
           },
           {
            "bin_start": 1952,
            "bin_end": 1952.1,
            "count": 1
           },
           {
            "bin_start": 1952.1,
            "bin_end": 1952.2,
            "count": 0
           },
           {
            "bin_start": 1952.2,
            "bin_end": 1952.3,
            "count": 0
           },
           {
            "bin_start": 1952.3,
            "bin_end": 1952.4,
            "count": 0
           },
           {
            "bin_start": 1952.4,
            "bin_end": 1952.5,
            "count": 0
           }
          ]
         }
        },
        {
         "name": "_deepnote_index_column",
         "dtype": "int64"
        }
       ],
       "rows_top": [
        {
         "name": "claudea",
         "sex": "F",
         "count": 5,
         "year": 1952,
         "_deepnote_index_column": 5693
        }
       ],
       "rows_bottom": null
      },
      "text/plain": "         name sex  count  year\n5693  claudea   F      5  1952",
      "text/html": "<div>\n<style scoped>\n    .dataframe tbody tr th:only-of-type {\n        vertical-align: middle;\n    }\n\n    .dataframe tbody tr th {\n        vertical-align: top;\n    }\n\n    .dataframe thead th {\n        text-align: right;\n    }\n</style>\n<table border=\"1\" class=\"dataframe\">\n  <thead>\n    <tr style=\"text-align: right;\">\n      <th></th>\n      <th>name</th>\n      <th>sex</th>\n      <th>count</th>\n      <th>year</th>\n    </tr>\n  </thead>\n  <tbody>\n    <tr>\n      <th>5693</th>\n      <td>claudea</td>\n      <td>F</td>\n      <td>5</td>\n      <td>1952</td>\n    </tr>\n  </tbody>\n</table>\n</div>"
     },
     "metadata": {}
    }
   ]
  },
  {
   "cell_type": "markdown",
   "source": "# Thank you for joining us today!!",
   "metadata": {
    "tags": [],
    "cell_id": "00023-901326c2-539d-4fa9-8938-69538660ec8e",
    "output_cleared": false,
    "deepnote_cell_type": "markdown"
   }
  },
  {
   "cell_type": "markdown",
   "source": "#### Here are some readings to get you thinking about data ethics: \n\n1. Kelsey Piper - [The UK used a formula to predict students’ scores for canceled exams. Guess who did well.](https://www.vox.com/future-perfect/2020/8/22/21374872/uk-united-kingdom-formula-predict-student-test-scores-exams)\n2. Shea Swauger - [Our Bodies Encoded: Algorithmic Test Proctoring in Higher Education](https://hybridpedagogy.org/our-bodies-encoded-algorithmic-test-proctoring-in-higher-education/)\n3. Misha Angrist - [Do you belong to you?](http://www.genomemag.com/do-you-belong-to-you/)\n4. Joel Best - [Damned Lies and Statistics p1-29](https://portal.tpu.ru/SHARED/k/KITAEVA/statistics/book/Tab3/damnedstatistics.pdf)",
   "metadata": {
    "tags": [],
    "cell_id": "00037-ccb39ce4-d7c3-4f29-b145-dc08f6a99f6c",
    "output_cleared": false,
    "deepnote_cell_type": "markdown"
   }
  },
  {
   "cell_type": "markdown",
   "source": "<a style='text-decoration:none;line-height:16px;display:flex;color:#5B5B62;padding:10px;justify-content:end;' href='https://deepnote.com?utm_source=created-in-deepnote-cell&projectId=620cc714-dd0a-427f-ad66-c45b15c7ecf6' target=\"_blank\">\n<img alt='Created in deepnote.com' style='display:inline;max-height:16px;margin:0px;margin-right:7.5px;' src='data:image/svg+xml;base64,PD94bWwgdmVyc2lvbj0iMS4wIiBlbmNvZGluZz0iVVRGLTgiPz4KPHN2ZyB3aWR0aD0iODBweCIgaGVpZ2h0PSI4MHB4IiB2aWV3Qm94PSIwIDAgODAgODAiIHZlcnNpb249IjEuMSIgeG1sbnM9Imh0dHA6Ly93d3cudzMub3JnLzIwMDAvc3ZnIiB4bWxuczp4bGluaz0iaHR0cDovL3d3dy53My5vcmcvMTk5OS94bGluayI+CiAgICA8IS0tIEdlbmVyYXRvcjogU2tldGNoIDU0LjEgKDc2NDkwKSAtIGh0dHBzOi8vc2tldGNoYXBwLmNvbSAtLT4KICAgIDx0aXRsZT5Hcm91cCAzPC90aXRsZT4KICAgIDxkZXNjPkNyZWF0ZWQgd2l0aCBTa2V0Y2guPC9kZXNjPgogICAgPGcgaWQ9IkxhbmRpbmciIHN0cm9rZT0ibm9uZSIgc3Ryb2tlLXdpZHRoPSIxIiBmaWxsPSJub25lIiBmaWxsLXJ1bGU9ImV2ZW5vZGQiPgogICAgICAgIDxnIGlkPSJBcnRib2FyZCIgdHJhbnNmb3JtPSJ0cmFuc2xhdGUoLTEyMzUuMDAwMDAwLCAtNzkuMDAwMDAwKSI+CiAgICAgICAgICAgIDxnIGlkPSJHcm91cC0zIiB0cmFuc2Zvcm09InRyYW5zbGF0ZSgxMjM1LjAwMDAwMCwgNzkuMDAwMDAwKSI+CiAgICAgICAgICAgICAgICA8cG9seWdvbiBpZD0iUGF0aC0yMCIgZmlsbD0iIzAyNjVCNCIgcG9pbnRzPSIyLjM3NjIzNzYyIDgwIDM4LjA0NzY2NjcgODAgNTcuODIxNzgyMiA3My44MDU3NTkyIDU3LjgyMTc4MjIgMzIuNzU5MjczOSAzOS4xNDAyMjc4IDMxLjY4MzE2ODMiPjwvcG9seWdvbj4KICAgICAgICAgICAgICAgIDxwYXRoIGQ9Ik0zNS4wMDc3MTgsODAgQzQyLjkwNjIwMDcsNzYuNDU0OTM1OCA0Ny41NjQ5MTY3LDcxLjU0MjI2NzEgNDguOTgzODY2LDY1LjI2MTk5MzkgQzUxLjExMjI4OTksNTUuODQxNTg0MiA0MS42NzcxNzk1LDQ5LjIxMjIyODQgMjUuNjIzOTg0Niw0OS4yMTIyMjg0IEMyNS40ODQ5Mjg5LDQ5LjEyNjg0NDggMjkuODI2MTI5Niw0My4yODM4MjQ4IDM4LjY0NzU4NjksMzEuNjgzMTY4MyBMNzIuODcxMjg3MSwzMi41NTQ0MjUgTDY1LjI4MDk3Myw2Ny42NzYzNDIxIEw1MS4xMTIyODk5LDc3LjM3NjE0NCBMMzUuMDA3NzE4LDgwIFoiIGlkPSJQYXRoLTIyIiBmaWxsPSIjMDAyODY4Ij48L3BhdGg+CiAgICAgICAgICAgICAgICA8cGF0aCBkPSJNMCwzNy43MzA0NDA1IEwyNy4xMTQ1MzcsMC4yNTcxMTE0MzYgQzYyLjM3MTUxMjMsLTEuOTkwNzE3MDEgODAsMTAuNTAwMzkyNyA4MCwzNy43MzA0NDA1IEM4MCw2NC45NjA0ODgyIDY0Ljc3NjUwMzgsNzkuMDUwMzQxNCAzNC4zMjk1MTEzLDgwIEM0Ny4wNTUzNDg5LDc3LjU2NzA4MDggNTMuNDE4MjY3Nyw3MC4zMTM2MTAzIDUzLjQxODI2NzcsNTguMjM5NTg4NSBDNTMuNDE4MjY3Nyw0MC4xMjg1NTU3IDM2LjMwMzk1NDQsMzcuNzMwNDQwNSAyNS4yMjc0MTcsMzcuNzMwNDQwNSBDMTcuODQzMDU4NiwzNy43MzA0NDA1IDkuNDMzOTE5NjYsMzcuNzMwNDQwNSAwLDM3LjczMDQ0MDUgWiIgaWQ9IlBhdGgtMTkiIGZpbGw9IiMzNzkzRUYiPjwvcGF0aD4KICAgICAgICAgICAgPC9nPgogICAgICAgIDwvZz4KICAgIDwvZz4KPC9zdmc+' > </img>\nCreated in <span style='font-weight:600;margin-left:4px;'>Deepnote</span></a>",
   "metadata": {
    "tags": [],
    "created_in_deepnote_cell": true,
    "deepnote_cell_type": "markdown"
   }
  }
 ],
 "nbformat": 4,
 "nbformat_minor": 2,
 "metadata": {
  "kernelspec": {
   "display_name": "Python 3",
   "language": "python",
   "name": "python3"
  },
  "language_info": {
   "codemirror_mode": {
    "name": "ipython",
    "version": 3
   },
   "file_extension": ".py",
   "mimetype": "text/x-python",
   "name": "python",
   "nbconvert_exporter": "python",
   "pygments_lexer": "ipython3",
   "version": "3.6.3"
  },
  "deepnote_notebook_id": "f0aa1051-6647-4c3e-afee-bcad5cd7455c",
  "deepnote_execution_queue": [],
  "deepnote": {}
 }
}